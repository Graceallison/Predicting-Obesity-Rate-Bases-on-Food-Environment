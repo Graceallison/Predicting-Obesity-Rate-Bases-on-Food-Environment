{
 "cells": [
  {
   "cell_type": "markdown",
   "metadata": {},
   "source": [
    "# Predicting-Obesity-Rate-Bases-on-Food-Environment"
   ]
  },
  {
   "cell_type": "markdown",
   "metadata": {},
   "source": [
    "## Imports "
   ]
  },
  {
   "cell_type": "code",
   "execution_count": 1,
   "metadata": {},
   "outputs": [],
   "source": [
    "import pandas as pd\n",
    "import numpy as np\n",
    "from pandas import Series, DataFrame\n",
    "import numpy as np\n",
    "import pandas as pd\n",
    "import matplotlib.pyplot as plt\n",
    "import seaborn as sns\n",
    "from sklearn.preprocessing import StandardScaler\n",
    "from sklearn import metrics\n",
    "from sklearn.linear_model import LinearRegression\n",
    "from sklearn.model_selection import train_test_split\n",
    "from sklearn.metrics import mean_squared_error\n",
    "from sklearn.dummy import DummyRegressor"
   ]
  },
  {
   "cell_type": "markdown",
   "metadata": {},
   "source": [
    "## Problem Statement"
   ]
  },
  {
   "cell_type": "markdown",
   "metadata": {},
   "source": [
    "The question we am seeking to answer is whether the number of healthy food stores available in each county can predict the obesity rate. We found data on food deserts from the United States Department of Agriculture. In order to see the relationships between a person's food environment and obesity, the data set consists of the availability of the number of grocery stores, fast food restaurants, and full-service restaurants. Look at which observations have the greatest impact on obesity rates. "
   ]
  },
  {
   "cell_type": "markdown",
   "metadata": {},
   "source": [
    "## EDA"
   ]
  },
  {
   "cell_type": "markdown",
   "metadata": {},
   "source": [
    "The current version of the Food Environment Atlas has over 275 variables, including new indicators on access and proximity to a grocery store for sub populations; an indicator on the SNAP Combined Application Project for recipients of Supplemental Security Income (at the State level); and indicators on farmers' markets that report accepting credit cards or report selling baked and prepared food products"
   ]
  },
  {
   "cell_type": "markdown",
   "metadata": {},
   "source": [
    "[Data Dictionary ](https://www.ers.usda.gov/webdocs/DataFiles/80526/archived_documentation_August2015.pdf?v=0)"
   ]
  },
  {
   "cell_type": "code",
   "execution_count": 2,
   "metadata": {},
   "outputs": [],
   "source": [
    "#variable_list = pd.read_excel('../Data/DataDownload2015.xlsx',sheet_name='Variable Lookup')\n",
    "#variable_list.head()"
   ]
  },
  {
   "cell_type": "code",
   "execution_count": 3,
   "metadata": {},
   "outputs": [
    {
     "name": "stdout",
     "output_type": "stream",
     "text": [
      "<class 'pandas.core.frame.DataFrame'>\n",
      "RangeIndex: 3143 entries, 0 to 3142\n",
      "Data columns (total 14 columns):\n",
      "FIPS                     3143 non-null int64\n",
      "State                    3143 non-null object\n",
      "County                   3143 non-null object\n",
      "PCT_DIABETES_ADULTS08    3138 non-null float64\n",
      "PCT_DIABETES_ADULTS13    3142 non-null float64\n",
      "PCT_OBESE_ADULTS08       3138 non-null float64\n",
      "PCT_OBESE_ADULTS13       3142 non-null float64\n",
      "PCT_HSPA15               2025 non-null float64\n",
      "RECFAC09                 3143 non-null int64\n",
      "RECFAC14                 3143 non-null int64\n",
      "PCH_RECFAC_09_14         3020 non-null float64\n",
      "RECFACPTH09              3143 non-null float64\n",
      "RECFACPTH14              3143 non-null float64\n",
      "PCH_RECFACPTH_09_14      3020 non-null float64\n",
      "dtypes: float64(9), int64(3), object(2)\n",
      "memory usage: 343.9+ KB\n"
     ]
    }
   ],
   "source": [
    "health = pd.read_excel('../Data/DataDownloadfull.xls',sheet_name='HEALTH')\n",
    "health.info()"
   ]
  },
  {
   "cell_type": "markdown",
   "metadata": {},
   "source": [
    "PCT_obese_adults13 should be the y values on train that we are predicting"
   ]
  },
  {
   "cell_type": "code",
   "execution_count": 4,
   "metadata": {},
   "outputs": [
    {
     "data": {
      "text/plain": [
       "FIPS                        0\n",
       "State                       0\n",
       "County                      0\n",
       "PCT_DIABETES_ADULTS08       5\n",
       "PCT_DIABETES_ADULTS13       1\n",
       "PCT_OBESE_ADULTS08          5\n",
       "PCT_OBESE_ADULTS13          1\n",
       "PCT_HSPA15               1118\n",
       "RECFAC09                    0\n",
       "RECFAC14                    0\n",
       "PCH_RECFAC_09_14          123\n",
       "RECFACPTH09                 0\n",
       "RECFACPTH14                 0\n",
       "PCH_RECFACPTH_09_14       123\n",
       "dtype: int64"
      ]
     },
     "execution_count": 4,
     "metadata": {},
     "output_type": "execute_result"
    }
   ],
   "source": [
    "health.isnull().sum()"
   ]
  },
  {
   "cell_type": "markdown",
   "metadata": {},
   "source": [
    "We will drop PCT_HSPA15, PCH_RECFAC_09_14, and PCH_RECFACPTH_09_14 More focused on the pct of obese adults."
   ]
  },
  {
   "cell_type": "code",
   "execution_count": 5,
   "metadata": {},
   "outputs": [],
   "source": [
    "health.drop(columns=['PCT_HSPA15', 'PCH_RECFAC_09_14','PCH_RECFACPTH_09_14', 'RECFACPTH09','RECFACPTH14'], inplace=True)"
   ]
  },
  {
   "cell_type": "code",
   "execution_count": 6,
   "metadata": {},
   "outputs": [],
   "source": [
    "#drop the rest of the NA's\n",
    "health.dropna(inplace=True)"
   ]
  },
  {
   "cell_type": "code",
   "execution_count": 7,
   "metadata": {},
   "outputs": [
    {
     "data": {
      "text/plain": [
       "FIPS                     0\n",
       "State                    0\n",
       "County                   0\n",
       "PCT_DIABETES_ADULTS08    0\n",
       "PCT_DIABETES_ADULTS13    0\n",
       "PCT_OBESE_ADULTS08       0\n",
       "PCT_OBESE_ADULTS13       0\n",
       "RECFAC09                 0\n",
       "RECFAC14                 0\n",
       "dtype: int64"
      ]
     },
     "execution_count": 7,
     "metadata": {},
     "output_type": "execute_result"
    }
   ],
   "source": [
    "health.isnull().sum()"
   ]
  },
  {
   "cell_type": "markdown",
   "metadata": {},
   "source": [
    "The local dataframe talks about the access to local produce either through a farmersmarket or a local farmer. "
   ]
  },
  {
   "cell_type": "code",
   "execution_count": 8,
   "metadata": {},
   "outputs": [],
   "source": [
    "pd.set_option('display.max_rows', 300)"
   ]
  },
  {
   "cell_type": "code",
   "execution_count": 9,
   "metadata": {},
   "outputs": [],
   "source": [
    "acess = pd.read_excel('../Data/Acess_food.xlsx')"
   ]
  },
  {
   "cell_type": "code",
   "execution_count": 10,
   "metadata": {},
   "outputs": [
    {
     "data": {
      "text/html": [
       "<div>\n",
       "<style scoped>\n",
       "    .dataframe tbody tr th:only-of-type {\n",
       "        vertical-align: middle;\n",
       "    }\n",
       "\n",
       "    .dataframe tbody tr th {\n",
       "        vertical-align: top;\n",
       "    }\n",
       "\n",
       "    .dataframe thead th {\n",
       "        text-align: right;\n",
       "    }\n",
       "</style>\n",
       "<table border=\"1\" class=\"dataframe\">\n",
       "  <thead>\n",
       "    <tr style=\"text-align: right;\">\n",
       "      <th></th>\n",
       "      <th>FIPS</th>\n",
       "      <th>State</th>\n",
       "      <th>County</th>\n",
       "      <th>LACCESS_POP10</th>\n",
       "      <th>LACCESS_POP15</th>\n",
       "      <th>PCH_LACCESS_POP_10_15</th>\n",
       "      <th>PCT_LACCESS_POP10</th>\n",
       "      <th>PCT_LACCESS_POP15</th>\n",
       "      <th>LACCESS_LOWI10</th>\n",
       "      <th>LACCESS_LOWI15</th>\n",
       "      <th>...</th>\n",
       "      <th>LACCESS_HISP15</th>\n",
       "      <th>PCT_LACCESS_HISP15</th>\n",
       "      <th>LACCESS_NHASIAN15</th>\n",
       "      <th>PCT_LACCESS_NHASIAN15</th>\n",
       "      <th>LACCESS_NHNA15</th>\n",
       "      <th>PCT_LACCESS_NHNA15</th>\n",
       "      <th>LACCESS_NHPI15</th>\n",
       "      <th>PCT_LACCESS_NHPI15</th>\n",
       "      <th>LACCESS_MULTIR15</th>\n",
       "      <th>PCT_LACCESS_MULTIR15</th>\n",
       "    </tr>\n",
       "  </thead>\n",
       "  <tbody>\n",
       "    <tr>\n",
       "      <td>0</td>\n",
       "      <td>1001</td>\n",
       "      <td>AL</td>\n",
       "      <td>Autauga</td>\n",
       "      <td>18428.439685</td>\n",
       "      <td>17496.693038</td>\n",
       "      <td>-5.056026</td>\n",
       "      <td>33.769657</td>\n",
       "      <td>32.062255</td>\n",
       "      <td>5344.427472</td>\n",
       "      <td>6543.676824</td>\n",
       "      <td>...</td>\n",
       "      <td>471.136164</td>\n",
       "      <td>0.863345</td>\n",
       "      <td>86.767975</td>\n",
       "      <td>0.159000</td>\n",
       "      <td>61.169869</td>\n",
       "      <td>0.112092</td>\n",
       "      <td>8.817961</td>\n",
       "      <td>0.016159</td>\n",
       "      <td>482.848633</td>\n",
       "      <td>0.884808</td>\n",
       "    </tr>\n",
       "    <tr>\n",
       "      <td>1</td>\n",
       "      <td>1003</td>\n",
       "      <td>AL</td>\n",
       "      <td>Baldwin</td>\n",
       "      <td>35210.814078</td>\n",
       "      <td>30561.264430</td>\n",
       "      <td>-13.204891</td>\n",
       "      <td>19.318473</td>\n",
       "      <td>16.767489</td>\n",
       "      <td>9952.144027</td>\n",
       "      <td>9886.831137</td>\n",
       "      <td>...</td>\n",
       "      <td>1377.874834</td>\n",
       "      <td>0.755973</td>\n",
       "      <td>212.946378</td>\n",
       "      <td>0.116833</td>\n",
       "      <td>181.649648</td>\n",
       "      <td>0.099662</td>\n",
       "      <td>14.819634</td>\n",
       "      <td>0.008131</td>\n",
       "      <td>1127.696098</td>\n",
       "      <td>0.618712</td>\n",
       "    </tr>\n",
       "    <tr>\n",
       "      <td>2</td>\n",
       "      <td>1005</td>\n",
       "      <td>AL</td>\n",
       "      <td>Barbour</td>\n",
       "      <td>5722.305602</td>\n",
       "      <td>6069.523628</td>\n",
       "      <td>6.067799</td>\n",
       "      <td>20.840972</td>\n",
       "      <td>22.105560</td>\n",
       "      <td>3135.676086</td>\n",
       "      <td>2948.790251</td>\n",
       "      <td>...</td>\n",
       "      <td>509.377525</td>\n",
       "      <td>1.855183</td>\n",
       "      <td>17.096410</td>\n",
       "      <td>0.062266</td>\n",
       "      <td>39.960527</td>\n",
       "      <td>0.145539</td>\n",
       "      <td>8.082376</td>\n",
       "      <td>0.029436</td>\n",
       "      <td>462.382655</td>\n",
       "      <td>1.684025</td>\n",
       "    </tr>\n",
       "    <tr>\n",
       "      <td>3</td>\n",
       "      <td>1007</td>\n",
       "      <td>AL</td>\n",
       "      <td>Bibb</td>\n",
       "      <td>1044.867327</td>\n",
       "      <td>969.378841</td>\n",
       "      <td>-7.224696</td>\n",
       "      <td>4.559753</td>\n",
       "      <td>4.230324</td>\n",
       "      <td>491.449066</td>\n",
       "      <td>596.162829</td>\n",
       "      <td>...</td>\n",
       "      <td>8.596762</td>\n",
       "      <td>0.037516</td>\n",
       "      <td>1.994318</td>\n",
       "      <td>0.008703</td>\n",
       "      <td>2.513097</td>\n",
       "      <td>0.010967</td>\n",
       "      <td>0.000000</td>\n",
       "      <td>0.000000</td>\n",
       "      <td>5.259244</td>\n",
       "      <td>0.022951</td>\n",
       "    </tr>\n",
       "    <tr>\n",
       "      <td>4</td>\n",
       "      <td>1009</td>\n",
       "      <td>AL</td>\n",
       "      <td>Blount</td>\n",
       "      <td>1548.175559</td>\n",
       "      <td>3724.428242</td>\n",
       "      <td>140.568857</td>\n",
       "      <td>2.700840</td>\n",
       "      <td>6.497380</td>\n",
       "      <td>609.027708</td>\n",
       "      <td>1650.959482</td>\n",
       "      <td>...</td>\n",
       "      <td>497.489891</td>\n",
       "      <td>0.867886</td>\n",
       "      <td>8.428994</td>\n",
       "      <td>0.014705</td>\n",
       "      <td>28.938242</td>\n",
       "      <td>0.050484</td>\n",
       "      <td>1.062851</td>\n",
       "      <td>0.001854</td>\n",
       "      <td>202.914187</td>\n",
       "      <td>0.353990</td>\n",
       "    </tr>\n",
       "  </tbody>\n",
       "</table>\n",
       "<p>5 rows × 44 columns</p>\n",
       "</div>"
      ],
      "text/plain": [
       "   FIPS State   County  LACCESS_POP10  LACCESS_POP15  PCH_LACCESS_POP_10_15  \\\n",
       "0  1001    AL  Autauga   18428.439685   17496.693038              -5.056026   \n",
       "1  1003    AL  Baldwin   35210.814078   30561.264430             -13.204891   \n",
       "2  1005    AL  Barbour    5722.305602    6069.523628               6.067799   \n",
       "3  1007    AL     Bibb    1044.867327     969.378841              -7.224696   \n",
       "4  1009    AL   Blount    1548.175559    3724.428242             140.568857   \n",
       "\n",
       "   PCT_LACCESS_POP10  PCT_LACCESS_POP15  LACCESS_LOWI10  LACCESS_LOWI15  ...  \\\n",
       "0          33.769657          32.062255     5344.427472     6543.676824  ...   \n",
       "1          19.318473          16.767489     9952.144027     9886.831137  ...   \n",
       "2          20.840972          22.105560     3135.676086     2948.790251  ...   \n",
       "3           4.559753           4.230324      491.449066      596.162829  ...   \n",
       "4           2.700840           6.497380      609.027708     1650.959482  ...   \n",
       "\n",
       "   LACCESS_HISP15  PCT_LACCESS_HISP15  LACCESS_NHASIAN15  \\\n",
       "0      471.136164            0.863345          86.767975   \n",
       "1     1377.874834            0.755973         212.946378   \n",
       "2      509.377525            1.855183          17.096410   \n",
       "3        8.596762            0.037516           1.994318   \n",
       "4      497.489891            0.867886           8.428994   \n",
       "\n",
       "   PCT_LACCESS_NHASIAN15  LACCESS_NHNA15  PCT_LACCESS_NHNA15  LACCESS_NHPI15  \\\n",
       "0               0.159000       61.169869            0.112092        8.817961   \n",
       "1               0.116833      181.649648            0.099662       14.819634   \n",
       "2               0.062266       39.960527            0.145539        8.082376   \n",
       "3               0.008703        2.513097            0.010967        0.000000   \n",
       "4               0.014705       28.938242            0.050484        1.062851   \n",
       "\n",
       "   PCT_LACCESS_NHPI15  LACCESS_MULTIR15  PCT_LACCESS_MULTIR15  \n",
       "0            0.016159        482.848633              0.884808  \n",
       "1            0.008131       1127.696098              0.618712  \n",
       "2            0.029436        462.382655              1.684025  \n",
       "3            0.000000          5.259244              0.022951  \n",
       "4            0.001854        202.914187              0.353990  \n",
       "\n",
       "[5 rows x 44 columns]"
      ]
     },
     "execution_count": 10,
     "metadata": {},
     "output_type": "execute_result"
    }
   ],
   "source": [
    "acess.head()"
   ]
  },
  {
   "cell_type": "code",
   "execution_count": 11,
   "metadata": {},
   "outputs": [
    {
     "data": {
      "text/plain": [
       "FIPS                          0\n",
       "State                         0\n",
       "County                        0\n",
       "LACCESS_POP10                 0\n",
       "LACCESS_POP15                19\n",
       "PCH_LACCESS_POP_10_15        26\n",
       "PCT_LACCESS_POP10             0\n",
       "PCT_LACCESS_POP15            19\n",
       "LACCESS_LOWI10                0\n",
       "LACCESS_LOWI15               20\n",
       "PCH_LACCESS_LOWI_10_15       28\n",
       "PCT_LACCESS_LOWI10            0\n",
       "PCT_LACCESS_LOWI15           20\n",
       "LACCESS_HHNV10                0\n",
       "LACCESS_HHNV15                3\n",
       "PCH_LACCESS_HHNV_10_15       14\n",
       "PCT_LACCESS_HHNV10            0\n",
       "PCT_LACCESS_HHNV15            3\n",
       "LACCESS_SNAP15               20\n",
       "PCT_LACCESS_SNAP15           20\n",
       "LACCESS_CHILD10               0\n",
       "LACCESS_CHILD15              19\n",
       "LACCESS_CHILD_10_15          28\n",
       "PCT_LACCESS_CHILD10           0\n",
       "PCT_LACCESS_CHILD15          19\n",
       "LACCESS_SENIORS10             0\n",
       "LACCESS_SENIORS15            19\n",
       "PCH_LACCESS_SENIORS_10_15    26\n",
       "PCT_LACCESS_SENIORS10         0\n",
       "PCT_LACCESS_SENIORS15        19\n",
       "LACCESS_WHITE15              19\n",
       "PCT_LACCESS_WHITE15          19\n",
       "LACCESS_BLACK15              19\n",
       "PCT_LACCESS_BLACK15          19\n",
       "LACCESS_HISP15               19\n",
       "PCT_LACCESS_HISP15           19\n",
       "LACCESS_NHASIAN15            19\n",
       "PCT_LACCESS_NHASIAN15        19\n",
       "LACCESS_NHNA15               19\n",
       "PCT_LACCESS_NHNA15           19\n",
       "LACCESS_NHPI15               19\n",
       "PCT_LACCESS_NHPI15           19\n",
       "LACCESS_MULTIR15             19\n",
       "PCT_LACCESS_MULTIR15         19\n",
       "dtype: int64"
      ]
     },
     "execution_count": 11,
     "metadata": {},
     "output_type": "execute_result"
    }
   ],
   "source": [
    "acess.isnull().sum()"
   ]
  },
  {
   "cell_type": "code",
   "execution_count": 12,
   "metadata": {},
   "outputs": [
    {
     "data": {
      "text/plain": [
       "(3143, 44)"
      ]
     },
     "execution_count": 12,
     "metadata": {},
     "output_type": "execute_result"
    }
   ],
   "source": [
    "# not a lot of null values so will drop those \n",
    "acess.shape"
   ]
  },
  {
   "cell_type": "code",
   "execution_count": 13,
   "metadata": {},
   "outputs": [],
   "source": [
    "acess.dropna(inplace=True)"
   ]
  },
  {
   "cell_type": "code",
   "execution_count": 14,
   "metadata": {},
   "outputs": [],
   "source": [
    "acess_stores = pd.read_excel('../Data/acesstostores.xlsx')"
   ]
  },
  {
   "cell_type": "code",
   "execution_count": 15,
   "metadata": {},
   "outputs": [
    {
     "data": {
      "text/plain": [
       "FIPS                     0\n",
       "State                    0\n",
       "County                   0\n",
       "GROC09                   0\n",
       "GROC14                   0\n",
       "PCH_GROC_09_14          20\n",
       "GROCPTH09                0\n",
       "GROCPTH14                0\n",
       "PCH_GROCPTH_09_14       15\n",
       "SUPERC09                 0\n",
       "SUPERC14                 0\n",
       "PCH_SUPERC_09_14       140\n",
       "SUPERCPTH09              0\n",
       "SUPERCPTH14              0\n",
       "PCH_SUPERCPTH_09_14    139\n",
       "CONVS09                  0\n",
       "CONVS14                  0\n",
       "PCH_CONVS_09_14         24\n",
       "CONVSPTH09               0\n",
       "CONVSPTH14               0\n",
       "PCH_CONVSPTH_09_14      19\n",
       "SPECS09                  0\n",
       "SPECS14                  0\n",
       "PCH_SPECS_09_14        192\n",
       "SPECSPTH09               0\n",
       "SPECSPTH14               0\n",
       "PCH_SPECSPTH_09_14     188\n",
       "SNAPS12                  0\n",
       "SNAPS16                 26\n",
       "PCH_SNAPS_12_16         29\n",
       "SNAPSPTH12               0\n",
       "SNAPSPTH16              29\n",
       "PCH_SNAPSPTH_12_16      32\n",
       "WICS08                   0\n",
       "WICS12                   0\n",
       "PCH_WICS_08_12          19\n",
       "WICSPTH08                0\n",
       "WICSPTH12                0\n",
       "PCH_WICSPTH_08_12       19\n",
       "dtype: int64"
      ]
     },
     "execution_count": 15,
     "metadata": {},
     "output_type": "execute_result"
    }
   ],
   "source": [
    "acess_stores.isnull().sum()"
   ]
  },
  {
   "cell_type": "markdown",
   "metadata": {},
   "source": [
    "We are going to drop rows with more than 100 missing values "
   ]
  },
  {
   "cell_type": "markdown",
   "metadata": {},
   "source": [
    "The rows that we will drop - PCH_SUPERC_09_14, PCH_SUPERCPTH_09_14, PCH_SUPERCPTH_09_14, PCH_SPECS_09_14, PCH_SPECS_09_14, PCH_SPECSPTH_09_14, "
   ]
  },
  {
   "cell_type": "code",
   "execution_count": 16,
   "metadata": {},
   "outputs": [],
   "source": [
    "acess_stores.drop(columns = ['PCH_SUPERC_09_14', 'PCH_SUPERCPTH_09_14', 'PCH_SUPERCPTH_09_14', 'PCH_SPECS_09_14', 'PCH_SPECSPTH_09_14'\n",
    "                  ], inplace=True)"
   ]
  },
  {
   "cell_type": "code",
   "execution_count": 17,
   "metadata": {},
   "outputs": [
    {
     "data": {
      "text/plain": [
       "FIPS                   0\n",
       "State                  0\n",
       "County                 0\n",
       "GROC09                 0\n",
       "GROC14                 0\n",
       "PCH_GROC_09_14        20\n",
       "GROCPTH09              0\n",
       "GROCPTH14              0\n",
       "PCH_GROCPTH_09_14     15\n",
       "SUPERC09               0\n",
       "SUPERC14               0\n",
       "SUPERCPTH09            0\n",
       "SUPERCPTH14            0\n",
       "CONVS09                0\n",
       "CONVS14                0\n",
       "PCH_CONVS_09_14       24\n",
       "CONVSPTH09             0\n",
       "CONVSPTH14             0\n",
       "PCH_CONVSPTH_09_14    19\n",
       "SPECS09                0\n",
       "SPECS14                0\n",
       "SPECSPTH09             0\n",
       "SPECSPTH14             0\n",
       "SNAPS12                0\n",
       "SNAPS16               26\n",
       "PCH_SNAPS_12_16       29\n",
       "SNAPSPTH12             0\n",
       "SNAPSPTH16            29\n",
       "PCH_SNAPSPTH_12_16    32\n",
       "WICS08                 0\n",
       "WICS12                 0\n",
       "PCH_WICS_08_12        19\n",
       "WICSPTH08              0\n",
       "WICSPTH12              0\n",
       "PCH_WICSPTH_08_12     19\n",
       "dtype: int64"
      ]
     },
     "execution_count": 17,
     "metadata": {},
     "output_type": "execute_result"
    }
   ],
   "source": [
    "acess_stores.isnull().sum()"
   ]
  },
  {
   "cell_type": "code",
   "execution_count": 18,
   "metadata": {},
   "outputs": [
    {
     "data": {
      "text/plain": [
       "(3143, 35)"
      ]
     },
     "execution_count": 18,
     "metadata": {},
     "output_type": "execute_result"
    }
   ],
   "source": [
    "acess_stores.shape"
   ]
  },
  {
   "cell_type": "markdown",
   "metadata": {},
   "source": [
    "Then we will drop the other NA's since it's a small amount compared to the number of rows available"
   ]
  },
  {
   "cell_type": "code",
   "execution_count": 19,
   "metadata": {},
   "outputs": [],
   "source": [
    "acess_stores.dropna(inplace=True)"
   ]
  },
  {
   "cell_type": "code",
   "execution_count": 20,
   "metadata": {},
   "outputs": [
    {
     "data": {
      "text/plain": [
       "FIPS                  0\n",
       "State                 0\n",
       "County                0\n",
       "GROC09                0\n",
       "GROC14                0\n",
       "PCH_GROC_09_14        0\n",
       "GROCPTH09             0\n",
       "GROCPTH14             0\n",
       "PCH_GROCPTH_09_14     0\n",
       "SUPERC09              0\n",
       "SUPERC14              0\n",
       "SUPERCPTH09           0\n",
       "SUPERCPTH14           0\n",
       "CONVS09               0\n",
       "CONVS14               0\n",
       "PCH_CONVS_09_14       0\n",
       "CONVSPTH09            0\n",
       "CONVSPTH14            0\n",
       "PCH_CONVSPTH_09_14    0\n",
       "SPECS09               0\n",
       "SPECS14               0\n",
       "SPECSPTH09            0\n",
       "SPECSPTH14            0\n",
       "SNAPS12               0\n",
       "SNAPS16               0\n",
       "PCH_SNAPS_12_16       0\n",
       "SNAPSPTH12            0\n",
       "SNAPSPTH16            0\n",
       "PCH_SNAPSPTH_12_16    0\n",
       "WICS08                0\n",
       "WICS12                0\n",
       "PCH_WICS_08_12        0\n",
       "WICSPTH08             0\n",
       "WICSPTH12             0\n",
       "PCH_WICSPTH_08_12     0\n",
       "dtype: int64"
      ]
     },
     "execution_count": 20,
     "metadata": {},
     "output_type": "execute_result"
    }
   ],
   "source": [
    "acess_stores.isnull().sum()"
   ]
  },
  {
   "cell_type": "code",
   "execution_count": 21,
   "metadata": {},
   "outputs": [],
   "source": [
    "df_obesity = pd.read_excel('../Data/obesity.xlsx')"
   ]
  },
  {
   "cell_type": "code",
   "execution_count": 22,
   "metadata": {},
   "outputs": [
    {
     "data": {
      "text/html": [
       "<div>\n",
       "<style scoped>\n",
       "    .dataframe tbody tr th:only-of-type {\n",
       "        vertical-align: middle;\n",
       "    }\n",
       "\n",
       "    .dataframe tbody tr th {\n",
       "        vertical-align: top;\n",
       "    }\n",
       "\n",
       "    .dataframe thead th {\n",
       "        text-align: right;\n",
       "    }\n",
       "</style>\n",
       "<table border=\"1\" class=\"dataframe\">\n",
       "  <thead>\n",
       "    <tr style=\"text-align: right;\">\n",
       "      <th></th>\n",
       "      <th>State</th>\n",
       "      <th>County</th>\n",
       "      <th>Male obesity prevalence, 2001 (%)</th>\n",
       "      <th>Female obesity prevalence, 2001 (%)</th>\n",
       "      <th>Male obesity prevalence, 2009 (%)</th>\n",
       "      <th>Female obesity  prevalence, 2009 (%)</th>\n",
       "      <th>Male obesity  prevalence, 2011* (%)</th>\n",
       "      <th>Female obesity prevalence, 2011* (%)</th>\n",
       "      <th>Difference in male obesity prevalence, 2001-2009 (percentage points)</th>\n",
       "      <th>Difference in female obesity prevalence, 2001-2009 (percentage points)</th>\n",
       "      <th>Unnamed: 10</th>\n",
       "      <th>*Methodological changes in the 2011 BRFSS may affect comparability between the 2011 estimates and estimates from earlier years</th>\n",
       "    </tr>\n",
       "  </thead>\n",
       "  <tbody>\n",
       "    <tr>\n",
       "      <td>0</td>\n",
       "      <td>United States</td>\n",
       "      <td>NaN</td>\n",
       "      <td>26.1</td>\n",
       "      <td>28.7</td>\n",
       "      <td>32.8</td>\n",
       "      <td>35.1</td>\n",
       "      <td>33.8</td>\n",
       "      <td>36.1</td>\n",
       "      <td>6.7</td>\n",
       "      <td>6.4</td>\n",
       "      <td>NaN</td>\n",
       "      <td>NaN</td>\n",
       "    </tr>\n",
       "    <tr>\n",
       "      <td>1</td>\n",
       "      <td>Alabama</td>\n",
       "      <td>NaN</td>\n",
       "      <td>29.7</td>\n",
       "      <td>34.1</td>\n",
       "      <td>36.1</td>\n",
       "      <td>41.2</td>\n",
       "      <td>37.3</td>\n",
       "      <td>42.2</td>\n",
       "      <td>6.4</td>\n",
       "      <td>7.1</td>\n",
       "      <td>NaN</td>\n",
       "      <td>NaN</td>\n",
       "    </tr>\n",
       "    <tr>\n",
       "      <td>2</td>\n",
       "      <td>Alabama</td>\n",
       "      <td>Autauga</td>\n",
       "      <td>30.7</td>\n",
       "      <td>32.3</td>\n",
       "      <td>35.9</td>\n",
       "      <td>37.4</td>\n",
       "      <td>37.1</td>\n",
       "      <td>38.8</td>\n",
       "      <td>5.3</td>\n",
       "      <td>5.2</td>\n",
       "      <td>NaN</td>\n",
       "      <td>NaN</td>\n",
       "    </tr>\n",
       "    <tr>\n",
       "      <td>3</td>\n",
       "      <td>Alabama</td>\n",
       "      <td>Baldwin</td>\n",
       "      <td>27.8</td>\n",
       "      <td>28.3</td>\n",
       "      <td>32.4</td>\n",
       "      <td>33.0</td>\n",
       "      <td>33.5</td>\n",
       "      <td>33.9</td>\n",
       "      <td>4.5</td>\n",
       "      <td>4.6</td>\n",
       "      <td>NaN</td>\n",
       "      <td>NaN</td>\n",
       "    </tr>\n",
       "    <tr>\n",
       "      <td>4</td>\n",
       "      <td>Alabama</td>\n",
       "      <td>Barbour</td>\n",
       "      <td>32.3</td>\n",
       "      <td>42.8</td>\n",
       "      <td>40.3</td>\n",
       "      <td>51.3</td>\n",
       "      <td>41.5</td>\n",
       "      <td>51.6</td>\n",
       "      <td>8.0</td>\n",
       "      <td>8.5</td>\n",
       "      <td>NaN</td>\n",
       "      <td>NaN</td>\n",
       "    </tr>\n",
       "  </tbody>\n",
       "</table>\n",
       "</div>"
      ],
      "text/plain": [
       "           State   County  Male obesity prevalence, 2001 (%)  \\\n",
       "0  United States      NaN                               26.1   \n",
       "1        Alabama      NaN                               29.7   \n",
       "2        Alabama  Autauga                               30.7   \n",
       "3        Alabama  Baldwin                               27.8   \n",
       "4        Alabama  Barbour                               32.3   \n",
       "\n",
       "   Female obesity prevalence, 2001 (%)  Male obesity prevalence, 2009 (%)  \\\n",
       "0                                 28.7                               32.8   \n",
       "1                                 34.1                               36.1   \n",
       "2                                 32.3                               35.9   \n",
       "3                                 28.3                               32.4   \n",
       "4                                 42.8                               40.3   \n",
       "\n",
       "   Female obesity  prevalence, 2009 (%)  Male obesity  prevalence, 2011* (%)  \\\n",
       "0                                  35.1                                 33.8   \n",
       "1                                  41.2                                 37.3   \n",
       "2                                  37.4                                 37.1   \n",
       "3                                  33.0                                 33.5   \n",
       "4                                  51.3                                 41.5   \n",
       "\n",
       "   Female obesity prevalence, 2011* (%)  \\\n",
       "0                                  36.1   \n",
       "1                                  42.2   \n",
       "2                                  38.8   \n",
       "3                                  33.9   \n",
       "4                                  51.6   \n",
       "\n",
       "   Difference in male obesity prevalence, 2001-2009 (percentage points)  \\\n",
       "0                                                6.7                      \n",
       "1                                                6.4                      \n",
       "2                                                5.3                      \n",
       "3                                                4.5                      \n",
       "4                                                8.0                      \n",
       "\n",
       "   Difference in female obesity prevalence, 2001-2009 (percentage points)  \\\n",
       "0                                                6.4                        \n",
       "1                                                7.1                        \n",
       "2                                                5.2                        \n",
       "3                                                4.6                        \n",
       "4                                                8.5                        \n",
       "\n",
       "   Unnamed: 10  \\\n",
       "0          NaN   \n",
       "1          NaN   \n",
       "2          NaN   \n",
       "3          NaN   \n",
       "4          NaN   \n",
       "\n",
       "   *Methodological changes in the 2011 BRFSS may affect comparability between the 2011 estimates and estimates from earlier years  \n",
       "0                                                NaN                                                                               \n",
       "1                                                NaN                                                                               \n",
       "2                                                NaN                                                                               \n",
       "3                                                NaN                                                                               \n",
       "4                                                NaN                                                                               "
      ]
     },
     "execution_count": 22,
     "metadata": {},
     "output_type": "execute_result"
    }
   ],
   "source": [
    "df_obesity.head()"
   ]
  },
  {
   "cell_type": "code",
   "execution_count": 23,
   "metadata": {},
   "outputs": [
    {
     "data": {
      "text/plain": [
       "State                                                                                                                                0\n",
       "County                                                                                                                              52\n",
       "Male obesity prevalence, 2001 (%)                                                                                                    0\n",
       "Female obesity prevalence, 2001 (%)                                                                                                  0\n",
       "Male obesity prevalence, 2009 (%)                                                                                                    0\n",
       "Female obesity  prevalence, 2009 (%)                                                                                                 0\n",
       "Male obesity  prevalence, 2011* (%)                                                                                                  0\n",
       "Female obesity prevalence, 2011* (%)                                                                                                 0\n",
       "Difference in male obesity prevalence, 2001-2009 (percentage points)                                                                 0\n",
       "Difference in female obesity prevalence, 2001-2009 (percentage points)                                                               0\n",
       "Unnamed: 10                                                                                                                       3194\n",
       "*Methodological changes in the 2011 BRFSS may affect comparability between the 2011 estimates and estimates from earlier years    3194\n",
       "dtype: int64"
      ]
     },
     "execution_count": 23,
     "metadata": {},
     "output_type": "execute_result"
    }
   ],
   "source": [
    "df_obesity.isnull().sum()"
   ]
  },
  {
   "cell_type": "code",
   "execution_count": 24,
   "metadata": {},
   "outputs": [],
   "source": [
    "#drop the last two columns\n",
    "df_obesity.drop(columns=['Unnamed: 10', '*Methodological changes in the 2011 BRFSS may affect comparability between the 2011 estimates and estimates from earlier years'], inplace=True)"
   ]
  },
  {
   "cell_type": "code",
   "execution_count": 25,
   "metadata": {},
   "outputs": [],
   "source": [
    "df_obesity.dropna(inplace=True)"
   ]
  },
  {
   "cell_type": "code",
   "execution_count": 26,
   "metadata": {},
   "outputs": [],
   "source": [
    "df_life_expectancy = pd.read_excel('../Data/Life_Expectancy.xlsx')"
   ]
  },
  {
   "cell_type": "code",
   "execution_count": 27,
   "metadata": {},
   "outputs": [
    {
     "data": {
      "text/plain": [
       "State                                                                     0\n",
       "County                                                                    0\n",
       "Male obesity prevalence, 2001 (%)                                         0\n",
       "Female obesity prevalence, 2001 (%)                                       0\n",
       "Male obesity prevalence, 2009 (%)                                         0\n",
       "Female obesity  prevalence, 2009 (%)                                      0\n",
       "Male obesity  prevalence, 2011* (%)                                       0\n",
       "Female obesity prevalence, 2011* (%)                                      0\n",
       "Difference in male obesity prevalence, 2001-2009 (percentage points)      0\n",
       "Difference in female obesity prevalence, 2001-2009 (percentage points)    0\n",
       "dtype: int64"
      ]
     },
     "execution_count": 27,
     "metadata": {},
     "output_type": "execute_result"
    }
   ],
   "source": [
    "df_obesity.isnull().sum()"
   ]
  },
  {
   "cell_type": "code",
   "execution_count": 28,
   "metadata": {},
   "outputs": [
    {
     "data": {
      "text/plain": [
       "(3194, 16)"
      ]
     },
     "execution_count": 28,
     "metadata": {},
     "output_type": "execute_result"
    }
   ],
   "source": [
    "df_life_expectancy.shape"
   ]
  },
  {
   "cell_type": "code",
   "execution_count": 29,
   "metadata": {},
   "outputs": [
    {
     "data": {
      "text/html": [
       "<div>\n",
       "<style scoped>\n",
       "    .dataframe tbody tr th:only-of-type {\n",
       "        vertical-align: middle;\n",
       "    }\n",
       "\n",
       "    .dataframe tbody tr th {\n",
       "        vertical-align: top;\n",
       "    }\n",
       "\n",
       "    .dataframe thead th {\n",
       "        text-align: right;\n",
       "    }\n",
       "</style>\n",
       "<table border=\"1\" class=\"dataframe\">\n",
       "  <thead>\n",
       "    <tr style=\"text-align: right;\">\n",
       "      <th></th>\n",
       "      <th>State</th>\n",
       "      <th>County</th>\n",
       "      <th>Male life expectancy, 1985 (years)</th>\n",
       "      <th>Female life expectancy, 1985 (years)</th>\n",
       "      <th>Male life expectancy, 1990 (years)</th>\n",
       "      <th>Female life expectancy, 1990 (years)</th>\n",
       "      <th>Male life expectancy, 1995 (years)</th>\n",
       "      <th>Female life expectancy, 1995 (years)</th>\n",
       "      <th>Male life expectancy, 2000 (years)</th>\n",
       "      <th>Female life expectancy, 2000 (years)</th>\n",
       "      <th>Male life expectancy, 2005 (years)</th>\n",
       "      <th>Female life expectancy, 2005 (years)</th>\n",
       "      <th>Male life expectancy, 2010 (years)</th>\n",
       "      <th>Female life expectancy, 2010 (years)</th>\n",
       "      <th>Difference in male life expectancy, 1985-2010 (years)</th>\n",
       "      <th>Difference in female life expectancy, 1985-2010 (years)</th>\n",
       "    </tr>\n",
       "  </thead>\n",
       "  <tbody>\n",
       "    <tr>\n",
       "      <td>0</td>\n",
       "      <td>United States</td>\n",
       "      <td>NaN</td>\n",
       "      <td>70.8</td>\n",
       "      <td>77.8</td>\n",
       "      <td>71.5</td>\n",
       "      <td>78.3</td>\n",
       "      <td>72.5</td>\n",
       "      <td>78.8</td>\n",
       "      <td>74.1</td>\n",
       "      <td>79.2</td>\n",
       "      <td>74.9</td>\n",
       "      <td>79.9</td>\n",
       "      <td>76.1</td>\n",
       "      <td>80.8</td>\n",
       "      <td>5.2</td>\n",
       "      <td>3.0</td>\n",
       "    </tr>\n",
       "    <tr>\n",
       "      <td>1</td>\n",
       "      <td>Alabama</td>\n",
       "      <td>NaN</td>\n",
       "      <td>69.1</td>\n",
       "      <td>76.9</td>\n",
       "      <td>69.4</td>\n",
       "      <td>77.1</td>\n",
       "      <td>69.9</td>\n",
       "      <td>77.2</td>\n",
       "      <td>71.0</td>\n",
       "      <td>77.2</td>\n",
       "      <td>71.5</td>\n",
       "      <td>77.3</td>\n",
       "      <td>72.4</td>\n",
       "      <td>77.8</td>\n",
       "      <td>3.3</td>\n",
       "      <td>0.9</td>\n",
       "    </tr>\n",
       "    <tr>\n",
       "      <td>2</td>\n",
       "      <td>Alabama</td>\n",
       "      <td>Autauga</td>\n",
       "      <td>68.1</td>\n",
       "      <td>77.0</td>\n",
       "      <td>68.5</td>\n",
       "      <td>77.0</td>\n",
       "      <td>69.3</td>\n",
       "      <td>77.3</td>\n",
       "      <td>71.7</td>\n",
       "      <td>77.6</td>\n",
       "      <td>72.5</td>\n",
       "      <td>77.4</td>\n",
       "      <td>73.3</td>\n",
       "      <td>78.8</td>\n",
       "      <td>5.2</td>\n",
       "      <td>1.8</td>\n",
       "    </tr>\n",
       "    <tr>\n",
       "      <td>3</td>\n",
       "      <td>Alabama</td>\n",
       "      <td>Baldwin</td>\n",
       "      <td>71.1</td>\n",
       "      <td>78.8</td>\n",
       "      <td>71.9</td>\n",
       "      <td>79.2</td>\n",
       "      <td>72.4</td>\n",
       "      <td>79.3</td>\n",
       "      <td>73.9</td>\n",
       "      <td>79.2</td>\n",
       "      <td>73.8</td>\n",
       "      <td>79.7</td>\n",
       "      <td>75.0</td>\n",
       "      <td>80.3</td>\n",
       "      <td>3.8</td>\n",
       "      <td>1.5</td>\n",
       "    </tr>\n",
       "    <tr>\n",
       "      <td>4</td>\n",
       "      <td>Alabama</td>\n",
       "      <td>Barbour</td>\n",
       "      <td>66.8</td>\n",
       "      <td>76.0</td>\n",
       "      <td>66.7</td>\n",
       "      <td>76.7</td>\n",
       "      <td>68.4</td>\n",
       "      <td>76.9</td>\n",
       "      <td>70.0</td>\n",
       "      <td>76.2</td>\n",
       "      <td>70.5</td>\n",
       "      <td>77.0</td>\n",
       "      <td>72.2</td>\n",
       "      <td>77.2</td>\n",
       "      <td>5.3</td>\n",
       "      <td>1.1</td>\n",
       "    </tr>\n",
       "  </tbody>\n",
       "</table>\n",
       "</div>"
      ],
      "text/plain": [
       "           State   County  Male life expectancy, 1985 (years)  \\\n",
       "0  United States      NaN                                70.8   \n",
       "1        Alabama      NaN                                69.1   \n",
       "2        Alabama  Autauga                                68.1   \n",
       "3        Alabama  Baldwin                                71.1   \n",
       "4        Alabama  Barbour                                66.8   \n",
       "\n",
       "   Female life expectancy, 1985 (years)  Male life expectancy, 1990 (years)  \\\n",
       "0                                  77.8                                71.5   \n",
       "1                                  76.9                                69.4   \n",
       "2                                  77.0                                68.5   \n",
       "3                                  78.8                                71.9   \n",
       "4                                  76.0                                66.7   \n",
       "\n",
       "   Female life expectancy, 1990 (years)  Male life expectancy, 1995 (years)  \\\n",
       "0                                  78.3                                72.5   \n",
       "1                                  77.1                                69.9   \n",
       "2                                  77.0                                69.3   \n",
       "3                                  79.2                                72.4   \n",
       "4                                  76.7                                68.4   \n",
       "\n",
       "   Female life expectancy, 1995 (years)  Male life expectancy, 2000 (years)  \\\n",
       "0                                  78.8                                74.1   \n",
       "1                                  77.2                                71.0   \n",
       "2                                  77.3                                71.7   \n",
       "3                                  79.3                                73.9   \n",
       "4                                  76.9                                70.0   \n",
       "\n",
       "   Female life expectancy, 2000 (years)  Male life expectancy, 2005 (years)  \\\n",
       "0                                  79.2                                74.9   \n",
       "1                                  77.2                                71.5   \n",
       "2                                  77.6                                72.5   \n",
       "3                                  79.2                                73.8   \n",
       "4                                  76.2                                70.5   \n",
       "\n",
       "   Female life expectancy, 2005 (years)  Male life expectancy, 2010 (years)  \\\n",
       "0                                  79.9                                76.1   \n",
       "1                                  77.3                                72.4   \n",
       "2                                  77.4                                73.3   \n",
       "3                                  79.7                                75.0   \n",
       "4                                  77.0                                72.2   \n",
       "\n",
       "   Female life expectancy, 2010 (years)  \\\n",
       "0                                  80.8   \n",
       "1                                  77.8   \n",
       "2                                  78.8   \n",
       "3                                  80.3   \n",
       "4                                  77.2   \n",
       "\n",
       "   Difference in male life expectancy, 1985-2010 (years)  \\\n",
       "0                                                5.2       \n",
       "1                                                3.3       \n",
       "2                                                5.2       \n",
       "3                                                3.8       \n",
       "4                                                5.3       \n",
       "\n",
       "   Difference in female life expectancy, 1985-2010 (years)  \n",
       "0                                                3.0        \n",
       "1                                                0.9        \n",
       "2                                                1.8        \n",
       "3                                                1.5        \n",
       "4                                                1.1        "
      ]
     },
     "execution_count": 29,
     "metadata": {},
     "output_type": "execute_result"
    }
   ],
   "source": [
    "df_life_expectancy.head()"
   ]
  },
  {
   "cell_type": "code",
   "execution_count": 30,
   "metadata": {},
   "outputs": [
    {
     "data": {
      "text/plain": [
       "State                                                       0\n",
       "County                                                     52\n",
       "Male life expectancy, 1985 (years)                          0\n",
       "Female life expectancy, 1985 (years)                        0\n",
       "Male life expectancy, 1990 (years)                          0\n",
       "Female life expectancy, 1990 (years)                        0\n",
       "Male life expectancy, 1995 (years)                          0\n",
       "Female life expectancy, 1995 (years)                        0\n",
       "Male life expectancy, 2000 (years)                          0\n",
       "Female life expectancy, 2000 (years)                        0\n",
       "Male life expectancy, 2005 (years)                          0\n",
       "Female life expectancy, 2005 (years)                        0\n",
       "Male life expectancy, 2010 (years)                          0\n",
       "Female life expectancy, 2010 (years)                        0\n",
       "Difference in male life expectancy, 1985-2010 (years)       0\n",
       "Difference in female life expectancy, 1985-2010 (years)     0\n",
       "dtype: int64"
      ]
     },
     "execution_count": 30,
     "metadata": {},
     "output_type": "execute_result"
    }
   ],
   "source": [
    "df_life_expectancy.isnull().sum()"
   ]
  },
  {
   "cell_type": "code",
   "execution_count": 31,
   "metadata": {},
   "outputs": [],
   "source": [
    "df_life_expectancy.dropna(inplace=True)"
   ]
  },
  {
   "cell_type": "code",
   "execution_count": 32,
   "metadata": {},
   "outputs": [
    {
     "data": {
      "image/png": "[encoded data removed]",
      "text/plain": [
       "<Figure size 432x288 with 1 Axes>"
      ]
     },
     "metadata": {
      "needs_background": "light"
     },
     "output_type": "display_data"
    }
   ],
   "source": [
    "import matplotlib.pyplot as plt\n",
    "\n",
    "plt.hist(df_obesity['Female obesity prevalence, 2011* (%)'],bins=50, )\n",
    "plt.title('Obesity Rates, % in 2011', size = 14);"
   ]
  },
  {
   "cell_type": "code",
   "execution_count": 33,
   "metadata": {},
   "outputs": [
    {
     "data": {
      "image/png": "[encoded data removed]",
      "text/plain": [
       "<Figure size 432x288 with 1 Axes>"
      ]
     },
     "metadata": {
      "needs_background": "light"
     },
     "output_type": "display_data"
    }
   ],
   "source": [
    "plt.hist(df_obesity['Male obesity prevalence, 2009 (%)'],bins=50, )\n",
    "plt.title('Obesity Rates, % in 2011', size = 14);"
   ]
  },
  {
   "cell_type": "markdown",
   "metadata": {},
   "source": [
    "States the highest percent of obesity Mississippu, Louisiana, and south Carolina. Mississipi appeared three times in the top five."
   ]
  },
  {
   "cell_type": "markdown",
   "metadata": {},
   "source": [
    "The top states for men are Kentucky, Mississippi, Louisiana, Ohio, and Texas."
   ]
  },
  {
   "cell_type": "code",
   "execution_count": 34,
   "metadata": {},
   "outputs": [
    {
     "data": {
      "text/plain": [
       "Index(['FIPS', 'State', 'County', 'PCT_DIABETES_ADULTS08',\n",
       "       'PCT_DIABETES_ADULTS13', 'PCT_OBESE_ADULTS08', 'PCT_OBESE_ADULTS13',\n",
       "       'RECFAC09', 'RECFAC14'],\n",
       "      dtype='object')"
      ]
     },
     "execution_count": 34,
     "metadata": {},
     "output_type": "execute_result"
    }
   ],
   "source": [
    "health.columns"
   ]
  },
  {
   "cell_type": "code",
   "execution_count": 35,
   "metadata": {},
   "outputs": [
    {
     "data": {
      "image/png": "[encoded data removed]",
      "text/plain": [
       "<Figure size 432x288 with 1 Axes>"
      ]
     },
     "metadata": {
      "needs_background": "light"
     },
     "output_type": "display_data"
    }
   ],
   "source": [
    "plt.hist(health['PCT_OBESE_ADULTS13'],bins=50, )\n",
    "plt.title('Percent of obese adults in 2013', size = 14);"
   ]
  },
  {
   "cell_type": "code",
   "execution_count": 36,
   "metadata": {},
   "outputs": [
    {
     "data": {
      "image/png": "[encoded data removed]",
      "text/plain": [
       "<Figure size 432x288 with 1 Axes>"
      ]
     },
     "metadata": {
      "needs_background": "light"
     },
     "output_type": "display_data"
    }
   ],
   "source": [
    "plt.hist(health['PCT_DIABETES_ADULTS13'],bins=50, )\n",
    "plt.title('Percent of obese adults in 2013', size = 14);"
   ]
  },
  {
   "cell_type": "code",
   "execution_count": 37,
   "metadata": {},
   "outputs": [
    {
     "data": {
      "image/png": "[encoded data removed]",
      "text/plain": [
       "<Figure size 720x720 with 1 Axes>"
      ]
     },
     "metadata": {
      "needs_background": "light"
     },
     "output_type": "display_data"
    }
   ],
   "source": [
    "plt.figure(figsize=(10,10))\n",
    "\n",
    "sns.distplot(health['PCT_DIABETES_ADULTS13'], kde = False, bins =45,hist_kws=dict(edgecolor=\"k\", linewidth=2))\n",
    "#plt.yticks(ticks = )\n",
    "plt.xlabel('Percent of Diabetic Adults') \n",
    "plt.ylabel('Counts')\n",
    "plt.title('Diabetes among Adults Distribution', fontsize = 16);"
   ]
  },
  {
   "cell_type": "code",
   "execution_count": 38,
   "metadata": {},
   "outputs": [
    {
     "data": {
      "image/png": "[encoded data removed]",
      "text/plain": [
       "<Figure size 432x288 with 1 Axes>"
      ]
     },
     "metadata": {
      "needs_background": "light"
     },
     "output_type": "display_data"
    }
   ],
   "source": [
    "plt.scatter(acess.PCT_LACCESS_POP10, acess.PCT_LACCESS_CHILD10)\n",
    "plt.xlabel('Population, low access to store (%), 2010',size = 14)\n",
    "plt.ylabel('Children, low access to store (%), 2010',size = 14)\n",
    "plt.title('Access to Stores', size=16);"
   ]
  },
  {
   "cell_type": "code",
   "execution_count": 39,
   "metadata": {},
   "outputs": [
    {
     "data": {
      "image/png": "[encoded data removed]",
      "text/plain": [
       "<Figure size 1152x576 with 1 Axes>"
      ]
     },
     "metadata": {
      "needs_background": "light"
     },
     "output_type": "display_data"
    }
   ],
   "source": [
    "fig, ax = plt.subplots(figsize=(16,8))\n",
    "ax = sns.regplot(x='PCT_LACCESS_POP10', y='PCT_LACCESS_CHILD10', data=acess, color = 'b')\n",
    "ax.set(xlabel='Population, low access to store (%), 2010', ylabel='Children, low access to store (%), 2010') \n",
    "plt.title('Acess to Stores', fontsize = 16);\n",
    "\n"
   ]
  },
  {
   "cell_type": "markdown",
   "metadata": {},
   "source": [
    "This is very correlated"
   ]
  },
  {
   "cell_type": "markdown",
   "metadata": {},
   "source": [
    "## Merging the Datasets"
   ]
  },
  {
   "cell_type": "code",
   "execution_count": 40,
   "metadata": {},
   "outputs": [],
   "source": [
    "# merge health, df_obesity, df_1 and df_2"
   ]
  },
  {
   "cell_type": "code",
   "execution_count": 41,
   "metadata": {},
   "outputs": [],
   "source": [
    "df_list = [health, df_obesity, df_life_expectancy, acess, acess_stores]"
   ]
  },
  {
   "cell_type": "code",
   "execution_count": 42,
   "metadata": {},
   "outputs": [],
   "source": [
    "df = pd.merge(left = health, # name column follows the left table\n",
    "    right = acess_stores,\n",
    "        on = \"FIPS\")"
   ]
  },
  {
   "cell_type": "code",
   "execution_count": 43,
   "metadata": {},
   "outputs": [],
   "source": [
    "df = pd.merge(left = df, # name column follows the left table\n",
    "    right = acess,\n",
    "        on = \"FIPS\")"
   ]
  },
  {
   "cell_type": "code",
   "execution_count": 44,
   "metadata": {},
   "outputs": [
    {
     "data": {
      "text/plain": [
       "Index(['FIPS', 'State_x', 'County_x', 'PCT_DIABETES_ADULTS08',\n",
       "       'PCT_DIABETES_ADULTS13', 'PCT_OBESE_ADULTS08', 'PCT_OBESE_ADULTS13',\n",
       "       'RECFAC09', 'RECFAC14', 'State_y', 'County_y', 'GROC09', 'GROC14',\n",
       "       'PCH_GROC_09_14', 'GROCPTH09', 'GROCPTH14', 'PCH_GROCPTH_09_14',\n",
       "       'SUPERC09', 'SUPERC14', 'SUPERCPTH09', 'SUPERCPTH14', 'CONVS09',\n",
       "       'CONVS14', 'PCH_CONVS_09_14', 'CONVSPTH09', 'CONVSPTH14',\n",
       "       'PCH_CONVSPTH_09_14', 'SPECS09', 'SPECS14', 'SPECSPTH09', 'SPECSPTH14',\n",
       "       'SNAPS12', 'SNAPS16', 'PCH_SNAPS_12_16', 'SNAPSPTH12', 'SNAPSPTH16',\n",
       "       'PCH_SNAPSPTH_12_16', 'WICS08', 'WICS12', 'PCH_WICS_08_12', 'WICSPTH08',\n",
       "       'WICSPTH12', 'PCH_WICSPTH_08_12', 'State', 'County', 'LACCESS_POP10',\n",
       "       'LACCESS_POP15', 'PCH_LACCESS_POP_10_15', 'PCT_LACCESS_POP10',\n",
       "       'PCT_LACCESS_POP15', 'LACCESS_LOWI10', 'LACCESS_LOWI15',\n",
       "       'PCH_LACCESS_LOWI_10_15', 'PCT_LACCESS_LOWI10', 'PCT_LACCESS_LOWI15',\n",
       "       'LACCESS_HHNV10', 'LACCESS_HHNV15', 'PCH_LACCESS_HHNV_10_15',\n",
       "       'PCT_LACCESS_HHNV10', 'PCT_LACCESS_HHNV15', 'LACCESS_SNAP15',\n",
       "       'PCT_LACCESS_SNAP15', 'LACCESS_CHILD10', 'LACCESS_CHILD15',\n",
       "       'LACCESS_CHILD_10_15', 'PCT_LACCESS_CHILD10', 'PCT_LACCESS_CHILD15',\n",
       "       'LACCESS_SENIORS10', 'LACCESS_SENIORS15', 'PCH_LACCESS_SENIORS_10_15',\n",
       "       'PCT_LACCESS_SENIORS10', 'PCT_LACCESS_SENIORS15', 'LACCESS_WHITE15',\n",
       "       'PCT_LACCESS_WHITE15', 'LACCESS_BLACK15', 'PCT_LACCESS_BLACK15',\n",
       "       'LACCESS_HISP15', 'PCT_LACCESS_HISP15', 'LACCESS_NHASIAN15',\n",
       "       'PCT_LACCESS_NHASIAN15', 'LACCESS_NHNA15', 'PCT_LACCESS_NHNA15',\n",
       "       'LACCESS_NHPI15', 'PCT_LACCESS_NHPI15', 'LACCESS_MULTIR15',\n",
       "       'PCT_LACCESS_MULTIR15'],\n",
       "      dtype='object')"
      ]
     },
     "execution_count": 44,
     "metadata": {},
     "output_type": "execute_result"
    }
   ],
   "source": [
    "df.columns"
   ]
  },
  {
   "cell_type": "code",
   "execution_count": 45,
   "metadata": {},
   "outputs": [],
   "source": [
    "df.drop(columns=['State_y', 'County_y'], inplace=True)"
   ]
  },
  {
   "cell_type": "code",
   "execution_count": 46,
   "metadata": {},
   "outputs": [
    {
     "data": {
      "text/plain": [
       "FIPS                         0\n",
       "State_x                      0\n",
       "County_x                     0\n",
       "PCT_DIABETES_ADULTS08        0\n",
       "PCT_DIABETES_ADULTS13        0\n",
       "PCT_OBESE_ADULTS08           0\n",
       "PCT_OBESE_ADULTS13           0\n",
       "RECFAC09                     0\n",
       "RECFAC14                     0\n",
       "GROC09                       0\n",
       "GROC14                       0\n",
       "PCH_GROC_09_14               0\n",
       "GROCPTH09                    0\n",
       "GROCPTH14                    0\n",
       "PCH_GROCPTH_09_14            0\n",
       "SUPERC09                     0\n",
       "SUPERC14                     0\n",
       "SUPERCPTH09                  0\n",
       "SUPERCPTH14                  0\n",
       "CONVS09                      0\n",
       "CONVS14                      0\n",
       "PCH_CONVS_09_14              0\n",
       "CONVSPTH09                   0\n",
       "CONVSPTH14                   0\n",
       "PCH_CONVSPTH_09_14           0\n",
       "SPECS09                      0\n",
       "SPECS14                      0\n",
       "SPECSPTH09                   0\n",
       "SPECSPTH14                   0\n",
       "SNAPS12                      0\n",
       "SNAPS16                      0\n",
       "PCH_SNAPS_12_16              0\n",
       "SNAPSPTH12                   0\n",
       "SNAPSPTH16                   0\n",
       "PCH_SNAPSPTH_12_16           0\n",
       "WICS08                       0\n",
       "WICS12                       0\n",
       "PCH_WICS_08_12               0\n",
       "WICSPTH08                    0\n",
       "WICSPTH12                    0\n",
       "PCH_WICSPTH_08_12            0\n",
       "State                        0\n",
       "County                       0\n",
       "LACCESS_POP10                0\n",
       "LACCESS_POP15                0\n",
       "PCH_LACCESS_POP_10_15        0\n",
       "PCT_LACCESS_POP10            0\n",
       "PCT_LACCESS_POP15            0\n",
       "LACCESS_LOWI10               0\n",
       "LACCESS_LOWI15               0\n",
       "PCH_LACCESS_LOWI_10_15       0\n",
       "PCT_LACCESS_LOWI10           0\n",
       "PCT_LACCESS_LOWI15           0\n",
       "LACCESS_HHNV10               0\n",
       "LACCESS_HHNV15               0\n",
       "PCH_LACCESS_HHNV_10_15       0\n",
       "PCT_LACCESS_HHNV10           0\n",
       "PCT_LACCESS_HHNV15           0\n",
       "LACCESS_SNAP15               0\n",
       "PCT_LACCESS_SNAP15           0\n",
       "LACCESS_CHILD10              0\n",
       "LACCESS_CHILD15              0\n",
       "LACCESS_CHILD_10_15          0\n",
       "PCT_LACCESS_CHILD10          0\n",
       "PCT_LACCESS_CHILD15          0\n",
       "LACCESS_SENIORS10            0\n",
       "LACCESS_SENIORS15            0\n",
       "PCH_LACCESS_SENIORS_10_15    0\n",
       "PCT_LACCESS_SENIORS10        0\n",
       "PCT_LACCESS_SENIORS15        0\n",
       "LACCESS_WHITE15              0\n",
       "PCT_LACCESS_WHITE15          0\n",
       "LACCESS_BLACK15              0\n",
       "PCT_LACCESS_BLACK15          0\n",
       "LACCESS_HISP15               0\n",
       "PCT_LACCESS_HISP15           0\n",
       "LACCESS_NHASIAN15            0\n",
       "PCT_LACCESS_NHASIAN15        0\n",
       "LACCESS_NHNA15               0\n",
       "PCT_LACCESS_NHNA15           0\n",
       "LACCESS_NHPI15               0\n",
       "PCT_LACCESS_NHPI15           0\n",
       "LACCESS_MULTIR15             0\n",
       "PCT_LACCESS_MULTIR15         0\n",
       "dtype: int64"
      ]
     },
     "execution_count": 46,
     "metadata": {},
     "output_type": "execute_result"
    }
   ],
   "source": [
    "df.isnull().sum()"
   ]
  },
  {
   "cell_type": "code",
   "execution_count": 47,
   "metadata": {},
   "outputs": [
    {
     "data": {
      "text/plain": [
       "(3026, 84)"
      ]
     },
     "execution_count": 47,
     "metadata": {},
     "output_type": "execute_result"
    }
   ],
   "source": [
    "df.shape"
   ]
  },
  {
   "cell_type": "code",
   "execution_count": 48,
   "metadata": {},
   "outputs": [],
   "source": [
    "df.dropna(inplace=True)"
   ]
  },
  {
   "cell_type": "markdown",
   "metadata": {},
   "source": [
    "# EDA the Merged Dataset"
   ]
  },
  {
   "cell_type": "code",
   "execution_count": 49,
   "metadata": {},
   "outputs": [
    {
     "data": {
      "text/plain": [
       "Index(['FIPS', 'State_x', 'County_x', 'PCT_DIABETES_ADULTS08',\n",
       "       'PCT_DIABETES_ADULTS13', 'PCT_OBESE_ADULTS08', 'PCT_OBESE_ADULTS13',\n",
       "       'RECFAC09', 'RECFAC14', 'GROC09', 'GROC14', 'PCH_GROC_09_14',\n",
       "       'GROCPTH09', 'GROCPTH14', 'PCH_GROCPTH_09_14', 'SUPERC09', 'SUPERC14',\n",
       "       'SUPERCPTH09', 'SUPERCPTH14', 'CONVS09', 'CONVS14', 'PCH_CONVS_09_14',\n",
       "       'CONVSPTH09', 'CONVSPTH14', 'PCH_CONVSPTH_09_14', 'SPECS09', 'SPECS14',\n",
       "       'SPECSPTH09', 'SPECSPTH14', 'SNAPS12', 'SNAPS16', 'PCH_SNAPS_12_16',\n",
       "       'SNAPSPTH12', 'SNAPSPTH16', 'PCH_SNAPSPTH_12_16', 'WICS08', 'WICS12',\n",
       "       'PCH_WICS_08_12', 'WICSPTH08', 'WICSPTH12', 'PCH_WICSPTH_08_12',\n",
       "       'State', 'County', 'LACCESS_POP10', 'LACCESS_POP15',\n",
       "       'PCH_LACCESS_POP_10_15', 'PCT_LACCESS_POP10', 'PCT_LACCESS_POP15',\n",
       "       'LACCESS_LOWI10', 'LACCESS_LOWI15', 'PCH_LACCESS_LOWI_10_15',\n",
       "       'PCT_LACCESS_LOWI10', 'PCT_LACCESS_LOWI15', 'LACCESS_HHNV10',\n",
       "       'LACCESS_HHNV15', 'PCH_LACCESS_HHNV_10_15', 'PCT_LACCESS_HHNV10',\n",
       "       'PCT_LACCESS_HHNV15', 'LACCESS_SNAP15', 'PCT_LACCESS_SNAP15',\n",
       "       'LACCESS_CHILD10', 'LACCESS_CHILD15', 'LACCESS_CHILD_10_15',\n",
       "       'PCT_LACCESS_CHILD10', 'PCT_LACCESS_CHILD15', 'LACCESS_SENIORS10',\n",
       "       'LACCESS_SENIORS15', 'PCH_LACCESS_SENIORS_10_15',\n",
       "       'PCT_LACCESS_SENIORS10', 'PCT_LACCESS_SENIORS15', 'LACCESS_WHITE15',\n",
       "       'PCT_LACCESS_WHITE15', 'LACCESS_BLACK15', 'PCT_LACCESS_BLACK15',\n",
       "       'LACCESS_HISP15', 'PCT_LACCESS_HISP15', 'LACCESS_NHASIAN15',\n",
       "       'PCT_LACCESS_NHASIAN15', 'LACCESS_NHNA15', 'PCT_LACCESS_NHNA15',\n",
       "       'LACCESS_NHPI15', 'PCT_LACCESS_NHPI15', 'LACCESS_MULTIR15',\n",
       "       'PCT_LACCESS_MULTIR15'],\n",
       "      dtype='object')"
      ]
     },
     "execution_count": 49,
     "metadata": {},
     "output_type": "execute_result"
    }
   ],
   "source": [
    "df.columns"
   ]
  },
  {
   "cell_type": "code",
   "execution_count": 50,
   "metadata": {},
   "outputs": [],
   "source": [
    "#predicting the 13 obesity rate, drop year after\n",
    "col_list = [col for col in df.columns if '15' in col]\n",
    "df.drop(col_list, axis=1, inplace=True)"
   ]
  },
  {
   "cell_type": "code",
   "execution_count": 51,
   "metadata": {},
   "outputs": [],
   "source": [
    "col_list_2 = [col for col in df.columns if '14' in col]\n",
    "df.drop(col_list_2, axis=1, inplace=True)"
   ]
  },
  {
   "cell_type": "code",
   "execution_count": 52,
   "metadata": {},
   "outputs": [],
   "source": [
    "col_list_3 = [col for col in df.columns if '16' in col]\n",
    "df.drop(col_list_3, axis=1, inplace=True)"
   ]
  },
  {
   "cell_type": "code",
   "execution_count": 53,
   "metadata": {},
   "outputs": [
    {
     "data": {
      "text/plain": [
       "Index(['FIPS', 'State_x', 'County_x', 'PCT_DIABETES_ADULTS08',\n",
       "       'PCT_DIABETES_ADULTS13', 'PCT_OBESE_ADULTS08', 'PCT_OBESE_ADULTS13',\n",
       "       'RECFAC09', 'GROC09', 'GROCPTH09', 'SUPERC09', 'SUPERCPTH09', 'CONVS09',\n",
       "       'CONVSPTH09', 'SPECS09', 'SPECSPTH09', 'SNAPS12', 'SNAPSPTH12',\n",
       "       'WICS08', 'WICS12', 'PCH_WICS_08_12', 'WICSPTH08', 'WICSPTH12',\n",
       "       'PCH_WICSPTH_08_12', 'State', 'County', 'LACCESS_POP10',\n",
       "       'PCT_LACCESS_POP10', 'LACCESS_LOWI10', 'PCT_LACCESS_LOWI10',\n",
       "       'LACCESS_HHNV10', 'PCT_LACCESS_HHNV10', 'LACCESS_CHILD10',\n",
       "       'PCT_LACCESS_CHILD10', 'LACCESS_SENIORS10', 'PCT_LACCESS_SENIORS10'],\n",
       "      dtype='object')"
      ]
     },
     "execution_count": 53,
     "metadata": {},
     "output_type": "execute_result"
    }
   ],
   "source": [
    "df.columns"
   ]
  },
  {
   "cell_type": "code",
   "execution_count": 54,
   "metadata": {},
   "outputs": [
    {
     "data": {
      "text/plain": [
       "Index(['FIPS', 'State_x', 'County_x', 'PCT_DIABETES_ADULTS08',\n",
       "       'PCT_DIABETES_ADULTS13', 'PCT_OBESE_ADULTS08', 'PCT_OBESE_ADULTS13',\n",
       "       'RECFAC09', 'GROC09', 'GROCPTH09', 'SUPERC09', 'SUPERCPTH09', 'CONVS09',\n",
       "       'CONVSPTH09', 'SPECS09', 'SPECSPTH09', 'SNAPS12', 'SNAPSPTH12',\n",
       "       'WICS08', 'WICS12', 'PCH_WICS_08_12', 'WICSPTH08', 'WICSPTH12',\n",
       "       'PCH_WICSPTH_08_12', 'State', 'County', 'LACCESS_POP10',\n",
       "       'PCT_LACCESS_POP10', 'LACCESS_LOWI10', 'PCT_LACCESS_LOWI10',\n",
       "       'LACCESS_HHNV10', 'PCT_LACCESS_HHNV10', 'LACCESS_CHILD10',\n",
       "       'PCT_LACCESS_CHILD10', 'LACCESS_SENIORS10', 'PCT_LACCESS_SENIORS10'],\n",
       "      dtype='object')"
      ]
     },
     "execution_count": 54,
     "metadata": {},
     "output_type": "execute_result"
    }
   ],
   "source": [
    "df.columns"
   ]
  },
  {
   "cell_type": "code",
   "execution_count": 55,
   "metadata": {},
   "outputs": [],
   "source": [
    "correlation = df.corr()[['PCT_OBESE_ADULTS13']].head(10)\n",
    "sorted_coefs = abs(correlation).sort_values('PCT_OBESE_ADULTS13', ascending = False)\n",
    "    \n",
    "strong_corr = sorted_coefs[(sorted_coefs['PCT_OBESE_ADULTS13'] > .1)]"
   ]
  },
  {
   "cell_type": "code",
   "execution_count": 56,
   "metadata": {},
   "outputs": [
    {
     "data": {
      "image/png": "[encoded data removed]",
      "text/plain": [
       "<Figure size 864x864 with 2 Axes>"
      ]
     },
     "metadata": {
      "needs_background": "light"
     },
     "output_type": "display_data"
    }
   ],
   "source": [
    "fig, ax = plt.subplots(figsize=(12,12)) \n",
    "ax = sns.heatmap(strong_corr,cmap= 'coolwarm',\n",
    "           vmin=-1,\n",
    "           vmax=1,\n",
    "           annot=True)\n",
    "plt.title('Correlation Heatmap', fontsize = 25);"
   ]
  },
  {
   "cell_type": "code",
   "execution_count": 57,
   "metadata": {},
   "outputs": [
    {
     "data": {
      "image/png": "[encoded data removed]",
      "text/plain": [
       "<Figure size 864x720 with 1 Axes>"
      ]
     },
     "metadata": {
      "needs_background": "light"
     },
     "output_type": "display_data"
    }
   ],
   "source": [
    "ax = strong_corr.head(15).plot(kind='barh', figsize = (12,10))\n",
    "ax.set(ylabel='Features', xlabel='Correlation to obesity') \n",
    "ax.invert_yaxis()\n",
    "plt.title('Correlation to Obesity', fontsize = 25);"
   ]
  },
  {
   "cell_type": "markdown",
   "metadata": {},
   "source": [
    "## Preprocessing"
   ]
  },
  {
   "cell_type": "code",
   "execution_count": 58,
   "metadata": {},
   "outputs": [
    {
     "data": {
      "text/plain": [
       "Index(['FIPS', 'State_x', 'County_x', 'PCT_DIABETES_ADULTS08',\n",
       "       'PCT_DIABETES_ADULTS13', 'PCT_OBESE_ADULTS08', 'PCT_OBESE_ADULTS13',\n",
       "       'RECFAC09', 'GROC09', 'GROCPTH09', 'SUPERC09', 'SUPERCPTH09', 'CONVS09',\n",
       "       'CONVSPTH09', 'SPECS09', 'SPECSPTH09', 'SNAPS12', 'SNAPSPTH12',\n",
       "       'WICS08', 'WICS12', 'PCH_WICS_08_12', 'WICSPTH08', 'WICSPTH12',\n",
       "       'PCH_WICSPTH_08_12', 'State', 'County', 'LACCESS_POP10',\n",
       "       'PCT_LACCESS_POP10', 'LACCESS_LOWI10', 'PCT_LACCESS_LOWI10',\n",
       "       'LACCESS_HHNV10', 'PCT_LACCESS_HHNV10', 'LACCESS_CHILD10',\n",
       "       'PCT_LACCESS_CHILD10', 'LACCESS_SENIORS10', 'PCT_LACCESS_SENIORS10'],\n",
       "      dtype='object')"
      ]
     },
     "execution_count": 58,
     "metadata": {},
     "output_type": "execute_result"
    }
   ],
   "source": [
    "df.columns"
   ]
  },
  {
   "cell_type": "code",
   "execution_count": 60,
   "metadata": {},
   "outputs": [
    {
     "data": {
      "text/plain": [
       "FIPS                     0\n",
       "State_x                  0\n",
       "County_x                 0\n",
       "PCT_DIABETES_ADULTS08    0\n",
       "PCT_DIABETES_ADULTS13    0\n",
       "PCT_OBESE_ADULTS08       0\n",
       "PCT_OBESE_ADULTS13       0\n",
       "RECFAC09                 0\n",
       "GROC09                   0\n",
       "GROCPTH09                0\n",
       "SUPERC09                 0\n",
       "SUPERCPTH09              0\n",
       "CONVS09                  0\n",
       "CONVSPTH09               0\n",
       "SPECS09                  0\n",
       "SPECSPTH09               0\n",
       "SNAPS12                  0\n",
       "SNAPSPTH12               0\n",
       "WICS08                   0\n",
       "WICS12                   0\n",
       "PCH_WICS_08_12           0\n",
       "WICSPTH08                0\n",
       "WICSPTH12                0\n",
       "PCH_WICSPTH_08_12        0\n",
       "State                    0\n",
       "County                   0\n",
       "LACCESS_POP10            0\n",
       "PCT_LACCESS_POP10        0\n",
       "LACCESS_LOWI10           0\n",
       "PCT_LACCESS_LOWI10       0\n",
       "LACCESS_HHNV10           0\n",
       "PCT_LACCESS_HHNV10       0\n",
       "LACCESS_CHILD10          0\n",
       "PCT_LACCESS_CHILD10      0\n",
       "LACCESS_SENIORS10        0\n",
       "PCT_LACCESS_SENIORS10    0\n",
       "dtype: int64"
      ]
     },
     "execution_count": 60,
     "metadata": {},
     "output_type": "execute_result"
    }
   ],
   "source": [
    "# I need to drop rows with over 200 null values!\n",
    "pd.set_option('display.max_rows', 200)\n",
    "df.isnull().sum()"
   ]
  },
  {
   "cell_type": "markdown",
   "metadata": {},
   "source": [
    "## Multicollinearity"
   ]
  },
  {
   "cell_type": "code",
   "execution_count": 61,
   "metadata": {},
   "outputs": [],
   "source": [
    "corr=df.iloc[:,:-1].corr()"
   ]
  },
  {
   "cell_type": "code",
   "execution_count": 62,
   "metadata": {},
   "outputs": [
    {
     "data": {
      "text/plain": [
       "PCT_OBESE_ADULTS13       1.000000\n",
       "PCT_OBESE_ADULTS08       0.821190\n",
       "PCT_DIABETES_ADULTS13    0.691162\n",
       "PCT_DIABETES_ADULTS08    0.648299\n",
       "SNAPSPTH12               0.308744\n",
       "PCT_LACCESS_HHNV10       0.298537\n",
       "CONVSPTH09               0.168556\n",
       "SUPERCPTH09              0.078380\n",
       "WICSPTH08                0.065577\n",
       "WICSPTH12                0.047263\n",
       "Name: PCT_OBESE_ADULTS13, dtype: float64"
      ]
     },
     "execution_count": 62,
     "metadata": {},
     "output_type": "execute_result"
    }
   ],
   "source": [
    "# check for correlation \n",
    "corr = df.corr()\n",
    "corr['PCT_OBESE_ADULTS13'].sort_values(ascending=False).head(10)"
   ]
  },
  {
   "cell_type": "code",
   "execution_count": 63,
   "metadata": {},
   "outputs": [],
   "source": [
    "corr = pd.DataFrame(corr)"
   ]
  },
  {
   "cell_type": "code",
   "execution_count": 64,
   "metadata": {},
   "outputs": [
    {
     "data": {
      "text/html": [
       "<div>\n",
       "<style scoped>\n",
       "    .dataframe tbody tr th:only-of-type {\n",
       "        vertical-align: middle;\n",
       "    }\n",
       "\n",
       "    .dataframe tbody tr th {\n",
       "        vertical-align: top;\n",
       "    }\n",
       "\n",
       "    .dataframe thead th {\n",
       "        text-align: right;\n",
       "    }\n",
       "</style>\n",
       "<table border=\"1\" class=\"dataframe\">\n",
       "  <thead>\n",
       "    <tr style=\"text-align: right;\">\n",
       "      <th></th>\n",
       "      <th>FIPS</th>\n",
       "      <th>PCT_DIABETES_ADULTS08</th>\n",
       "      <th>PCT_DIABETES_ADULTS13</th>\n",
       "      <th>PCT_OBESE_ADULTS08</th>\n",
       "      <th>PCT_OBESE_ADULTS13</th>\n",
       "      <th>RECFAC09</th>\n",
       "      <th>GROC09</th>\n",
       "      <th>GROCPTH09</th>\n",
       "      <th>SUPERC09</th>\n",
       "      <th>SUPERCPTH09</th>\n",
       "      <th>...</th>\n",
       "      <th>LACCESS_POP10</th>\n",
       "      <th>PCT_LACCESS_POP10</th>\n",
       "      <th>LACCESS_LOWI10</th>\n",
       "      <th>PCT_LACCESS_LOWI10</th>\n",
       "      <th>LACCESS_HHNV10</th>\n",
       "      <th>PCT_LACCESS_HHNV10</th>\n",
       "      <th>LACCESS_CHILD10</th>\n",
       "      <th>PCT_LACCESS_CHILD10</th>\n",
       "      <th>LACCESS_SENIORS10</th>\n",
       "      <th>PCT_LACCESS_SENIORS10</th>\n",
       "    </tr>\n",
       "  </thead>\n",
       "  <tbody>\n",
       "    <tr>\n",
       "      <td>FIPS</td>\n",
       "      <td>1.000000</td>\n",
       "      <td>0.017404</td>\n",
       "      <td>-0.038185</td>\n",
       "      <td>0.005310</td>\n",
       "      <td>-0.040508</td>\n",
       "      <td>-0.051804</td>\n",
       "      <td>-0.043635</td>\n",
       "      <td>-0.012840</td>\n",
       "      <td>-0.034268</td>\n",
       "      <td>0.006282</td>\n",
       "      <td>...</td>\n",
       "      <td>-0.042382</td>\n",
       "      <td>0.044901</td>\n",
       "      <td>-0.036495</td>\n",
       "      <td>0.016687</td>\n",
       "      <td>-0.024463</td>\n",
       "      <td>-0.079863</td>\n",
       "      <td>-0.032644</td>\n",
       "      <td>0.040314</td>\n",
       "      <td>-0.063701</td>\n",
       "      <td>0.064777</td>\n",
       "    </tr>\n",
       "    <tr>\n",
       "      <td>PCT_DIABETES_ADULTS08</td>\n",
       "      <td>0.017404</td>\n",
       "      <td>1.000000</td>\n",
       "      <td>0.857698</td>\n",
       "      <td>0.723933</td>\n",
       "      <td>0.648299</td>\n",
       "      <td>-0.191461</td>\n",
       "      <td>-0.109922</td>\n",
       "      <td>-0.032712</td>\n",
       "      <td>-0.150640</td>\n",
       "      <td>0.015725</td>\n",
       "      <td>...</td>\n",
       "      <td>-0.172797</td>\n",
       "      <td>-0.151558</td>\n",
       "      <td>-0.114634</td>\n",
       "      <td>0.004709</td>\n",
       "      <td>-0.051321</td>\n",
       "      <td>0.321583</td>\n",
       "      <td>-0.172561</td>\n",
       "      <td>-0.156798</td>\n",
       "      <td>-0.153813</td>\n",
       "      <td>-0.078629</td>\n",
       "    </tr>\n",
       "    <tr>\n",
       "      <td>PCT_DIABETES_ADULTS13</td>\n",
       "      <td>-0.038185</td>\n",
       "      <td>0.857698</td>\n",
       "      <td>1.000000</td>\n",
       "      <td>0.688402</td>\n",
       "      <td>0.691162</td>\n",
       "      <td>-0.220418</td>\n",
       "      <td>-0.132464</td>\n",
       "      <td>-0.059878</td>\n",
       "      <td>-0.177922</td>\n",
       "      <td>0.019708</td>\n",
       "      <td>...</td>\n",
       "      <td>-0.207251</td>\n",
       "      <td>-0.181043</td>\n",
       "      <td>-0.151601</td>\n",
       "      <td>-0.024050</td>\n",
       "      <td>-0.082413</td>\n",
       "      <td>0.315142</td>\n",
       "      <td>-0.208262</td>\n",
       "      <td>-0.194315</td>\n",
       "      <td>-0.178219</td>\n",
       "      <td>-0.086076</td>\n",
       "    </tr>\n",
       "    <tr>\n",
       "      <td>PCT_OBESE_ADULTS08</td>\n",
       "      <td>0.005310</td>\n",
       "      <td>0.723933</td>\n",
       "      <td>0.688402</td>\n",
       "      <td>1.000000</td>\n",
       "      <td>0.821190</td>\n",
       "      <td>-0.277665</td>\n",
       "      <td>-0.188724</td>\n",
       "      <td>-0.072025</td>\n",
       "      <td>-0.167591</td>\n",
       "      <td>0.063605</td>\n",
       "      <td>...</td>\n",
       "      <td>-0.220511</td>\n",
       "      <td>-0.113933</td>\n",
       "      <td>-0.143941</td>\n",
       "      <td>0.031179</td>\n",
       "      <td>-0.104281</td>\n",
       "      <td>0.349003</td>\n",
       "      <td>-0.206182</td>\n",
       "      <td>-0.076171</td>\n",
       "      <td>-0.243685</td>\n",
       "      <td>-0.131699</td>\n",
       "    </tr>\n",
       "    <tr>\n",
       "      <td>PCT_OBESE_ADULTS13</td>\n",
       "      <td>-0.040508</td>\n",
       "      <td>0.648299</td>\n",
       "      <td>0.691162</td>\n",
       "      <td>0.821190</td>\n",
       "      <td>1.000000</td>\n",
       "      <td>-0.297827</td>\n",
       "      <td>-0.212822</td>\n",
       "      <td>-0.077832</td>\n",
       "      <td>-0.186353</td>\n",
       "      <td>0.078380</td>\n",
       "      <td>...</td>\n",
       "      <td>-0.248412</td>\n",
       "      <td>-0.128940</td>\n",
       "      <td>-0.168734</td>\n",
       "      <td>0.010433</td>\n",
       "      <td>-0.135437</td>\n",
       "      <td>0.298537</td>\n",
       "      <td>-0.234485</td>\n",
       "      <td>-0.097689</td>\n",
       "      <td>-0.260289</td>\n",
       "      <td>-0.121553</td>\n",
       "    </tr>\n",
       "  </tbody>\n",
       "</table>\n",
       "<p>5 rows × 32 columns</p>\n",
       "</div>"
      ],
      "text/plain": [
       "                           FIPS  PCT_DIABETES_ADULTS08  PCT_DIABETES_ADULTS13  \\\n",
       "FIPS                   1.000000               0.017404              -0.038185   \n",
       "PCT_DIABETES_ADULTS08  0.017404               1.000000               0.857698   \n",
       "PCT_DIABETES_ADULTS13 -0.038185               0.857698               1.000000   \n",
       "PCT_OBESE_ADULTS08     0.005310               0.723933               0.688402   \n",
       "PCT_OBESE_ADULTS13    -0.040508               0.648299               0.691162   \n",
       "\n",
       "                       PCT_OBESE_ADULTS08  PCT_OBESE_ADULTS13  RECFAC09  \\\n",
       "FIPS                             0.005310           -0.040508 -0.051804   \n",
       "PCT_DIABETES_ADULTS08            0.723933            0.648299 -0.191461   \n",
       "PCT_DIABETES_ADULTS13            0.688402            0.691162 -0.220418   \n",
       "PCT_OBESE_ADULTS08               1.000000            0.821190 -0.277665   \n",
       "PCT_OBESE_ADULTS13               0.821190            1.000000 -0.297827   \n",
       "\n",
       "                         GROC09  GROCPTH09  SUPERC09  SUPERCPTH09  ...  \\\n",
       "FIPS                  -0.043635  -0.012840 -0.034268     0.006282  ...   \n",
       "PCT_DIABETES_ADULTS08 -0.109922  -0.032712 -0.150640     0.015725  ...   \n",
       "PCT_DIABETES_ADULTS13 -0.132464  -0.059878 -0.177922     0.019708  ...   \n",
       "PCT_OBESE_ADULTS08    -0.188724  -0.072025 -0.167591     0.063605  ...   \n",
       "PCT_OBESE_ADULTS13    -0.212822  -0.077832 -0.186353     0.078380  ...   \n",
       "\n",
       "                       LACCESS_POP10  PCT_LACCESS_POP10  LACCESS_LOWI10  \\\n",
       "FIPS                       -0.042382           0.044901       -0.036495   \n",
       "PCT_DIABETES_ADULTS08      -0.172797          -0.151558       -0.114634   \n",
       "PCT_DIABETES_ADULTS13      -0.207251          -0.181043       -0.151601   \n",
       "PCT_OBESE_ADULTS08         -0.220511          -0.113933       -0.143941   \n",
       "PCT_OBESE_ADULTS13         -0.248412          -0.128940       -0.168734   \n",
       "\n",
       "                       PCT_LACCESS_LOWI10  LACCESS_HHNV10  PCT_LACCESS_HHNV10  \\\n",
       "FIPS                             0.016687       -0.024463           -0.079863   \n",
       "PCT_DIABETES_ADULTS08            0.004709       -0.051321            0.321583   \n",
       "PCT_DIABETES_ADULTS13           -0.024050       -0.082413            0.315142   \n",
       "PCT_OBESE_ADULTS08               0.031179       -0.104281            0.349003   \n",
       "PCT_OBESE_ADULTS13               0.010433       -0.135437            0.298537   \n",
       "\n",
       "                       LACCESS_CHILD10  PCT_LACCESS_CHILD10  \\\n",
       "FIPS                         -0.032644             0.040314   \n",
       "PCT_DIABETES_ADULTS08        -0.172561            -0.156798   \n",
       "PCT_DIABETES_ADULTS13        -0.208262            -0.194315   \n",
       "PCT_OBESE_ADULTS08           -0.206182            -0.076171   \n",
       "PCT_OBESE_ADULTS13           -0.234485            -0.097689   \n",
       "\n",
       "                       LACCESS_SENIORS10  PCT_LACCESS_SENIORS10  \n",
       "FIPS                           -0.063701               0.064777  \n",
       "PCT_DIABETES_ADULTS08          -0.153813              -0.078629  \n",
       "PCT_DIABETES_ADULTS13          -0.178219              -0.086076  \n",
       "PCT_OBESE_ADULTS08             -0.243685              -0.131699  \n",
       "PCT_OBESE_ADULTS13             -0.260289              -0.121553  \n",
       "\n",
       "[5 rows x 32 columns]"
      ]
     },
     "execution_count": 64,
     "metadata": {},
     "output_type": "execute_result"
    }
   ],
   "source": [
    "corr.head()"
   ]
  },
  {
   "cell_type": "code",
   "execution_count": 65,
   "metadata": {},
   "outputs": [],
   "source": []
  },
  {
   "cell_type": "markdown",
   "metadata": {},
   "source": [
    "## Feature Selection"
   ]
  },
  {
   "cell_type": "markdown",
   "metadata": {},
   "source": [
    "- which features should be included\n",
    "- which features should be dropped "
   ]
  },
  {
   "cell_type": "code",
   "execution_count": 74,
   "metadata": {},
   "outputs": [],
   "source": [
    "# dummy variables "
   ]
  },
  {
   "cell_type": "code",
   "execution_count": 75,
   "metadata": {},
   "outputs": [
    {
     "data": {
      "text/plain": [
       "FIPS                       int64\n",
       "State_x                   object\n",
       "County_x                  object\n",
       "PCT_DIABETES_ADULTS08    float64\n",
       "PCT_DIABETES_ADULTS13    float64\n",
       "PCT_OBESE_ADULTS08       float64\n",
       "PCT_OBESE_ADULTS13       float64\n",
       "RECFAC09                   int64\n",
       "GROC09                     int64\n",
       "GROCPTH09                float64\n",
       "SUPERC09                   int64\n",
       "SUPERCPTH09              float64\n",
       "CONVS09                    int64\n",
       "CONVSPTH09               float64\n",
       "SPECS09                    int64\n",
       "SPECSPTH09               float64\n",
       "SNAPS12                  float64\n",
       "SNAPSPTH12               float64\n",
       "WICS08                     int64\n",
       "WICS12                     int64\n",
       "PCH_WICS_08_12           float64\n",
       "WICSPTH08                float64\n",
       "WICSPTH12                float64\n",
       "PCH_WICSPTH_08_12        float64\n",
       "State                     object\n",
       "County                    object\n",
       "LACCESS_POP10            float64\n",
       "PCT_LACCESS_POP10        float64\n",
       "LACCESS_LOWI10           float64\n",
       "PCT_LACCESS_LOWI10       float64\n",
       "LACCESS_HHNV10           float64\n",
       "PCT_LACCESS_HHNV10       float64\n",
       "LACCESS_CHILD10          float64\n",
       "PCT_LACCESS_CHILD10      float64\n",
       "LACCESS_SENIORS10        float64\n",
       "PCT_LACCESS_SENIORS10    float64\n",
       "dtype: object"
      ]
     },
     "execution_count": 75,
     "metadata": {},
     "output_type": "execute_result"
    }
   ],
   "source": [
    "df.dtypes"
   ]
  },
  {
   "cell_type": "code",
   "execution_count": 76,
   "metadata": {},
   "outputs": [],
   "source": [
    "list_of_cols_to_dummy = ['State', 'County', 'State_x', 'County_x']"
   ]
  },
  {
   "cell_type": "code",
   "execution_count": null,
   "metadata": {},
   "outputs": [],
   "source": []
  },
  {
   "cell_type": "code",
   "execution_count": null,
   "metadata": {},
   "outputs": [],
   "source": []
  },
  {
   "cell_type": "code",
   "execution_count": null,
   "metadata": {},
   "outputs": [],
   "source": []
  },
  {
   "cell_type": "code",
   "execution_count": 77,
   "metadata": {},
   "outputs": [],
   "source": [
    "df = pd.get_dummies(df, columns = list_of_cols_to_dummy, drop_first = True)"
   ]
  },
  {
   "cell_type": "markdown",
   "metadata": {},
   "source": [
    "## Modelling"
   ]
  },
  {
   "cell_type": "markdown",
   "metadata": {},
   "source": [
    "# Regression Metrics Function"
   ]
  },
  {
   "cell_type": "code",
   "execution_count": 78,
   "metadata": {},
   "outputs": [],
   "source": [
    "def regression_metrics(y,preds):\n",
    "    sq_diff = (y-preds)**2 \n",
    "    SSE = np.sum(sq_diff)\n",
    "    MSE = metrics.mean_squared_error(y,preds)\n",
    "    RMSE = np.sqrt(MSE)\n",
    "    MAE = metrics.mean_absolute_error(y,preds)\n",
    "    r2 = metrics.r2_score(y,preds)\n",
    "    n= y.shape[0]\n",
    "    p = len(features)\n",
    "    r2_adj =  1 - (((n-1)/(n-(p+1))))*(1-r2)\n",
    "    print(f'This is SSE: {SSE}')\n",
    "    print(f'This is MSE: {MSE}')\n",
    "    print(f'This is RMSE: {RMSE}')\n",
    "    print(f'This is MAE: {MAE}')\n",
    "    print(f'This is r2: {r2}')\n",
    "    print(f'This is r2_adj: {r2_adj}')"
   ]
  },
  {
   "cell_type": "markdown",
   "metadata": {},
   "source": [
    "# Train/Test Split"
   ]
  },
  {
   "cell_type": "code",
   "execution_count": 79,
   "metadata": {},
   "outputs": [
    {
     "data": {
      "text/plain": [
       "Index(['FIPS', 'PCT_DIABETES_ADULTS08', 'PCT_DIABETES_ADULTS13',\n",
       "       'PCT_OBESE_ADULTS08', 'PCT_OBESE_ADULTS13', 'RECFAC09', 'GROC09',\n",
       "       'GROCPTH09', 'SUPERC09', 'SUPERCPTH09',\n",
       "       ...\n",
       "       'County_x_Yellowstone', 'County_x_Yoakum', 'County_x_Yolo',\n",
       "       'County_x_York', 'County_x_Young', 'County_x_Yuba',\n",
       "       'County_x_Yukon-Koyukuk', 'County_x_Yuma', 'County_x_Zapata',\n",
       "       'County_x_Zavala'],\n",
       "      dtype='object', length=3664)"
      ]
     },
     "execution_count": 79,
     "metadata": {},
     "output_type": "execute_result"
    }
   ],
   "source": [
    "df.columns"
   ]
  },
  {
   "cell_type": "code",
   "execution_count": 80,
   "metadata": {},
   "outputs": [],
   "source": [
    "X = df.drop(columns = ['PCT_OBESE_ADULTS13'])"
   ]
  },
  {
   "cell_type": "code",
   "execution_count": 81,
   "metadata": {},
   "outputs": [],
   "source": [
    "y = df['PCT_OBESE_ADULTS13']"
   ]
  },
  {
   "cell_type": "code",
   "execution_count": 82,
   "metadata": {},
   "outputs": [
    {
     "data": {
      "text/plain": [
       "(3026,)"
      ]
     },
     "execution_count": 82,
     "metadata": {},
     "output_type": "execute_result"
    }
   ],
   "source": [
    "y.shape"
   ]
  },
  {
   "cell_type": "code",
   "execution_count": null,
   "metadata": {},
   "outputs": [],
   "source": []
  },
  {
   "cell_type": "code",
   "execution_count": 83,
   "metadata": {},
   "outputs": [],
   "source": [
    "#X_train.to_csv(\"data_train.csv\")"
   ]
  },
  {
   "cell_type": "code",
   "execution_count": 84,
   "metadata": {},
   "outputs": [],
   "source": [
    "#X_test.to_csv(\"data_test.csv\")"
   ]
  },
  {
   "cell_type": "code",
   "execution_count": 85,
   "metadata": {},
   "outputs": [],
   "source": [
    "X_train, X_test, y_train, y_test = train_test_split(X, y,\n",
    "                                                    test_size = .33,\n",
    "                                                    random_state=22)"
   ]
  },
  {
   "cell_type": "markdown",
   "metadata": {},
   "source": [
    "## Baseline Model"
   ]
  },
  {
   "cell_type": "code",
   "execution_count": 86,
   "metadata": {},
   "outputs": [],
   "source": [
    "# baseline for a linear regression model\n",
    "\n",
    "base_mean = DummyRegressor(strategy = 'mean')\n",
    "\n",
    "base_mean.fit(X_train, y_train)\n",
    "\n",
    "y_hat_base_train = base_mean.predict(X_train)\n",
    "y_hat_base_test = base_mean.predict(X_test)\n"
   ]
  },
  {
   "cell_type": "code",
   "execution_count": 87,
   "metadata": {},
   "outputs": [
    {
     "data": {
      "text/plain": [
       "4.453446838711558"
      ]
     },
     "execution_count": 87,
     "metadata": {},
     "output_type": "execute_result"
    }
   ],
   "source": [
    "np.sqrt(mean_squared_error(y_train, y_hat_base_train))"
   ]
  },
  {
   "cell_type": "code",
   "execution_count": 88,
   "metadata": {},
   "outputs": [
    {
     "data": {
      "text/plain": [
       "4.622503430576777"
      ]
     },
     "execution_count": 88,
     "metadata": {},
     "output_type": "execute_result"
    }
   ],
   "source": [
    "np.sqrt(mean_squared_error(y_test, y_hat_base_test))"
   ]
  },
  {
   "cell_type": "markdown",
   "metadata": {},
   "source": [
    "## Linear Regression Model"
   ]
  },
  {
   "cell_type": "code",
   "execution_count": 89,
   "metadata": {},
   "outputs": [],
   "source": [
    "# features will be what is correlated to sales price after the feature engineering\n",
    "correlation = df.corr()[['PCT_OBESE_ADULTS13']]\n",
    "    \n",
    "sorted_coefs = abs(correlation).sort_values('PCT_OBESE_ADULTS13', ascending = False)\n",
    "    \n",
    "strong_corr = sorted_coefs[(sorted_coefs['PCT_OBESE_ADULTS13'] > .1)]"
   ]
  },
  {
   "cell_type": "code",
   "execution_count": 90,
   "metadata": {},
   "outputs": [
    {
     "data": {
      "text/html": [
       "<div>\n",
       "<style scoped>\n",
       "    .dataframe tbody tr th:only-of-type {\n",
       "        vertical-align: middle;\n",
       "    }\n",
       "\n",
       "    .dataframe tbody tr th {\n",
       "        vertical-align: top;\n",
       "    }\n",
       "\n",
       "    .dataframe thead th {\n",
       "        text-align: right;\n",
       "    }\n",
       "</style>\n",
       "<table border=\"1\" class=\"dataframe\">\n",
       "  <thead>\n",
       "    <tr style=\"text-align: right;\">\n",
       "      <th></th>\n",
       "    </tr>\n",
       "  </thead>\n",
       "  <tbody>\n",
       "    <tr>\n",
       "      <td>PCT_OBESE_ADULTS13</td>\n",
       "    </tr>\n",
       "    <tr>\n",
       "      <td>PCT_OBESE_ADULTS08</td>\n",
       "    </tr>\n",
       "    <tr>\n",
       "      <td>PCT_DIABETES_ADULTS13</td>\n",
       "    </tr>\n",
       "    <tr>\n",
       "      <td>PCT_DIABETES_ADULTS08</td>\n",
       "    </tr>\n",
       "    <tr>\n",
       "      <td>State_CO</td>\n",
       "    </tr>\n",
       "    <tr>\n",
       "      <td>State_x_CO</td>\n",
       "    </tr>\n",
       "    <tr>\n",
       "      <td>SNAPSPTH12</td>\n",
       "    </tr>\n",
       "    <tr>\n",
       "      <td>PCT_LACCESS_HHNV10</td>\n",
       "    </tr>\n",
       "    <tr>\n",
       "      <td>RECFAC09</td>\n",
       "    </tr>\n",
       "    <tr>\n",
       "      <td>LACCESS_SENIORS10</td>\n",
       "    </tr>\n",
       "    <tr>\n",
       "      <td>LACCESS_POP10</td>\n",
       "    </tr>\n",
       "    <tr>\n",
       "      <td>SPECS09</td>\n",
       "    </tr>\n",
       "    <tr>\n",
       "      <td>LACCESS_CHILD10</td>\n",
       "    </tr>\n",
       "    <tr>\n",
       "      <td>State_x_CA</td>\n",
       "    </tr>\n",
       "    <tr>\n",
       "      <td>State_CA</td>\n",
       "    </tr>\n",
       "    <tr>\n",
       "      <td>GROC09</td>\n",
       "    </tr>\n",
       "    <tr>\n",
       "      <td>State_x_MS</td>\n",
       "    </tr>\n",
       "    <tr>\n",
       "      <td>State_MS</td>\n",
       "    </tr>\n",
       "    <tr>\n",
       "      <td>CONVS09</td>\n",
       "    </tr>\n",
       "    <tr>\n",
       "      <td>SUPERC09</td>\n",
       "    </tr>\n",
       "    <tr>\n",
       "      <td>SPECSPTH09</td>\n",
       "    </tr>\n",
       "    <tr>\n",
       "      <td>SNAPS12</td>\n",
       "    </tr>\n",
       "    <tr>\n",
       "      <td>State_x_AR</td>\n",
       "    </tr>\n",
       "    <tr>\n",
       "      <td>State_AR</td>\n",
       "    </tr>\n",
       "    <tr>\n",
       "      <td>WICS12</td>\n",
       "    </tr>\n",
       "    <tr>\n",
       "      <td>LACCESS_LOWI10</td>\n",
       "    </tr>\n",
       "    <tr>\n",
       "      <td>CONVSPTH09</td>\n",
       "    </tr>\n",
       "    <tr>\n",
       "      <td>State_x_LA</td>\n",
       "    </tr>\n",
       "    <tr>\n",
       "      <td>State_LA</td>\n",
       "    </tr>\n",
       "    <tr>\n",
       "      <td>State_x_AL</td>\n",
       "    </tr>\n",
       "    <tr>\n",
       "      <td>State_AL</td>\n",
       "    </tr>\n",
       "    <tr>\n",
       "      <td>WICS08</td>\n",
       "    </tr>\n",
       "    <tr>\n",
       "      <td>State_TX</td>\n",
       "    </tr>\n",
       "    <tr>\n",
       "      <td>State_x_TX</td>\n",
       "    </tr>\n",
       "    <tr>\n",
       "      <td>State_NM</td>\n",
       "    </tr>\n",
       "    <tr>\n",
       "      <td>State_x_NM</td>\n",
       "    </tr>\n",
       "    <tr>\n",
       "      <td>State_x_KY</td>\n",
       "    </tr>\n",
       "    <tr>\n",
       "      <td>State_KY</td>\n",
       "    </tr>\n",
       "    <tr>\n",
       "      <td>LACCESS_HHNV10</td>\n",
       "    </tr>\n",
       "    <tr>\n",
       "      <td>PCT_LACCESS_POP10</td>\n",
       "    </tr>\n",
       "    <tr>\n",
       "      <td>PCH_WICS_08_12</td>\n",
       "    </tr>\n",
       "    <tr>\n",
       "      <td>State_x_WV</td>\n",
       "    </tr>\n",
       "    <tr>\n",
       "      <td>State_WV</td>\n",
       "    </tr>\n",
       "    <tr>\n",
       "      <td>PCT_LACCESS_SENIORS10</td>\n",
       "    </tr>\n",
       "    <tr>\n",
       "      <td>State_OK</td>\n",
       "    </tr>\n",
       "    <tr>\n",
       "      <td>State_x_OK</td>\n",
       "    </tr>\n",
       "    <tr>\n",
       "      <td>State_x_MA</td>\n",
       "    </tr>\n",
       "    <tr>\n",
       "      <td>State_MA</td>\n",
       "    </tr>\n",
       "    <tr>\n",
       "      <td>State_x_NY</td>\n",
       "    </tr>\n",
       "    <tr>\n",
       "      <td>State_NY</td>\n",
       "    </tr>\n",
       "    <tr>\n",
       "      <td>State_x_SC</td>\n",
       "    </tr>\n",
       "    <tr>\n",
       "      <td>State_SC</td>\n",
       "    </tr>\n",
       "    <tr>\n",
       "      <td>State_x_MT</td>\n",
       "    </tr>\n",
       "    <tr>\n",
       "      <td>State_MT</td>\n",
       "    </tr>\n",
       "    <tr>\n",
       "      <td>State_x_UT</td>\n",
       "    </tr>\n",
       "    <tr>\n",
       "      <td>State_UT</td>\n",
       "    </tr>\n",
       "  </tbody>\n",
       "</table>\n",
       "</div>"
      ],
      "text/plain": [
       "Empty DataFrame\n",
       "Columns: []\n",
       "Index: [PCT_OBESE_ADULTS13, PCT_OBESE_ADULTS08, PCT_DIABETES_ADULTS13, PCT_DIABETES_ADULTS08, State_CO, State_x_CO, SNAPSPTH12, PCT_LACCESS_HHNV10, RECFAC09, LACCESS_SENIORS10, LACCESS_POP10, SPECS09, LACCESS_CHILD10, State_x_CA, State_CA, GROC09, State_x_MS, State_MS, CONVS09, SUPERC09, SPECSPTH09, SNAPS12, State_x_AR, State_AR, WICS12, LACCESS_LOWI10, CONVSPTH09, State_x_LA, State_LA, State_x_AL, State_AL, WICS08, State_TX, State_x_TX, State_NM, State_x_NM, State_x_KY, State_KY, LACCESS_HHNV10, PCT_LACCESS_POP10, PCH_WICS_08_12, State_x_WV, State_WV, PCT_LACCESS_SENIORS10, State_OK, State_x_OK, State_x_MA, State_MA, State_x_NY, State_NY, State_x_SC, State_SC, State_x_MT, State_MT, State_x_UT, State_UT]"
      ]
     },
     "execution_count": 90,
     "metadata": {},
     "output_type": "execute_result"
    }
   ],
   "source": [
    "strong_corr.drop(['PCT_OBESE_ADULTS13'], axis=1)"
   ]
  },
  {
   "cell_type": "code",
   "execution_count": 91,
   "metadata": {},
   "outputs": [
    {
     "data": {
      "text/plain": [
       "Index(['PCT_OBESE_ADULTS13', 'PCT_OBESE_ADULTS08', 'PCT_DIABETES_ADULTS13',\n",
       "       'PCT_DIABETES_ADULTS08', 'State_CO', 'State_x_CO', 'SNAPSPTH12',\n",
       "       'PCT_LACCESS_HHNV10', 'RECFAC09', 'LACCESS_SENIORS10', 'LACCESS_POP10',\n",
       "       'SPECS09', 'LACCESS_CHILD10', 'State_x_CA', 'State_CA', 'GROC09',\n",
       "       'State_x_MS', 'State_MS', 'CONVS09', 'SUPERC09', 'SPECSPTH09',\n",
       "       'SNAPS12', 'State_x_AR', 'State_AR', 'WICS12', 'LACCESS_LOWI10',\n",
       "       'CONVSPTH09', 'State_x_LA', 'State_LA', 'State_x_AL', 'State_AL',\n",
       "       'WICS08', 'State_TX', 'State_x_TX', 'State_NM', 'State_x_NM',\n",
       "       'State_x_KY', 'State_KY', 'LACCESS_HHNV10', 'PCT_LACCESS_POP10',\n",
       "       'PCH_WICS_08_12', 'State_x_WV', 'State_WV', 'PCT_LACCESS_SENIORS10',\n",
       "       'State_OK', 'State_x_OK', 'State_x_MA', 'State_MA', 'State_x_NY',\n",
       "       'State_NY', 'State_x_SC', 'State_SC', 'State_x_MT', 'State_MT',\n",
       "       'State_x_UT', 'State_UT'],\n",
       "      dtype='object')"
      ]
     },
     "execution_count": 91,
     "metadata": {},
     "output_type": "execute_result"
    }
   ],
   "source": [
    "strong_corr.index"
   ]
  },
  {
   "cell_type": "code",
   "execution_count": 92,
   "metadata": {},
   "outputs": [],
   "source": [
    "strong_corr_2 = strong_corr.drop(['PCT_OBESE_ADULTS13','PCT_OBESE_ADULTS08' ])"
   ]
  },
  {
   "cell_type": "code",
   "execution_count": 93,
   "metadata": {},
   "outputs": [],
   "source": [
    "features = list(strong_corr_2.index)"
   ]
  },
  {
   "cell_type": "code",
   "execution_count": 94,
   "metadata": {},
   "outputs": [],
   "source": [
    "\n",
    "\n",
    "X= df.drop(columns = ['PCT_OBESE_ADULTS13','PCT_OBESE_ADULTS08', 'FIPS'])\n",
    "y = df['PCT_OBESE_ADULTS13']"
   ]
  },
  {
   "cell_type": "code",
   "execution_count": 95,
   "metadata": {},
   "outputs": [
    {
     "data": {
      "text/plain": [
       "Index(['PCT_DIABETES_ADULTS08', 'PCT_DIABETES_ADULTS13', 'RECFAC09', 'GROC09',\n",
       "       'GROCPTH09', 'SUPERC09', 'SUPERCPTH09', 'CONVS09', 'CONVSPTH09',\n",
       "       'SPECS09',\n",
       "       ...\n",
       "       'County_x_Yellowstone', 'County_x_Yoakum', 'County_x_Yolo',\n",
       "       'County_x_York', 'County_x_Young', 'County_x_Yuba',\n",
       "       'County_x_Yukon-Koyukuk', 'County_x_Yuma', 'County_x_Zapata',\n",
       "       'County_x_Zavala'],\n",
       "      dtype='object', length=3661)"
      ]
     },
     "execution_count": 95,
     "metadata": {},
     "output_type": "execute_result"
    }
   ],
   "source": [
    "X.columns"
   ]
  },
  {
   "cell_type": "code",
   "execution_count": 96,
   "metadata": {},
   "outputs": [
    {
     "data": {
      "text/plain": [
       "LinearRegression(copy_X=True, fit_intercept=True, n_jobs=None, normalize=False)"
      ]
     },
     "execution_count": 96,
     "metadata": {},
     "output_type": "execute_result"
    }
   ],
   "source": [
    "lr = LinearRegression()\n",
    "lr.fit(X_train, y_train)"
   ]
  },
  {
   "cell_type": "code",
   "execution_count": 97,
   "metadata": {},
   "outputs": [
    {
     "data": {
      "text/plain": [
       "(999, 3663)"
      ]
     },
     "execution_count": 97,
     "metadata": {},
     "output_type": "execute_result"
    }
   ],
   "source": [
    "X_test.shape"
   ]
  },
  {
   "cell_type": "code",
   "execution_count": 98,
   "metadata": {},
   "outputs": [
    {
     "data": {
      "text/plain": [
       "(999,)"
      ]
     },
     "execution_count": 98,
     "metadata": {},
     "output_type": "execute_result"
    }
   ],
   "source": [
    "y_test.shape"
   ]
  },
  {
   "cell_type": "code",
   "execution_count": 99,
   "metadata": {},
   "outputs": [
    {
     "data": {
      "text/plain": [
       "(2027, 3663)"
      ]
     },
     "execution_count": 99,
     "metadata": {},
     "output_type": "execute_result"
    }
   ],
   "source": [
    "X_train.shape"
   ]
  },
  {
   "cell_type": "code",
   "execution_count": 100,
   "metadata": {},
   "outputs": [
    {
     "data": {
      "text/plain": [
       "(2027,)"
      ]
     },
     "execution_count": 100,
     "metadata": {},
     "output_type": "execute_result"
    }
   ],
   "source": [
    "y_train.shape"
   ]
  },
  {
   "cell_type": "code",
   "execution_count": 101,
   "metadata": {},
   "outputs": [
    {
     "data": {
      "text/plain": [
       "0.925023208323412"
      ]
     },
     "execution_count": 101,
     "metadata": {},
     "output_type": "execute_result"
    }
   ],
   "source": [
    "lr.score(X_train, y_train)"
   ]
  },
  {
   "cell_type": "code",
   "execution_count": 102,
   "metadata": {},
   "outputs": [
    {
     "data": {
      "text/plain": [
       "array([-8.21762778e-04,  2.99834758e-02,  5.90664285e-01, ...,\n",
       "        0.00000000e+00, -1.85798202e+00, -9.66979812e-01])"
      ]
     },
     "execution_count": 102,
     "metadata": {},
     "output_type": "execute_result"
    }
   ],
   "source": [
    "lr.coef_"
   ]
  },
  {
   "cell_type": "code",
   "execution_count": 103,
   "metadata": {},
   "outputs": [
    {
     "data": {
      "text/plain": [
       "0.5716563893304014"
      ]
     },
     "execution_count": 103,
     "metadata": {},
     "output_type": "execute_result"
    }
   ],
   "source": [
    "lr.score(X_test, y_test)"
   ]
  },
  {
   "cell_type": "code",
   "execution_count": 104,
   "metadata": {},
   "outputs": [],
   "source": [
    "model_1 = lr.predict(X_train)"
   ]
  },
  {
   "cell_type": "code",
   "execution_count": 105,
   "metadata": {},
   "outputs": [],
   "source": [
    "model_2 = lr.predict(X_test)"
   ]
  },
  {
   "cell_type": "markdown",
   "metadata": {},
   "source": [
    "This model is extremeley overfit"
   ]
  },
  {
   "cell_type": "code",
   "execution_count": 106,
   "metadata": {},
   "outputs": [
    {
     "name": "stdout",
     "output_type": "stream",
     "text": [
      "This is SSE: 3014.2075009096225\n",
      "This is MSE: 1.4870288608335582\n",
      "This is RMSE: 1.219437928241351\n",
      "This is MAE: 0.6689102370968671\n",
      "This is r2: 0.925023208323412\n",
      "This is r2_adj: 0.9229700913099558\n"
     ]
    }
   ],
   "source": [
    "regression_metrics(y_train,model_1)"
   ]
  },
  {
   "cell_type": "code",
   "execution_count": 107,
   "metadata": {},
   "outputs": [
    {
     "name": "stdout",
     "output_type": "stream",
     "text": [
      "This is SSE: 9143.365532268246\n",
      "This is MSE: 9.152518050318564\n",
      "This is RMSE: 3.0253128846978066\n",
      "This is MAE: 2.245543886450611\n",
      "This is r2: 0.5716563893304014\n",
      "This is r2_adj: 0.5471536827878609\n"
     ]
    }
   ],
   "source": [
    "regression_metrics(y_test,model_2)"
   ]
  },
  {
   "cell_type": "code",
   "execution_count": 108,
   "metadata": {},
   "outputs": [],
   "source": [
    "#lr_df_coeff = pd.DataFrame({\n",
    "    #'column':df.drop(columns = ['PCT_OBESE_ADULTS13','PCT_OBESE_ADULTS08', 'FIPS']),\n",
    "    #'coef': lasso.coef_,\n",
    "    #'abs_coef': np.abs(lr.coef_)"
   ]
  },
  {
   "cell_type": "code",
   "execution_count": 109,
   "metadata": {},
   "outputs": [],
   "source": [
    "#ax = lr_df_coeff.set_index('column').head(15).sort_values(by = 'abs_coef', ascending = False).plot(kind = 'barh', figsize = (12,10))\n",
    "#ax.set(xlabel='Value Added', ylabel='Features') \n",
    "#ax.invert_yaxis()\n",
    "#plt.title('Value added by Feature', fontsize = 25);"
   ]
  },
  {
   "cell_type": "markdown",
   "metadata": {},
   "source": [
    "## Lasso and Ridge"
   ]
  },
  {
   "cell_type": "code",
   "execution_count": 110,
   "metadata": {},
   "outputs": [],
   "source": [
    "from sklearn.preprocessing import StandardScaler"
   ]
  },
  {
   "cell_type": "code",
   "execution_count": 111,
   "metadata": {},
   "outputs": [],
   "source": [
    "#scaling to conduct ridge and lasso\n",
    "sc = StandardScaler()\n",
    "Z_train = sc.fit_transform(X_train)\n",
    "Z_test = sc.transform(X_test)"
   ]
  },
  {
   "cell_type": "code",
   "execution_count": 112,
   "metadata": {},
   "outputs": [],
   "source": [
    "from sklearn.linear_model import Lasso"
   ]
  },
  {
   "cell_type": "code",
   "execution_count": 113,
   "metadata": {},
   "outputs": [],
   "source": [
    "from sklearn.linear_model import LassoCV"
   ]
  },
  {
   "cell_type": "code",
   "execution_count": null,
   "metadata": {},
   "outputs": [],
   "source": []
  },
  {
   "cell_type": "code",
   "execution_count": null,
   "metadata": {},
   "outputs": [],
   "source": []
  },
  {
   "cell_type": "code",
   "execution_count": null,
   "metadata": {},
   "outputs": [],
   "source": []
  },
  {
   "cell_type": "code",
   "execution_count": null,
   "metadata": {},
   "outputs": [],
   "source": []
  },
  {
   "cell_type": "markdown",
   "metadata": {},
   "source": [
    "# PCA"
   ]
  },
  {
   "cell_type": "code",
   "execution_count": null,
   "metadata": {},
   "outputs": [],
   "source": [
    "from sklearn.decomposition import PCA\n",
    "from sklearn.preprocessing import scale"
   ]
  },
  {
   "cell_type": "code",
   "execution_count": null,
   "metadata": {},
   "outputs": [],
   "source": [
    "pca = PCA()"
   ]
  },
  {
   "cell_type": "code",
   "execution_count": null,
   "metadata": {},
   "outputs": [],
   "source": []
  },
  {
   "cell_type": "code",
   "execution_count": null,
   "metadata": {},
   "outputs": [],
   "source": []
  },
  {
   "cell_type": "code",
   "execution_count": null,
   "metadata": {},
   "outputs": [],
   "source": []
  },
  {
   "cell_type": "code",
   "execution_count": null,
   "metadata": {},
   "outputs": [],
   "source": []
  },
  {
   "cell_type": "code",
   "execution_count": null,
   "metadata": {},
   "outputs": [],
   "source": []
  },
  {
   "cell_type": "code",
   "execution_count": null,
   "metadata": {},
   "outputs": [],
   "source": []
  }
 ],
 "metadata": {
  "kernelspec": {
   "display_name": "Python 3",
   "language": "python",
   "name": "python3"
  },
  "language_info": {
   "codemirror_mode": {
    "name": "ipython",
    "version": 3
   },
   "file_extension": ".py",
   "mimetype": "text/x-python",
   "name": "python",
   "nbconvert_exporter": "python",
   "pygments_lexer": "ipython3",
   "version": "3.7.4"
  }
 },
 "nbformat": 4,
 "nbformat_minor": 2
}
