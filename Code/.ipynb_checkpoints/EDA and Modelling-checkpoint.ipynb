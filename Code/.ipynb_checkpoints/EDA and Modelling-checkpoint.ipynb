{
 "cells": [
  {
   "cell_type": "markdown",
   "metadata": {},
   "source": [
    "# Predicting-Obesity-Rate-Bases-on-Food-Environment"
   ]
  },
  {
   "cell_type": "markdown",
   "metadata": {},
   "source": [
    "## Contents"
   ]
  },
  {
   "cell_type": "markdown",
   "metadata": {},
   "source": [
    "- [Import Packages and Data](#Import-Packages-and-Data)\n",
    "- [Problem Statement](#Problem-Statement)\n",
    "- [Outside Research](#Outside-Research)\n",
    "- [Executive Summary](#Executive-Summary)\n",
    "- [EDA](#EDA)\n",
    "    - [Merging The dataset](#Merging-The-Dataset)\n",
    "    - [Renaming](#Renaming-Columns)\n",
    "    - [Checking for Outliers](#Checking-for-Outliers)\n",
    "    - [Feature-Engineeing](#Feature-Engineering)\n",
    "- [Modelling](#Modelling)\n",
    "    - [Baseline Model](#Baseline-Model)\n",
    "    - [Linear Regression](#Linear-Regression)\n",
    "    - [Regularized Linear Regression](#Regularized-Linear-Regression)\n",
    "    - [Lasso](#Lasso)\n",
    "    - [PCA](#PCA)\n",
    "- [Conclusions](#Conclusions)\n",
    "- [Limitations](#Limitations)"
   ]
  },
  {
   "cell_type": "markdown",
   "metadata": {},
   "source": [
    "## Imports "
   ]
  },
  {
   "cell_type": "code",
   "execution_count": 4,
   "metadata": {},
   "outputs": [],
   "source": [
    "import pandas as pd\n",
    "import numpy as np\n",
    "from pandas import Series, DataFrame\n",
    "import numpy as np\n",
    "import pandas as pd\n",
    "import matplotlib.pyplot as plt\n",
    "import seaborn as sns\n",
    "from sklearn.preprocessing import StandardScaler\n",
    "from sklearn import metrics\n",
    "from sklearn.linear_model import LinearRegression\n",
    "from sklearn.model_selection import train_test_split\n",
    "from sklearn.metrics import mean_squared_error\n",
    "from sklearn.dummy import DummyRegressor\n",
    "import matplotlib.pyplot as plt"
   ]
  },
  {
   "cell_type": "markdown",
   "metadata": {},
   "source": [
    "## Problem Statement"
   ]
  },
  {
   "cell_type": "markdown",
   "metadata": {},
   "source": [
    "The question we am seeking to answer is whether the number of healthy food stores available in each county can predict the obesity rate. We found data on food deserts from the United States Department of Agriculture. In order to see the relationships between a person's food environment and obesity, the data set consists of the availability of the number of grocery stores, fast food restaurants, and full-service restaurants. Look at which observations have the greatest impact on obesity rates. "
   ]
  },
  {
   "cell_type": "markdown",
   "metadata": {},
   "source": [
    "## Outside Research"
   ]
  },
  {
   "cell_type": "markdown",
   "metadata": {},
   "source": [
    "A food atlas or a “food desert” is an area with limited access to affordable and healthy food. It hard for Americans to eat a healthy diet when they don’t have access to healthy food, and this is a main reason why we still have high obesity rates in many parts of the country. The rate of diabetes among Americans has more than doubled (Ghosh-Dastidat & D. Cohen & G. Hunter & S. N. Zenk & C. Huang & R. Beckman & T. Dubowitz, 2014).  The increases of supermarkets that are a half a mile distance from households have resulted in a lower BMI. A person’s food environment can greatly affect obesity rates in the U.S.  People living in low-income neighborhoods have poorer health and higher rates of obesity (Ghosh-Dastidat et al, 2014). The distance to restaurants, fast food restaurants and grocery stores can impact your eating choices. We seeks to show how your food environment can help determine obesity rates for each county in all fifty states of the U.S. We believe that the number of unhealthy food option will cause an increase the obesity levels in the county. Counties with access to healthier food choices will have a negative correlation with obesity rates. \n",
    "\n",
    "\n",
    "Obesity is still a major problem in the United States. Although, we have a better understanding on what is considered a healthy diet, many Americans don’t have access to affordable and healthy food. Americans are also choosing not to follow a healthy lifestyle because of the increased price of the food items. Lower-income households are relying more on “empty calorie” food that are readily available at convenience stores and fast food restaurants (R.E. Walker & Jason Block & Ichiro Kawachi, 2010). The U.S. Office of Agriculture found that 2.3 million people live more than a mile from the grocery store and don’t own a car (R.E. Walker et al, 2010). It is also difficult for large supermarkets to find enough space to build their store in urban areas. As a result, the creation of more supermarkets and grocery stores are seen as undesirable (Chi, Sang-Hyun & Diana S. Grigsby-Toussaint & Natalie Bradford & Jinmu Choi, 2013). In more rural areas, people lack pubic transportation and the number of grocery stores is growing at a much smaller rate as compared to the rate of fast food restaurants. Philadelphia had the second lowest number of supermarkets among other U.S. major cities and lower income neighborhood at thirty percent less food stores than higher income neighborhoods (R.E. Walker et al, 2010). The emergence of food deserts came with more upper class households leaving the cities to go to the suburban areas (R.E. Walker & Jason Block & Ichiro Kawachi, 2010). Studies have found that obesity stems from unhealthy eating habits. Americans have limited access to adequate food and people are at risk for food insecurity and obesity (Ghosh-Dastidat et al, 2014). The U.S. has one of the highest rates in food insecurity when compared to other countries. In order to combat obesity, we need to make is a priority that everyone has equal access to affordable and healthier food choices. A healthy food environment refers to having easy access to supermarkets, farmers markets and convenience stores."
   ]
  },
  {
   "cell_type": "markdown",
   "metadata": {},
   "source": [
    "## Executive Summary"
   ]
  },
  {
   "cell_type": "markdown",
   "metadata": {},
   "source": [
    "This analysis showed how access to different types of food stores could impact obesity rates among adults and found that there is a statistically significant relationship between the number of fast food restaurants and obesity among children and adults. However, the RMSE scores were not very low so the model did not represent strong evidence that these factors were the only variables affecting obesity. In the U.S., healthier food items tend to be a lot more expensive than the unhealthy food items. As result, even if the counties had a lot of different food options and easy access to healthier food stores, a low-income household will choose the cheapest option and ignore the health consequences. The region of the U.S. is also very important factor that accounts for the obesity levels. Some counties had a small number of grocery stores and access to healthy food options, and many households do not have access to a car. The lack of access to supermarkets has a greater chance of health challenges such as diabetes, heart disease and cancer. Unhealthy food may be a lot cheaper in the short run but there is significant evidence that unhealthy eating will lead to diabetes, cardiovascular disease and other life threatening diseases. The consequences in the long run are a lot worse. In order to end obesity in the U.S., we need to make the healthier food options more affordable. If I were to conduct this study again, I would want to look at prices of the food items and make interaction terms with the price variables and the stores variables. Prices have a lot of impact on what Americans choose to eat. Therefore, the regression with food prices might have a higher score and show a stronger relationship to the obesity rate in adults."
   ]
  },
  {
   "cell_type": "markdown",
   "metadata": {},
   "source": [
    "## EDA"
   ]
  },
  {
   "cell_type": "markdown",
   "metadata": {},
   "source": [
    "The current version of the Food Environment Atlas has over 275 variables, including new indicators on access and proximity to a grocery store for sub populations; an indicator on the SNAP Combined Application Project for recipients of Supplemental Security Income (at the State level); and indicators on farmers' markets that report accepting credit cards or report selling baked and prepared food products"
   ]
  },
  {
   "cell_type": "markdown",
   "metadata": {},
   "source": [
    "[Data Dictionary ](https://www.ers.usda.gov/webdocs/DataFiles/80526/archived_documentation_August2015.pdf?v=0)"
   ]
  },
  {
   "cell_type": "code",
   "execution_count": 5,
   "metadata": {},
   "outputs": [
    {
     "name": "stdout",
     "output_type": "stream",
     "text": [
      "<class 'pandas.core.frame.DataFrame'>\n",
      "RangeIndex: 3143 entries, 0 to 3142\n",
      "Data columns (total 14 columns):\n",
      "FIPS                     3143 non-null int64\n",
      "State                    3143 non-null object\n",
      "County                   3143 non-null object\n",
      "PCT_DIABETES_ADULTS08    3138 non-null float64\n",
      "PCT_DIABETES_ADULTS13    3142 non-null float64\n",
      "PCT_OBESE_ADULTS08       3138 non-null float64\n",
      "PCT_OBESE_ADULTS13       3142 non-null float64\n",
      "PCT_HSPA15               2025 non-null float64\n",
      "RECFAC09                 3143 non-null int64\n",
      "RECFAC14                 3143 non-null int64\n",
      "PCH_RECFAC_09_14         3020 non-null float64\n",
      "RECFACPTH09              3143 non-null float64\n",
      "RECFACPTH14              3143 non-null float64\n",
      "PCH_RECFACPTH_09_14      3020 non-null float64\n",
      "dtypes: float64(9), int64(3), object(2)\n",
      "memory usage: 343.9+ KB\n"
     ]
    }
   ],
   "source": [
    "health = pd.read_excel('../Data/DataDownloadfull.xls',sheet_name='HEALTH')\n",
    "health.info()"
   ]
  },
  {
   "cell_type": "markdown",
   "metadata": {},
   "source": [
    "PCT_obese_adults13 should be the y values on train that we are predicting"
   ]
  },
  {
   "cell_type": "code",
   "execution_count": 6,
   "metadata": {},
   "outputs": [
    {
     "data": {
      "text/plain": [
       "FIPS                        0\n",
       "State                       0\n",
       "County                      0\n",
       "PCT_DIABETES_ADULTS08       5\n",
       "PCT_DIABETES_ADULTS13       1\n",
       "PCT_OBESE_ADULTS08          5\n",
       "PCT_OBESE_ADULTS13          1\n",
       "PCT_HSPA15               1118\n",
       "RECFAC09                    0\n",
       "RECFAC14                    0\n",
       "PCH_RECFAC_09_14          123\n",
       "RECFACPTH09                 0\n",
       "RECFACPTH14                 0\n",
       "PCH_RECFACPTH_09_14       123\n",
       "dtype: int64"
      ]
     },
     "execution_count": 6,
     "metadata": {},
     "output_type": "execute_result"
    }
   ],
   "source": [
    "health.isnull().sum()"
   ]
  },
  {
   "cell_type": "markdown",
   "metadata": {},
   "source": [
    "We will drop PCT_HSPA15, PCH_RECFAC_09_14, and PCH_RECFACPTH_09_14 More focused on the pct of obese adults."
   ]
  },
  {
   "cell_type": "code",
   "execution_count": 7,
   "metadata": {},
   "outputs": [],
   "source": [
    "health.drop(columns=['PCT_HSPA15', 'PCH_RECFAC_09_14','PCH_RECFACPTH_09_14', 'RECFACPTH09','RECFACPTH14'], inplace=True)"
   ]
  },
  {
   "cell_type": "code",
   "execution_count": 8,
   "metadata": {},
   "outputs": [],
   "source": [
    "#drop the rest of the NA's\n",
    "health.dropna(inplace=True)"
   ]
  },
  {
   "cell_type": "code",
   "execution_count": 9,
   "metadata": {},
   "outputs": [
    {
     "data": {
      "text/plain": [
       "FIPS                     0\n",
       "State                    0\n",
       "County                   0\n",
       "PCT_DIABETES_ADULTS08    0\n",
       "PCT_DIABETES_ADULTS13    0\n",
       "PCT_OBESE_ADULTS08       0\n",
       "PCT_OBESE_ADULTS13       0\n",
       "RECFAC09                 0\n",
       "RECFAC14                 0\n",
       "dtype: int64"
      ]
     },
     "execution_count": 9,
     "metadata": {},
     "output_type": "execute_result"
    }
   ],
   "source": [
    "health.isnull().sum()"
   ]
  },
  {
   "cell_type": "markdown",
   "metadata": {},
   "source": [
    "The local dataframe talks about the access to local produce either through a farmersmarket or a local farmer. "
   ]
  },
  {
   "cell_type": "code",
   "execution_count": 10,
   "metadata": {},
   "outputs": [],
   "source": [
    "pd.set_option('display.max_rows', 300)"
   ]
  },
  {
   "cell_type": "code",
   "execution_count": 11,
   "metadata": {},
   "outputs": [],
   "source": [
    "acess = pd.read_excel('../Data/Acess_food.xlsx')"
   ]
  },
  {
   "cell_type": "code",
   "execution_count": 12,
   "metadata": {},
   "outputs": [
    {
     "data": {
      "text/html": [
       "<div>\n",
       "<style scoped>\n",
       "    .dataframe tbody tr th:only-of-type {\n",
       "        vertical-align: middle;\n",
       "    }\n",
       "\n",
       "    .dataframe tbody tr th {\n",
       "        vertical-align: top;\n",
       "    }\n",
       "\n",
       "    .dataframe thead th {\n",
       "        text-align: right;\n",
       "    }\n",
       "</style>\n",
       "<table border=\"1\" class=\"dataframe\">\n",
       "  <thead>\n",
       "    <tr style=\"text-align: right;\">\n",
       "      <th></th>\n",
       "      <th>FIPS</th>\n",
       "      <th>State</th>\n",
       "      <th>County</th>\n",
       "      <th>LACCESS_POP10</th>\n",
       "      <th>LACCESS_POP15</th>\n",
       "      <th>PCH_LACCESS_POP_10_15</th>\n",
       "      <th>PCT_LACCESS_POP10</th>\n",
       "      <th>PCT_LACCESS_POP15</th>\n",
       "      <th>LACCESS_LOWI10</th>\n",
       "      <th>LACCESS_LOWI15</th>\n",
       "      <th>...</th>\n",
       "      <th>LACCESS_HISP15</th>\n",
       "      <th>PCT_LACCESS_HISP15</th>\n",
       "      <th>LACCESS_NHASIAN15</th>\n",
       "      <th>PCT_LACCESS_NHASIAN15</th>\n",
       "      <th>LACCESS_NHNA15</th>\n",
       "      <th>PCT_LACCESS_NHNA15</th>\n",
       "      <th>LACCESS_NHPI15</th>\n",
       "      <th>PCT_LACCESS_NHPI15</th>\n",
       "      <th>LACCESS_MULTIR15</th>\n",
       "      <th>PCT_LACCESS_MULTIR15</th>\n",
       "    </tr>\n",
       "  </thead>\n",
       "  <tbody>\n",
       "    <tr>\n",
       "      <td>0</td>\n",
       "      <td>1001</td>\n",
       "      <td>AL</td>\n",
       "      <td>Autauga</td>\n",
       "      <td>18428.439685</td>\n",
       "      <td>17496.693038</td>\n",
       "      <td>-5.056026</td>\n",
       "      <td>33.769657</td>\n",
       "      <td>32.062255</td>\n",
       "      <td>5344.427472</td>\n",
       "      <td>6543.676824</td>\n",
       "      <td>...</td>\n",
       "      <td>471.136164</td>\n",
       "      <td>0.863345</td>\n",
       "      <td>86.767975</td>\n",
       "      <td>0.159000</td>\n",
       "      <td>61.169869</td>\n",
       "      <td>0.112092</td>\n",
       "      <td>8.817961</td>\n",
       "      <td>0.016159</td>\n",
       "      <td>482.848633</td>\n",
       "      <td>0.884808</td>\n",
       "    </tr>\n",
       "    <tr>\n",
       "      <td>1</td>\n",
       "      <td>1003</td>\n",
       "      <td>AL</td>\n",
       "      <td>Baldwin</td>\n",
       "      <td>35210.814078</td>\n",
       "      <td>30561.264430</td>\n",
       "      <td>-13.204891</td>\n",
       "      <td>19.318473</td>\n",
       "      <td>16.767489</td>\n",
       "      <td>9952.144027</td>\n",
       "      <td>9886.831137</td>\n",
       "      <td>...</td>\n",
       "      <td>1377.874834</td>\n",
       "      <td>0.755973</td>\n",
       "      <td>212.946378</td>\n",
       "      <td>0.116833</td>\n",
       "      <td>181.649648</td>\n",
       "      <td>0.099662</td>\n",
       "      <td>14.819634</td>\n",
       "      <td>0.008131</td>\n",
       "      <td>1127.696098</td>\n",
       "      <td>0.618712</td>\n",
       "    </tr>\n",
       "    <tr>\n",
       "      <td>2</td>\n",
       "      <td>1005</td>\n",
       "      <td>AL</td>\n",
       "      <td>Barbour</td>\n",
       "      <td>5722.305602</td>\n",
       "      <td>6069.523628</td>\n",
       "      <td>6.067799</td>\n",
       "      <td>20.840972</td>\n",
       "      <td>22.105560</td>\n",
       "      <td>3135.676086</td>\n",
       "      <td>2948.790251</td>\n",
       "      <td>...</td>\n",
       "      <td>509.377525</td>\n",
       "      <td>1.855183</td>\n",
       "      <td>17.096410</td>\n",
       "      <td>0.062266</td>\n",
       "      <td>39.960527</td>\n",
       "      <td>0.145539</td>\n",
       "      <td>8.082376</td>\n",
       "      <td>0.029436</td>\n",
       "      <td>462.382655</td>\n",
       "      <td>1.684025</td>\n",
       "    </tr>\n",
       "    <tr>\n",
       "      <td>3</td>\n",
       "      <td>1007</td>\n",
       "      <td>AL</td>\n",
       "      <td>Bibb</td>\n",
       "      <td>1044.867327</td>\n",
       "      <td>969.378841</td>\n",
       "      <td>-7.224696</td>\n",
       "      <td>4.559753</td>\n",
       "      <td>4.230324</td>\n",
       "      <td>491.449066</td>\n",
       "      <td>596.162829</td>\n",
       "      <td>...</td>\n",
       "      <td>8.596762</td>\n",
       "      <td>0.037516</td>\n",
       "      <td>1.994318</td>\n",
       "      <td>0.008703</td>\n",
       "      <td>2.513097</td>\n",
       "      <td>0.010967</td>\n",
       "      <td>0.000000</td>\n",
       "      <td>0.000000</td>\n",
       "      <td>5.259244</td>\n",
       "      <td>0.022951</td>\n",
       "    </tr>\n",
       "    <tr>\n",
       "      <td>4</td>\n",
       "      <td>1009</td>\n",
       "      <td>AL</td>\n",
       "      <td>Blount</td>\n",
       "      <td>1548.175559</td>\n",
       "      <td>3724.428242</td>\n",
       "      <td>140.568857</td>\n",
       "      <td>2.700840</td>\n",
       "      <td>6.497380</td>\n",
       "      <td>609.027708</td>\n",
       "      <td>1650.959482</td>\n",
       "      <td>...</td>\n",
       "      <td>497.489891</td>\n",
       "      <td>0.867886</td>\n",
       "      <td>8.428994</td>\n",
       "      <td>0.014705</td>\n",
       "      <td>28.938242</td>\n",
       "      <td>0.050484</td>\n",
       "      <td>1.062851</td>\n",
       "      <td>0.001854</td>\n",
       "      <td>202.914187</td>\n",
       "      <td>0.353990</td>\n",
       "    </tr>\n",
       "  </tbody>\n",
       "</table>\n",
       "<p>5 rows × 44 columns</p>\n",
       "</div>"
      ],
      "text/plain": [
       "   FIPS State   County  LACCESS_POP10  LACCESS_POP15  PCH_LACCESS_POP_10_15  \\\n",
       "0  1001    AL  Autauga   18428.439685   17496.693038              -5.056026   \n",
       "1  1003    AL  Baldwin   35210.814078   30561.264430             -13.204891   \n",
       "2  1005    AL  Barbour    5722.305602    6069.523628               6.067799   \n",
       "3  1007    AL     Bibb    1044.867327     969.378841              -7.224696   \n",
       "4  1009    AL   Blount    1548.175559    3724.428242             140.568857   \n",
       "\n",
       "   PCT_LACCESS_POP10  PCT_LACCESS_POP15  LACCESS_LOWI10  LACCESS_LOWI15  ...  \\\n",
       "0          33.769657          32.062255     5344.427472     6543.676824  ...   \n",
       "1          19.318473          16.767489     9952.144027     9886.831137  ...   \n",
       "2          20.840972          22.105560     3135.676086     2948.790251  ...   \n",
       "3           4.559753           4.230324      491.449066      596.162829  ...   \n",
       "4           2.700840           6.497380      609.027708     1650.959482  ...   \n",
       "\n",
       "   LACCESS_HISP15  PCT_LACCESS_HISP15  LACCESS_NHASIAN15  \\\n",
       "0      471.136164            0.863345          86.767975   \n",
       "1     1377.874834            0.755973         212.946378   \n",
       "2      509.377525            1.855183          17.096410   \n",
       "3        8.596762            0.037516           1.994318   \n",
       "4      497.489891            0.867886           8.428994   \n",
       "\n",
       "   PCT_LACCESS_NHASIAN15  LACCESS_NHNA15  PCT_LACCESS_NHNA15  LACCESS_NHPI15  \\\n",
       "0               0.159000       61.169869            0.112092        8.817961   \n",
       "1               0.116833      181.649648            0.099662       14.819634   \n",
       "2               0.062266       39.960527            0.145539        8.082376   \n",
       "3               0.008703        2.513097            0.010967        0.000000   \n",
       "4               0.014705       28.938242            0.050484        1.062851   \n",
       "\n",
       "   PCT_LACCESS_NHPI15  LACCESS_MULTIR15  PCT_LACCESS_MULTIR15  \n",
       "0            0.016159        482.848633              0.884808  \n",
       "1            0.008131       1127.696098              0.618712  \n",
       "2            0.029436        462.382655              1.684025  \n",
       "3            0.000000          5.259244              0.022951  \n",
       "4            0.001854        202.914187              0.353990  \n",
       "\n",
       "[5 rows x 44 columns]"
      ]
     },
     "execution_count": 12,
     "metadata": {},
     "output_type": "execute_result"
    }
   ],
   "source": [
    "acess.head()"
   ]
  },
  {
   "cell_type": "code",
   "execution_count": 13,
   "metadata": {},
   "outputs": [
    {
     "data": {
      "text/plain": [
       "FIPS                          0\n",
       "State                         0\n",
       "County                        0\n",
       "LACCESS_POP10                 0\n",
       "LACCESS_POP15                19\n",
       "PCH_LACCESS_POP_10_15        26\n",
       "PCT_LACCESS_POP10             0\n",
       "PCT_LACCESS_POP15            19\n",
       "LACCESS_LOWI10                0\n",
       "LACCESS_LOWI15               20\n",
       "PCH_LACCESS_LOWI_10_15       28\n",
       "PCT_LACCESS_LOWI10            0\n",
       "PCT_LACCESS_LOWI15           20\n",
       "LACCESS_HHNV10                0\n",
       "LACCESS_HHNV15                3\n",
       "PCH_LACCESS_HHNV_10_15       14\n",
       "PCT_LACCESS_HHNV10            0\n",
       "PCT_LACCESS_HHNV15            3\n",
       "LACCESS_SNAP15               20\n",
       "PCT_LACCESS_SNAP15           20\n",
       "LACCESS_CHILD10               0\n",
       "LACCESS_CHILD15              19\n",
       "LACCESS_CHILD_10_15          28\n",
       "PCT_LACCESS_CHILD10           0\n",
       "PCT_LACCESS_CHILD15          19\n",
       "LACCESS_SENIORS10             0\n",
       "LACCESS_SENIORS15            19\n",
       "PCH_LACCESS_SENIORS_10_15    26\n",
       "PCT_LACCESS_SENIORS10         0\n",
       "PCT_LACCESS_SENIORS15        19\n",
       "LACCESS_WHITE15              19\n",
       "PCT_LACCESS_WHITE15          19\n",
       "LACCESS_BLACK15              19\n",
       "PCT_LACCESS_BLACK15          19\n",
       "LACCESS_HISP15               19\n",
       "PCT_LACCESS_HISP15           19\n",
       "LACCESS_NHASIAN15            19\n",
       "PCT_LACCESS_NHASIAN15        19\n",
       "LACCESS_NHNA15               19\n",
       "PCT_LACCESS_NHNA15           19\n",
       "LACCESS_NHPI15               19\n",
       "PCT_LACCESS_NHPI15           19\n",
       "LACCESS_MULTIR15             19\n",
       "PCT_LACCESS_MULTIR15         19\n",
       "dtype: int64"
      ]
     },
     "execution_count": 13,
     "metadata": {},
     "output_type": "execute_result"
    }
   ],
   "source": [
    "acess.isnull().sum()"
   ]
  },
  {
   "cell_type": "code",
   "execution_count": 14,
   "metadata": {},
   "outputs": [
    {
     "data": {
      "text/plain": [
       "(3143, 44)"
      ]
     },
     "execution_count": 14,
     "metadata": {},
     "output_type": "execute_result"
    }
   ],
   "source": [
    "# not a lot of null values so will drop those \n",
    "acess.shape"
   ]
  },
  {
   "cell_type": "code",
   "execution_count": 15,
   "metadata": {},
   "outputs": [],
   "source": [
    "acess.dropna(inplace=True)"
   ]
  },
  {
   "cell_type": "code",
   "execution_count": 16,
   "metadata": {},
   "outputs": [],
   "source": [
    "acess_stores = pd.read_excel('../Data/acesstostores.xlsx')"
   ]
  },
  {
   "cell_type": "code",
   "execution_count": 17,
   "metadata": {},
   "outputs": [
    {
     "data": {
      "text/plain": [
       "FIPS                     0\n",
       "State                    0\n",
       "County                   0\n",
       "GROC09                   0\n",
       "GROC14                   0\n",
       "PCH_GROC_09_14          20\n",
       "GROCPTH09                0\n",
       "GROCPTH14                0\n",
       "PCH_GROCPTH_09_14       15\n",
       "SUPERC09                 0\n",
       "SUPERC14                 0\n",
       "PCH_SUPERC_09_14       140\n",
       "SUPERCPTH09              0\n",
       "SUPERCPTH14              0\n",
       "PCH_SUPERCPTH_09_14    139\n",
       "CONVS09                  0\n",
       "CONVS14                  0\n",
       "PCH_CONVS_09_14         24\n",
       "CONVSPTH09               0\n",
       "CONVSPTH14               0\n",
       "PCH_CONVSPTH_09_14      19\n",
       "SPECS09                  0\n",
       "SPECS14                  0\n",
       "PCH_SPECS_09_14        192\n",
       "SPECSPTH09               0\n",
       "SPECSPTH14               0\n",
       "PCH_SPECSPTH_09_14     188\n",
       "SNAPS12                  0\n",
       "SNAPS16                 26\n",
       "PCH_SNAPS_12_16         29\n",
       "SNAPSPTH12               0\n",
       "SNAPSPTH16              29\n",
       "PCH_SNAPSPTH_12_16      32\n",
       "WICS08                   0\n",
       "WICS12                   0\n",
       "PCH_WICS_08_12          19\n",
       "WICSPTH08                0\n",
       "WICSPTH12                0\n",
       "PCH_WICSPTH_08_12       19\n",
       "dtype: int64"
      ]
     },
     "execution_count": 17,
     "metadata": {},
     "output_type": "execute_result"
    }
   ],
   "source": [
    "acess_stores.isnull().sum()"
   ]
  },
  {
   "cell_type": "markdown",
   "metadata": {},
   "source": [
    "We are going to drop rows with a lot of missing values "
   ]
  },
  {
   "cell_type": "markdown",
   "metadata": {},
   "source": [
    "The rows that we will drop - PCH_SUPERC_09_14, PCH_SUPERCPTH_09_14, PCH_SUPERCPTH_09_14, PCH_SPECS_09_14, PCH_SPECS_09_14, PCH_SPECSPTH_09_14, "
   ]
  },
  {
   "cell_type": "code",
   "execution_count": 18,
   "metadata": {},
   "outputs": [],
   "source": [
    "acess_stores.drop(columns = ['PCH_SUPERC_09_14', 'PCH_SUPERCPTH_09_14', 'PCH_SUPERCPTH_09_14', 'PCH_SPECS_09_14', 'PCH_SPECSPTH_09_14'\n",
    "                  ], inplace=True)"
   ]
  },
  {
   "cell_type": "code",
   "execution_count": 19,
   "metadata": {},
   "outputs": [
    {
     "data": {
      "text/plain": [
       "FIPS                   0\n",
       "State                  0\n",
       "County                 0\n",
       "GROC09                 0\n",
       "GROC14                 0\n",
       "PCH_GROC_09_14        20\n",
       "GROCPTH09              0\n",
       "GROCPTH14              0\n",
       "PCH_GROCPTH_09_14     15\n",
       "SUPERC09               0\n",
       "SUPERC14               0\n",
       "SUPERCPTH09            0\n",
       "SUPERCPTH14            0\n",
       "CONVS09                0\n",
       "CONVS14                0\n",
       "PCH_CONVS_09_14       24\n",
       "CONVSPTH09             0\n",
       "CONVSPTH14             0\n",
       "PCH_CONVSPTH_09_14    19\n",
       "SPECS09                0\n",
       "SPECS14                0\n",
       "SPECSPTH09             0\n",
       "SPECSPTH14             0\n",
       "SNAPS12                0\n",
       "SNAPS16               26\n",
       "PCH_SNAPS_12_16       29\n",
       "SNAPSPTH12             0\n",
       "SNAPSPTH16            29\n",
       "PCH_SNAPSPTH_12_16    32\n",
       "WICS08                 0\n",
       "WICS12                 0\n",
       "PCH_WICS_08_12        19\n",
       "WICSPTH08              0\n",
       "WICSPTH12              0\n",
       "PCH_WICSPTH_08_12     19\n",
       "dtype: int64"
      ]
     },
     "execution_count": 19,
     "metadata": {},
     "output_type": "execute_result"
    }
   ],
   "source": [
    "acess_stores.isnull().sum()"
   ]
  },
  {
   "cell_type": "code",
   "execution_count": 20,
   "metadata": {},
   "outputs": [
    {
     "data": {
      "text/plain": [
       "(3143, 35)"
      ]
     },
     "execution_count": 20,
     "metadata": {},
     "output_type": "execute_result"
    }
   ],
   "source": [
    "acess_stores.shape"
   ]
  },
  {
   "cell_type": "markdown",
   "metadata": {},
   "source": [
    "Then we will drop the other NA's since it's a small amount compared to the number of rows available"
   ]
  },
  {
   "cell_type": "code",
   "execution_count": 21,
   "metadata": {},
   "outputs": [],
   "source": [
    "acess_stores.dropna(inplace=True)"
   ]
  },
  {
   "cell_type": "code",
   "execution_count": 22,
   "metadata": {},
   "outputs": [
    {
     "data": {
      "text/plain": [
       "FIPS                  0\n",
       "State                 0\n",
       "County                0\n",
       "GROC09                0\n",
       "GROC14                0\n",
       "PCH_GROC_09_14        0\n",
       "GROCPTH09             0\n",
       "GROCPTH14             0\n",
       "PCH_GROCPTH_09_14     0\n",
       "SUPERC09              0\n",
       "SUPERC14              0\n",
       "SUPERCPTH09           0\n",
       "SUPERCPTH14           0\n",
       "CONVS09               0\n",
       "CONVS14               0\n",
       "PCH_CONVS_09_14       0\n",
       "CONVSPTH09            0\n",
       "CONVSPTH14            0\n",
       "PCH_CONVSPTH_09_14    0\n",
       "SPECS09               0\n",
       "SPECS14               0\n",
       "SPECSPTH09            0\n",
       "SPECSPTH14            0\n",
       "SNAPS12               0\n",
       "SNAPS16               0\n",
       "PCH_SNAPS_12_16       0\n",
       "SNAPSPTH12            0\n",
       "SNAPSPTH16            0\n",
       "PCH_SNAPSPTH_12_16    0\n",
       "WICS08                0\n",
       "WICS12                0\n",
       "PCH_WICS_08_12        0\n",
       "WICSPTH08             0\n",
       "WICSPTH12             0\n",
       "PCH_WICSPTH_08_12     0\n",
       "dtype: int64"
      ]
     },
     "execution_count": 22,
     "metadata": {},
     "output_type": "execute_result"
    }
   ],
   "source": [
    "acess_stores.isnull().sum()"
   ]
  },
  {
   "cell_type": "code",
   "execution_count": 23,
   "metadata": {},
   "outputs": [],
   "source": [
    "df_obesity = pd.read_excel('../Data/obesity.xlsx')"
   ]
  },
  {
   "cell_type": "code",
   "execution_count": 24,
   "metadata": {},
   "outputs": [
    {
     "data": {
      "text/html": [
       "<div>\n",
       "<style scoped>\n",
       "    .dataframe tbody tr th:only-of-type {\n",
       "        vertical-align: middle;\n",
       "    }\n",
       "\n",
       "    .dataframe tbody tr th {\n",
       "        vertical-align: top;\n",
       "    }\n",
       "\n",
       "    .dataframe thead th {\n",
       "        text-align: right;\n",
       "    }\n",
       "</style>\n",
       "<table border=\"1\" class=\"dataframe\">\n",
       "  <thead>\n",
       "    <tr style=\"text-align: right;\">\n",
       "      <th></th>\n",
       "      <th>State</th>\n",
       "      <th>County</th>\n",
       "      <th>Male obesity prevalence, 2001 (%)</th>\n",
       "      <th>Female obesity prevalence, 2001 (%)</th>\n",
       "      <th>Male obesity prevalence, 2009 (%)</th>\n",
       "      <th>Female obesity  prevalence, 2009 (%)</th>\n",
       "      <th>Male obesity  prevalence, 2011* (%)</th>\n",
       "      <th>Female obesity prevalence, 2011* (%)</th>\n",
       "      <th>Difference in male obesity prevalence, 2001-2009 (percentage points)</th>\n",
       "      <th>Difference in female obesity prevalence, 2001-2009 (percentage points)</th>\n",
       "      <th>Unnamed: 10</th>\n",
       "      <th>*Methodological changes in the 2011 BRFSS may affect comparability between the 2011 estimates and estimates from earlier years</th>\n",
       "    </tr>\n",
       "  </thead>\n",
       "  <tbody>\n",
       "    <tr>\n",
       "      <td>0</td>\n",
       "      <td>United States</td>\n",
       "      <td>NaN</td>\n",
       "      <td>26.1</td>\n",
       "      <td>28.7</td>\n",
       "      <td>32.8</td>\n",
       "      <td>35.1</td>\n",
       "      <td>33.8</td>\n",
       "      <td>36.1</td>\n",
       "      <td>6.7</td>\n",
       "      <td>6.4</td>\n",
       "      <td>NaN</td>\n",
       "      <td>NaN</td>\n",
       "    </tr>\n",
       "    <tr>\n",
       "      <td>1</td>\n",
       "      <td>Alabama</td>\n",
       "      <td>NaN</td>\n",
       "      <td>29.7</td>\n",
       "      <td>34.1</td>\n",
       "      <td>36.1</td>\n",
       "      <td>41.2</td>\n",
       "      <td>37.3</td>\n",
       "      <td>42.2</td>\n",
       "      <td>6.4</td>\n",
       "      <td>7.1</td>\n",
       "      <td>NaN</td>\n",
       "      <td>NaN</td>\n",
       "    </tr>\n",
       "    <tr>\n",
       "      <td>2</td>\n",
       "      <td>Alabama</td>\n",
       "      <td>Autauga</td>\n",
       "      <td>30.7</td>\n",
       "      <td>32.3</td>\n",
       "      <td>35.9</td>\n",
       "      <td>37.4</td>\n",
       "      <td>37.1</td>\n",
       "      <td>38.8</td>\n",
       "      <td>5.3</td>\n",
       "      <td>5.2</td>\n",
       "      <td>NaN</td>\n",
       "      <td>NaN</td>\n",
       "    </tr>\n",
       "    <tr>\n",
       "      <td>3</td>\n",
       "      <td>Alabama</td>\n",
       "      <td>Baldwin</td>\n",
       "      <td>27.8</td>\n",
       "      <td>28.3</td>\n",
       "      <td>32.4</td>\n",
       "      <td>33.0</td>\n",
       "      <td>33.5</td>\n",
       "      <td>33.9</td>\n",
       "      <td>4.5</td>\n",
       "      <td>4.6</td>\n",
       "      <td>NaN</td>\n",
       "      <td>NaN</td>\n",
       "    </tr>\n",
       "    <tr>\n",
       "      <td>4</td>\n",
       "      <td>Alabama</td>\n",
       "      <td>Barbour</td>\n",
       "      <td>32.3</td>\n",
       "      <td>42.8</td>\n",
       "      <td>40.3</td>\n",
       "      <td>51.3</td>\n",
       "      <td>41.5</td>\n",
       "      <td>51.6</td>\n",
       "      <td>8.0</td>\n",
       "      <td>8.5</td>\n",
       "      <td>NaN</td>\n",
       "      <td>NaN</td>\n",
       "    </tr>\n",
       "  </tbody>\n",
       "</table>\n",
       "</div>"
      ],
      "text/plain": [
       "           State   County  Male obesity prevalence, 2001 (%)  \\\n",
       "0  United States      NaN                               26.1   \n",
       "1        Alabama      NaN                               29.7   \n",
       "2        Alabama  Autauga                               30.7   \n",
       "3        Alabama  Baldwin                               27.8   \n",
       "4        Alabama  Barbour                               32.3   \n",
       "\n",
       "   Female obesity prevalence, 2001 (%)  Male obesity prevalence, 2009 (%)  \\\n",
       "0                                 28.7                               32.8   \n",
       "1                                 34.1                               36.1   \n",
       "2                                 32.3                               35.9   \n",
       "3                                 28.3                               32.4   \n",
       "4                                 42.8                               40.3   \n",
       "\n",
       "   Female obesity  prevalence, 2009 (%)  Male obesity  prevalence, 2011* (%)  \\\n",
       "0                                  35.1                                 33.8   \n",
       "1                                  41.2                                 37.3   \n",
       "2                                  37.4                                 37.1   \n",
       "3                                  33.0                                 33.5   \n",
       "4                                  51.3                                 41.5   \n",
       "\n",
       "   Female obesity prevalence, 2011* (%)  \\\n",
       "0                                  36.1   \n",
       "1                                  42.2   \n",
       "2                                  38.8   \n",
       "3                                  33.9   \n",
       "4                                  51.6   \n",
       "\n",
       "   Difference in male obesity prevalence, 2001-2009 (percentage points)  \\\n",
       "0                                                6.7                      \n",
       "1                                                6.4                      \n",
       "2                                                5.3                      \n",
       "3                                                4.5                      \n",
       "4                                                8.0                      \n",
       "\n",
       "   Difference in female obesity prevalence, 2001-2009 (percentage points)  \\\n",
       "0                                                6.4                        \n",
       "1                                                7.1                        \n",
       "2                                                5.2                        \n",
       "3                                                4.6                        \n",
       "4                                                8.5                        \n",
       "\n",
       "   Unnamed: 10  \\\n",
       "0          NaN   \n",
       "1          NaN   \n",
       "2          NaN   \n",
       "3          NaN   \n",
       "4          NaN   \n",
       "\n",
       "   *Methodological changes in the 2011 BRFSS may affect comparability between the 2011 estimates and estimates from earlier years  \n",
       "0                                                NaN                                                                               \n",
       "1                                                NaN                                                                               \n",
       "2                                                NaN                                                                               \n",
       "3                                                NaN                                                                               \n",
       "4                                                NaN                                                                               "
      ]
     },
     "execution_count": 24,
     "metadata": {},
     "output_type": "execute_result"
    }
   ],
   "source": [
    "df_obesity.head()"
   ]
  },
  {
   "cell_type": "code",
   "execution_count": 25,
   "metadata": {},
   "outputs": [
    {
     "data": {
      "text/plain": [
       "State                                                                                                                                0\n",
       "County                                                                                                                              52\n",
       "Male obesity prevalence, 2001 (%)                                                                                                    0\n",
       "Female obesity prevalence, 2001 (%)                                                                                                  0\n",
       "Male obesity prevalence, 2009 (%)                                                                                                    0\n",
       "Female obesity  prevalence, 2009 (%)                                                                                                 0\n",
       "Male obesity  prevalence, 2011* (%)                                                                                                  0\n",
       "Female obesity prevalence, 2011* (%)                                                                                                 0\n",
       "Difference in male obesity prevalence, 2001-2009 (percentage points)                                                                 0\n",
       "Difference in female obesity prevalence, 2001-2009 (percentage points)                                                               0\n",
       "Unnamed: 10                                                                                                                       3194\n",
       "*Methodological changes in the 2011 BRFSS may affect comparability between the 2011 estimates and estimates from earlier years    3194\n",
       "dtype: int64"
      ]
     },
     "execution_count": 25,
     "metadata": {},
     "output_type": "execute_result"
    }
   ],
   "source": [
    "df_obesity.isnull().sum()"
   ]
  },
  {
   "cell_type": "code",
   "execution_count": 26,
   "metadata": {},
   "outputs": [],
   "source": [
    "#drop the last two columns\n",
    "df_obesity.drop(columns=['Unnamed: 10', '*Methodological changes in the 2011 BRFSS may affect comparability between the 2011 estimates and estimates from earlier years'], inplace=True)"
   ]
  },
  {
   "cell_type": "code",
   "execution_count": 27,
   "metadata": {},
   "outputs": [],
   "source": [
    "df_obesity.dropna(inplace=True)"
   ]
  },
  {
   "cell_type": "code",
   "execution_count": 28,
   "metadata": {},
   "outputs": [],
   "source": [
    "df_life_expectancy = pd.read_excel('../Data/Life_Expectancy.xlsx')"
   ]
  },
  {
   "cell_type": "code",
   "execution_count": 29,
   "metadata": {},
   "outputs": [
    {
     "data": {
      "text/plain": [
       "State                                                                     0\n",
       "County                                                                    0\n",
       "Male obesity prevalence, 2001 (%)                                         0\n",
       "Female obesity prevalence, 2001 (%)                                       0\n",
       "Male obesity prevalence, 2009 (%)                                         0\n",
       "Female obesity  prevalence, 2009 (%)                                      0\n",
       "Male obesity  prevalence, 2011* (%)                                       0\n",
       "Female obesity prevalence, 2011* (%)                                      0\n",
       "Difference in male obesity prevalence, 2001-2009 (percentage points)      0\n",
       "Difference in female obesity prevalence, 2001-2009 (percentage points)    0\n",
       "dtype: int64"
      ]
     },
     "execution_count": 29,
     "metadata": {},
     "output_type": "execute_result"
    }
   ],
   "source": [
    "df_obesity.isnull().sum()"
   ]
  },
  {
   "cell_type": "code",
   "execution_count": 30,
   "metadata": {},
   "outputs": [
    {
     "data": {
      "text/plain": [
       "(3194, 16)"
      ]
     },
     "execution_count": 30,
     "metadata": {},
     "output_type": "execute_result"
    }
   ],
   "source": [
    "df_life_expectancy.shape"
   ]
  },
  {
   "cell_type": "code",
   "execution_count": 31,
   "metadata": {},
   "outputs": [
    {
     "data": {
      "text/html": [
       "<div>\n",
       "<style scoped>\n",
       "    .dataframe tbody tr th:only-of-type {\n",
       "        vertical-align: middle;\n",
       "    }\n",
       "\n",
       "    .dataframe tbody tr th {\n",
       "        vertical-align: top;\n",
       "    }\n",
       "\n",
       "    .dataframe thead th {\n",
       "        text-align: right;\n",
       "    }\n",
       "</style>\n",
       "<table border=\"1\" class=\"dataframe\">\n",
       "  <thead>\n",
       "    <tr style=\"text-align: right;\">\n",
       "      <th></th>\n",
       "      <th>State</th>\n",
       "      <th>County</th>\n",
       "      <th>Male life expectancy, 1985 (years)</th>\n",
       "      <th>Female life expectancy, 1985 (years)</th>\n",
       "      <th>Male life expectancy, 1990 (years)</th>\n",
       "      <th>Female life expectancy, 1990 (years)</th>\n",
       "      <th>Male life expectancy, 1995 (years)</th>\n",
       "      <th>Female life expectancy, 1995 (years)</th>\n",
       "      <th>Male life expectancy, 2000 (years)</th>\n",
       "      <th>Female life expectancy, 2000 (years)</th>\n",
       "      <th>Male life expectancy, 2005 (years)</th>\n",
       "      <th>Female life expectancy, 2005 (years)</th>\n",
       "      <th>Male life expectancy, 2010 (years)</th>\n",
       "      <th>Female life expectancy, 2010 (years)</th>\n",
       "      <th>Difference in male life expectancy, 1985-2010 (years)</th>\n",
       "      <th>Difference in female life expectancy, 1985-2010 (years)</th>\n",
       "    </tr>\n",
       "  </thead>\n",
       "  <tbody>\n",
       "    <tr>\n",
       "      <td>0</td>\n",
       "      <td>United States</td>\n",
       "      <td>NaN</td>\n",
       "      <td>70.8</td>\n",
       "      <td>77.8</td>\n",
       "      <td>71.5</td>\n",
       "      <td>78.3</td>\n",
       "      <td>72.5</td>\n",
       "      <td>78.8</td>\n",
       "      <td>74.1</td>\n",
       "      <td>79.2</td>\n",
       "      <td>74.9</td>\n",
       "      <td>79.9</td>\n",
       "      <td>76.1</td>\n",
       "      <td>80.8</td>\n",
       "      <td>5.2</td>\n",
       "      <td>3.0</td>\n",
       "    </tr>\n",
       "    <tr>\n",
       "      <td>1</td>\n",
       "      <td>Alabama</td>\n",
       "      <td>NaN</td>\n",
       "      <td>69.1</td>\n",
       "      <td>76.9</td>\n",
       "      <td>69.4</td>\n",
       "      <td>77.1</td>\n",
       "      <td>69.9</td>\n",
       "      <td>77.2</td>\n",
       "      <td>71.0</td>\n",
       "      <td>77.2</td>\n",
       "      <td>71.5</td>\n",
       "      <td>77.3</td>\n",
       "      <td>72.4</td>\n",
       "      <td>77.8</td>\n",
       "      <td>3.3</td>\n",
       "      <td>0.9</td>\n",
       "    </tr>\n",
       "    <tr>\n",
       "      <td>2</td>\n",
       "      <td>Alabama</td>\n",
       "      <td>Autauga</td>\n",
       "      <td>68.1</td>\n",
       "      <td>77.0</td>\n",
       "      <td>68.5</td>\n",
       "      <td>77.0</td>\n",
       "      <td>69.3</td>\n",
       "      <td>77.3</td>\n",
       "      <td>71.7</td>\n",
       "      <td>77.6</td>\n",
       "      <td>72.5</td>\n",
       "      <td>77.4</td>\n",
       "      <td>73.3</td>\n",
       "      <td>78.8</td>\n",
       "      <td>5.2</td>\n",
       "      <td>1.8</td>\n",
       "    </tr>\n",
       "    <tr>\n",
       "      <td>3</td>\n",
       "      <td>Alabama</td>\n",
       "      <td>Baldwin</td>\n",
       "      <td>71.1</td>\n",
       "      <td>78.8</td>\n",
       "      <td>71.9</td>\n",
       "      <td>79.2</td>\n",
       "      <td>72.4</td>\n",
       "      <td>79.3</td>\n",
       "      <td>73.9</td>\n",
       "      <td>79.2</td>\n",
       "      <td>73.8</td>\n",
       "      <td>79.7</td>\n",
       "      <td>75.0</td>\n",
       "      <td>80.3</td>\n",
       "      <td>3.8</td>\n",
       "      <td>1.5</td>\n",
       "    </tr>\n",
       "    <tr>\n",
       "      <td>4</td>\n",
       "      <td>Alabama</td>\n",
       "      <td>Barbour</td>\n",
       "      <td>66.8</td>\n",
       "      <td>76.0</td>\n",
       "      <td>66.7</td>\n",
       "      <td>76.7</td>\n",
       "      <td>68.4</td>\n",
       "      <td>76.9</td>\n",
       "      <td>70.0</td>\n",
       "      <td>76.2</td>\n",
       "      <td>70.5</td>\n",
       "      <td>77.0</td>\n",
       "      <td>72.2</td>\n",
       "      <td>77.2</td>\n",
       "      <td>5.3</td>\n",
       "      <td>1.1</td>\n",
       "    </tr>\n",
       "  </tbody>\n",
       "</table>\n",
       "</div>"
      ],
      "text/plain": [
       "           State   County  Male life expectancy, 1985 (years)  \\\n",
       "0  United States      NaN                                70.8   \n",
       "1        Alabama      NaN                                69.1   \n",
       "2        Alabama  Autauga                                68.1   \n",
       "3        Alabama  Baldwin                                71.1   \n",
       "4        Alabama  Barbour                                66.8   \n",
       "\n",
       "   Female life expectancy, 1985 (years)  Male life expectancy, 1990 (years)  \\\n",
       "0                                  77.8                                71.5   \n",
       "1                                  76.9                                69.4   \n",
       "2                                  77.0                                68.5   \n",
       "3                                  78.8                                71.9   \n",
       "4                                  76.0                                66.7   \n",
       "\n",
       "   Female life expectancy, 1990 (years)  Male life expectancy, 1995 (years)  \\\n",
       "0                                  78.3                                72.5   \n",
       "1                                  77.1                                69.9   \n",
       "2                                  77.0                                69.3   \n",
       "3                                  79.2                                72.4   \n",
       "4                                  76.7                                68.4   \n",
       "\n",
       "   Female life expectancy, 1995 (years)  Male life expectancy, 2000 (years)  \\\n",
       "0                                  78.8                                74.1   \n",
       "1                                  77.2                                71.0   \n",
       "2                                  77.3                                71.7   \n",
       "3                                  79.3                                73.9   \n",
       "4                                  76.9                                70.0   \n",
       "\n",
       "   Female life expectancy, 2000 (years)  Male life expectancy, 2005 (years)  \\\n",
       "0                                  79.2                                74.9   \n",
       "1                                  77.2                                71.5   \n",
       "2                                  77.6                                72.5   \n",
       "3                                  79.2                                73.8   \n",
       "4                                  76.2                                70.5   \n",
       "\n",
       "   Female life expectancy, 2005 (years)  Male life expectancy, 2010 (years)  \\\n",
       "0                                  79.9                                76.1   \n",
       "1                                  77.3                                72.4   \n",
       "2                                  77.4                                73.3   \n",
       "3                                  79.7                                75.0   \n",
       "4                                  77.0                                72.2   \n",
       "\n",
       "   Female life expectancy, 2010 (years)  \\\n",
       "0                                  80.8   \n",
       "1                                  77.8   \n",
       "2                                  78.8   \n",
       "3                                  80.3   \n",
       "4                                  77.2   \n",
       "\n",
       "   Difference in male life expectancy, 1985-2010 (years)  \\\n",
       "0                                                5.2       \n",
       "1                                                3.3       \n",
       "2                                                5.2       \n",
       "3                                                3.8       \n",
       "4                                                5.3       \n",
       "\n",
       "   Difference in female life expectancy, 1985-2010 (years)  \n",
       "0                                                3.0        \n",
       "1                                                0.9        \n",
       "2                                                1.8        \n",
       "3                                                1.5        \n",
       "4                                                1.1        "
      ]
     },
     "execution_count": 31,
     "metadata": {},
     "output_type": "execute_result"
    }
   ],
   "source": [
    "df_life_expectancy.head()"
   ]
  },
  {
   "cell_type": "code",
   "execution_count": 32,
   "metadata": {},
   "outputs": [
    {
     "data": {
      "text/plain": [
       "State                                                       0\n",
       "County                                                     52\n",
       "Male life expectancy, 1985 (years)                          0\n",
       "Female life expectancy, 1985 (years)                        0\n",
       "Male life expectancy, 1990 (years)                          0\n",
       "Female life expectancy, 1990 (years)                        0\n",
       "Male life expectancy, 1995 (years)                          0\n",
       "Female life expectancy, 1995 (years)                        0\n",
       "Male life expectancy, 2000 (years)                          0\n",
       "Female life expectancy, 2000 (years)                        0\n",
       "Male life expectancy, 2005 (years)                          0\n",
       "Female life expectancy, 2005 (years)                        0\n",
       "Male life expectancy, 2010 (years)                          0\n",
       "Female life expectancy, 2010 (years)                        0\n",
       "Difference in male life expectancy, 1985-2010 (years)       0\n",
       "Difference in female life expectancy, 1985-2010 (years)     0\n",
       "dtype: int64"
      ]
     },
     "execution_count": 32,
     "metadata": {},
     "output_type": "execute_result"
    }
   ],
   "source": [
    "df_life_expectancy.isnull().sum()"
   ]
  },
  {
   "cell_type": "code",
   "execution_count": 33,
   "metadata": {},
   "outputs": [],
   "source": [
    "df_life_expectancy.dropna(inplace=True)"
   ]
  },
  {
   "cell_type": "code",
   "execution_count": 34,
   "metadata": {},
   "outputs": [
    {
     "data": {
      "image/png": "[encoded data removed]",
      "text/plain": [
       "<Figure size 432x288 with 1 Axes>"
      ]
     },
     "metadata": {
      "needs_background": "light"
     },
     "output_type": "display_data"
    }
   ],
   "source": [
    "plt.hist(df_obesity['Female obesity prevalence, 2011* (%)'],bins=50, )\n",
    "plt.title('Obesity Rates, % in 2011', size = 14);"
   ]
  },
  {
   "cell_type": "markdown",
   "metadata": {},
   "source": [
    "States the highest percent of obesity Mississippu, Louisiana, and south Carolina. Mississipi appeared three times in the top five."
   ]
  },
  {
   "cell_type": "markdown",
   "metadata": {},
   "source": [
    "The top states for men are Kentucky, Mississippi, Louisiana, Ohio, and Texas."
   ]
  },
  {
   "cell_type": "code",
   "execution_count": 35,
   "metadata": {},
   "outputs": [
    {
     "data": {
      "text/plain": [
       "Index(['FIPS', 'State', 'County', 'PCT_DIABETES_ADULTS08',\n",
       "       'PCT_DIABETES_ADULTS13', 'PCT_OBESE_ADULTS08', 'PCT_OBESE_ADULTS13',\n",
       "       'RECFAC09', 'RECFAC14'],\n",
       "      dtype='object')"
      ]
     },
     "execution_count": 35,
     "metadata": {},
     "output_type": "execute_result"
    }
   ],
   "source": [
    "health.columns"
   ]
  },
  {
   "cell_type": "code",
   "execution_count": 36,
   "metadata": {},
   "outputs": [
    {
     "data": {
      "image/png": "[encoded data removed]",
      "text/plain": [
       "<Figure size 720x720 with 1 Axes>"
      ]
     },
     "metadata": {
      "needs_background": "light"
     },
     "output_type": "display_data"
    }
   ],
   "source": [
    "plt.figure(figsize=(10,10))\n",
    "plt.hist(health['PCT_DIABETES_ADULTS13'],bins=50, )\n",
    "plt.title('Percent of obese adults in 2013', size = 14);"
   ]
  },
  {
   "cell_type": "code",
   "execution_count": 37,
   "metadata": {},
   "outputs": [
    {
     "data": {
      "image/png": "[encoded data removed]",
      "text/plain": [
       "<Figure size 720x720 with 1 Axes>"
      ]
     },
     "metadata": {
      "needs_background": "light"
     },
     "output_type": "display_data"
    }
   ],
   "source": [
    "plt.figure(figsize=(10,10))\n",
    "#fix bins\n",
    "sns.distplot(health['PCT_DIABETES_ADULTS13'], kde = False, bins =45,hist_kws=dict(edgecolor=\"k\", linewidth=2))\n",
    "#plt.yticks(ticks = )\n",
    "plt.xlabel('Percent of Diabetic Adults') \n",
    "plt.ylabel('Counts')\n",
    "plt.title('Diabetes among Adults Distribution', fontsize = 16);"
   ]
  },
  {
   "cell_type": "code",
   "execution_count": 38,
   "metadata": {},
   "outputs": [
    {
     "data": {
      "image/png": "[encoded data removed]",
      "text/plain": [
       "<Figure size 720x720 with 1 Axes>"
      ]
     },
     "metadata": {
      "needs_background": "light"
     },
     "output_type": "display_data"
    }
   ],
   "source": [
    "plt.figure(figsize=(10,10))\n",
    "plt.scatter(acess.PCT_LACCESS_POP10, acess.PCT_LACCESS_CHILD10)\n",
    "plt.xlabel('Population, low access to store (%), 2010',size = 14)\n",
    "plt.ylabel('Children, low access to store (%), 2010',size = 14)\n",
    "plt.title('Access to Stores', size=16);"
   ]
  },
  {
   "cell_type": "code",
   "execution_count": 39,
   "metadata": {},
   "outputs": [
    {
     "data": {
      "image/png": "[encoded data removed]",
      "text/plain": [
       "<Figure size 1152x576 with 1 Axes>"
      ]
     },
     "metadata": {
      "needs_background": "light"
     },
     "output_type": "display_data"
    }
   ],
   "source": [
    "fig, ax = plt.subplots(figsize=(16,8))\n",
    "ax = sns.regplot(x='PCT_LACCESS_POP10', y='PCT_LACCESS_CHILD10', data=acess, color = 'b')\n",
    "ax.set(xlabel='Population, low access to store (%), 2010', ylabel='Children, low access to store (%), 2010') \n",
    "plt.title('Acess to Stores', fontsize = 16);\n",
    "\n"
   ]
  },
  {
   "cell_type": "markdown",
   "metadata": {},
   "source": [
    "## Merging the Datasets"
   ]
  },
  {
   "cell_type": "code",
   "execution_count": 40,
   "metadata": {},
   "outputs": [],
   "source": [
    "df_list = [health, df_obesity, df_life_expectancy, acess, acess_stores]"
   ]
  },
  {
   "cell_type": "code",
   "execution_count": 41,
   "metadata": {},
   "outputs": [],
   "source": [
    "df = pd.merge(left = health, # name column follows the left table\n",
    "    right = acess_stores,\n",
    "        on = \"FIPS\")"
   ]
  },
  {
   "cell_type": "code",
   "execution_count": 42,
   "metadata": {},
   "outputs": [],
   "source": [
    "df = pd.merge(left = df, # name column follows the left table\n",
    "    right = acess,\n",
    "        on = \"FIPS\")"
   ]
  },
  {
   "cell_type": "code",
   "execution_count": 43,
   "metadata": {},
   "outputs": [
    {
     "data": {
      "text/plain": [
       "Index(['FIPS', 'State_x', 'County_x', 'PCT_DIABETES_ADULTS08',\n",
       "       'PCT_DIABETES_ADULTS13', 'PCT_OBESE_ADULTS08', 'PCT_OBESE_ADULTS13',\n",
       "       'RECFAC09', 'RECFAC14', 'State_y', 'County_y', 'GROC09', 'GROC14',\n",
       "       'PCH_GROC_09_14', 'GROCPTH09', 'GROCPTH14', 'PCH_GROCPTH_09_14',\n",
       "       'SUPERC09', 'SUPERC14', 'SUPERCPTH09', 'SUPERCPTH14', 'CONVS09',\n",
       "       'CONVS14', 'PCH_CONVS_09_14', 'CONVSPTH09', 'CONVSPTH14',\n",
       "       'PCH_CONVSPTH_09_14', 'SPECS09', 'SPECS14', 'SPECSPTH09', 'SPECSPTH14',\n",
       "       'SNAPS12', 'SNAPS16', 'PCH_SNAPS_12_16', 'SNAPSPTH12', 'SNAPSPTH16',\n",
       "       'PCH_SNAPSPTH_12_16', 'WICS08', 'WICS12', 'PCH_WICS_08_12', 'WICSPTH08',\n",
       "       'WICSPTH12', 'PCH_WICSPTH_08_12', 'State', 'County', 'LACCESS_POP10',\n",
       "       'LACCESS_POP15', 'PCH_LACCESS_POP_10_15', 'PCT_LACCESS_POP10',\n",
       "       'PCT_LACCESS_POP15', 'LACCESS_LOWI10', 'LACCESS_LOWI15',\n",
       "       'PCH_LACCESS_LOWI_10_15', 'PCT_LACCESS_LOWI10', 'PCT_LACCESS_LOWI15',\n",
       "       'LACCESS_HHNV10', 'LACCESS_HHNV15', 'PCH_LACCESS_HHNV_10_15',\n",
       "       'PCT_LACCESS_HHNV10', 'PCT_LACCESS_HHNV15', 'LACCESS_SNAP15',\n",
       "       'PCT_LACCESS_SNAP15', 'LACCESS_CHILD10', 'LACCESS_CHILD15',\n",
       "       'LACCESS_CHILD_10_15', 'PCT_LACCESS_CHILD10', 'PCT_LACCESS_CHILD15',\n",
       "       'LACCESS_SENIORS10', 'LACCESS_SENIORS15', 'PCH_LACCESS_SENIORS_10_15',\n",
       "       'PCT_LACCESS_SENIORS10', 'PCT_LACCESS_SENIORS15', 'LACCESS_WHITE15',\n",
       "       'PCT_LACCESS_WHITE15', 'LACCESS_BLACK15', 'PCT_LACCESS_BLACK15',\n",
       "       'LACCESS_HISP15', 'PCT_LACCESS_HISP15', 'LACCESS_NHASIAN15',\n",
       "       'PCT_LACCESS_NHASIAN15', 'LACCESS_NHNA15', 'PCT_LACCESS_NHNA15',\n",
       "       'LACCESS_NHPI15', 'PCT_LACCESS_NHPI15', 'LACCESS_MULTIR15',\n",
       "       'PCT_LACCESS_MULTIR15'],\n",
       "      dtype='object')"
      ]
     },
     "execution_count": 43,
     "metadata": {},
     "output_type": "execute_result"
    }
   ],
   "source": [
    "df.columns"
   ]
  },
  {
   "cell_type": "code",
   "execution_count": 44,
   "metadata": {},
   "outputs": [],
   "source": [
    "df.drop(columns=['State_y', 'County_y'], inplace=True)"
   ]
  },
  {
   "cell_type": "code",
   "execution_count": 45,
   "metadata": {},
   "outputs": [
    {
     "data": {
      "text/plain": [
       "FIPS                         0\n",
       "State_x                      0\n",
       "County_x                     0\n",
       "PCT_DIABETES_ADULTS08        0\n",
       "PCT_DIABETES_ADULTS13        0\n",
       "PCT_OBESE_ADULTS08           0\n",
       "PCT_OBESE_ADULTS13           0\n",
       "RECFAC09                     0\n",
       "RECFAC14                     0\n",
       "GROC09                       0\n",
       "GROC14                       0\n",
       "PCH_GROC_09_14               0\n",
       "GROCPTH09                    0\n",
       "GROCPTH14                    0\n",
       "PCH_GROCPTH_09_14            0\n",
       "SUPERC09                     0\n",
       "SUPERC14                     0\n",
       "SUPERCPTH09                  0\n",
       "SUPERCPTH14                  0\n",
       "CONVS09                      0\n",
       "CONVS14                      0\n",
       "PCH_CONVS_09_14              0\n",
       "CONVSPTH09                   0\n",
       "CONVSPTH14                   0\n",
       "PCH_CONVSPTH_09_14           0\n",
       "SPECS09                      0\n",
       "SPECS14                      0\n",
       "SPECSPTH09                   0\n",
       "SPECSPTH14                   0\n",
       "SNAPS12                      0\n",
       "SNAPS16                      0\n",
       "PCH_SNAPS_12_16              0\n",
       "SNAPSPTH12                   0\n",
       "SNAPSPTH16                   0\n",
       "PCH_SNAPSPTH_12_16           0\n",
       "WICS08                       0\n",
       "WICS12                       0\n",
       "PCH_WICS_08_12               0\n",
       "WICSPTH08                    0\n",
       "WICSPTH12                    0\n",
       "PCH_WICSPTH_08_12            0\n",
       "State                        0\n",
       "County                       0\n",
       "LACCESS_POP10                0\n",
       "LACCESS_POP15                0\n",
       "PCH_LACCESS_POP_10_15        0\n",
       "PCT_LACCESS_POP10            0\n",
       "PCT_LACCESS_POP15            0\n",
       "LACCESS_LOWI10               0\n",
       "LACCESS_LOWI15               0\n",
       "PCH_LACCESS_LOWI_10_15       0\n",
       "PCT_LACCESS_LOWI10           0\n",
       "PCT_LACCESS_LOWI15           0\n",
       "LACCESS_HHNV10               0\n",
       "LACCESS_HHNV15               0\n",
       "PCH_LACCESS_HHNV_10_15       0\n",
       "PCT_LACCESS_HHNV10           0\n",
       "PCT_LACCESS_HHNV15           0\n",
       "LACCESS_SNAP15               0\n",
       "PCT_LACCESS_SNAP15           0\n",
       "LACCESS_CHILD10              0\n",
       "LACCESS_CHILD15              0\n",
       "LACCESS_CHILD_10_15          0\n",
       "PCT_LACCESS_CHILD10          0\n",
       "PCT_LACCESS_CHILD15          0\n",
       "LACCESS_SENIORS10            0\n",
       "LACCESS_SENIORS15            0\n",
       "PCH_LACCESS_SENIORS_10_15    0\n",
       "PCT_LACCESS_SENIORS10        0\n",
       "PCT_LACCESS_SENIORS15        0\n",
       "LACCESS_WHITE15              0\n",
       "PCT_LACCESS_WHITE15          0\n",
       "LACCESS_BLACK15              0\n",
       "PCT_LACCESS_BLACK15          0\n",
       "LACCESS_HISP15               0\n",
       "PCT_LACCESS_HISP15           0\n",
       "LACCESS_NHASIAN15            0\n",
       "PCT_LACCESS_NHASIAN15        0\n",
       "LACCESS_NHNA15               0\n",
       "PCT_LACCESS_NHNA15           0\n",
       "LACCESS_NHPI15               0\n",
       "PCT_LACCESS_NHPI15           0\n",
       "LACCESS_MULTIR15             0\n",
       "PCT_LACCESS_MULTIR15         0\n",
       "dtype: int64"
      ]
     },
     "execution_count": 45,
     "metadata": {},
     "output_type": "execute_result"
    }
   ],
   "source": [
    "df.isnull().sum()"
   ]
  },
  {
   "cell_type": "code",
   "execution_count": 46,
   "metadata": {},
   "outputs": [
    {
     "data": {
      "text/plain": [
       "(3026, 84)"
      ]
     },
     "execution_count": 46,
     "metadata": {},
     "output_type": "execute_result"
    }
   ],
   "source": [
    "df.shape"
   ]
  },
  {
   "cell_type": "code",
   "execution_count": 47,
   "metadata": {},
   "outputs": [],
   "source": [
    "df.dropna(inplace=True)"
   ]
  },
  {
   "cell_type": "code",
   "execution_count": 48,
   "metadata": {},
   "outputs": [
    {
     "data": {
      "text/plain": [
       "Index(['FIPS', 'State_x', 'County_x', 'PCT_DIABETES_ADULTS08',\n",
       "       'PCT_DIABETES_ADULTS13', 'PCT_OBESE_ADULTS08', 'PCT_OBESE_ADULTS13',\n",
       "       'RECFAC09', 'RECFAC14', 'GROC09', 'GROC14', 'PCH_GROC_09_14',\n",
       "       'GROCPTH09', 'GROCPTH14', 'PCH_GROCPTH_09_14', 'SUPERC09', 'SUPERC14',\n",
       "       'SUPERCPTH09', 'SUPERCPTH14', 'CONVS09', 'CONVS14', 'PCH_CONVS_09_14',\n",
       "       'CONVSPTH09', 'CONVSPTH14', 'PCH_CONVSPTH_09_14', 'SPECS09', 'SPECS14',\n",
       "       'SPECSPTH09', 'SPECSPTH14', 'SNAPS12', 'SNAPS16', 'PCH_SNAPS_12_16',\n",
       "       'SNAPSPTH12', 'SNAPSPTH16', 'PCH_SNAPSPTH_12_16', 'WICS08', 'WICS12',\n",
       "       'PCH_WICS_08_12', 'WICSPTH08', 'WICSPTH12', 'PCH_WICSPTH_08_12',\n",
       "       'State', 'County', 'LACCESS_POP10', 'LACCESS_POP15',\n",
       "       'PCH_LACCESS_POP_10_15', 'PCT_LACCESS_POP10', 'PCT_LACCESS_POP15',\n",
       "       'LACCESS_LOWI10', 'LACCESS_LOWI15', 'PCH_LACCESS_LOWI_10_15',\n",
       "       'PCT_LACCESS_LOWI10', 'PCT_LACCESS_LOWI15', 'LACCESS_HHNV10',\n",
       "       'LACCESS_HHNV15', 'PCH_LACCESS_HHNV_10_15', 'PCT_LACCESS_HHNV10',\n",
       "       'PCT_LACCESS_HHNV15', 'LACCESS_SNAP15', 'PCT_LACCESS_SNAP15',\n",
       "       'LACCESS_CHILD10', 'LACCESS_CHILD15', 'LACCESS_CHILD_10_15',\n",
       "       'PCT_LACCESS_CHILD10', 'PCT_LACCESS_CHILD15', 'LACCESS_SENIORS10',\n",
       "       'LACCESS_SENIORS15', 'PCH_LACCESS_SENIORS_10_15',\n",
       "       'PCT_LACCESS_SENIORS10', 'PCT_LACCESS_SENIORS15', 'LACCESS_WHITE15',\n",
       "       'PCT_LACCESS_WHITE15', 'LACCESS_BLACK15', 'PCT_LACCESS_BLACK15',\n",
       "       'LACCESS_HISP15', 'PCT_LACCESS_HISP15', 'LACCESS_NHASIAN15',\n",
       "       'PCT_LACCESS_NHASIAN15', 'LACCESS_NHNA15', 'PCT_LACCESS_NHNA15',\n",
       "       'LACCESS_NHPI15', 'PCT_LACCESS_NHPI15', 'LACCESS_MULTIR15',\n",
       "       'PCT_LACCESS_MULTIR15'],\n",
       "      dtype='object')"
      ]
     },
     "execution_count": 48,
     "metadata": {},
     "output_type": "execute_result"
    }
   ],
   "source": [
    "df.columns"
   ]
  },
  {
   "cell_type": "code",
   "execution_count": 49,
   "metadata": {},
   "outputs": [
    {
     "data": {
      "text/plain": [
       "11.8"
      ]
     },
     "execution_count": 49,
     "metadata": {},
     "output_type": "execute_result"
    }
   ],
   "source": [
    "df['PCT_OBESE_ADULTS13'].min()"
   ]
  },
  {
   "cell_type": "code",
   "execution_count": 50,
   "metadata": {},
   "outputs": [
    {
     "data": {
      "text/plain": [
       "47.6"
      ]
     },
     "execution_count": 50,
     "metadata": {},
     "output_type": "execute_result"
    }
   ],
   "source": [
    "df['PCT_OBESE_ADULTS13'].max()"
   ]
  },
  {
   "cell_type": "markdown",
   "metadata": {},
   "source": [
    "# EDA the Merged Dataset"
   ]
  },
  {
   "cell_type": "code",
   "execution_count": 51,
   "metadata": {},
   "outputs": [
    {
     "data": {
      "text/plain": [
       "Index(['FIPS', 'State_x', 'County_x', 'PCT_DIABETES_ADULTS08',\n",
       "       'PCT_DIABETES_ADULTS13', 'PCT_OBESE_ADULTS08', 'PCT_OBESE_ADULTS13',\n",
       "       'RECFAC09', 'RECFAC14', 'GROC09', 'GROC14', 'PCH_GROC_09_14',\n",
       "       'GROCPTH09', 'GROCPTH14', 'PCH_GROCPTH_09_14', 'SUPERC09', 'SUPERC14',\n",
       "       'SUPERCPTH09', 'SUPERCPTH14', 'CONVS09', 'CONVS14', 'PCH_CONVS_09_14',\n",
       "       'CONVSPTH09', 'CONVSPTH14', 'PCH_CONVSPTH_09_14', 'SPECS09', 'SPECS14',\n",
       "       'SPECSPTH09', 'SPECSPTH14', 'SNAPS12', 'SNAPS16', 'PCH_SNAPS_12_16',\n",
       "       'SNAPSPTH12', 'SNAPSPTH16', 'PCH_SNAPSPTH_12_16', 'WICS08', 'WICS12',\n",
       "       'PCH_WICS_08_12', 'WICSPTH08', 'WICSPTH12', 'PCH_WICSPTH_08_12',\n",
       "       'State', 'County', 'LACCESS_POP10', 'LACCESS_POP15',\n",
       "       'PCH_LACCESS_POP_10_15', 'PCT_LACCESS_POP10', 'PCT_LACCESS_POP15',\n",
       "       'LACCESS_LOWI10', 'LACCESS_LOWI15', 'PCH_LACCESS_LOWI_10_15',\n",
       "       'PCT_LACCESS_LOWI10', 'PCT_LACCESS_LOWI15', 'LACCESS_HHNV10',\n",
       "       'LACCESS_HHNV15', 'PCH_LACCESS_HHNV_10_15', 'PCT_LACCESS_HHNV10',\n",
       "       'PCT_LACCESS_HHNV15', 'LACCESS_SNAP15', 'PCT_LACCESS_SNAP15',\n",
       "       'LACCESS_CHILD10', 'LACCESS_CHILD15', 'LACCESS_CHILD_10_15',\n",
       "       'PCT_LACCESS_CHILD10', 'PCT_LACCESS_CHILD15', 'LACCESS_SENIORS10',\n",
       "       'LACCESS_SENIORS15', 'PCH_LACCESS_SENIORS_10_15',\n",
       "       'PCT_LACCESS_SENIORS10', 'PCT_LACCESS_SENIORS15', 'LACCESS_WHITE15',\n",
       "       'PCT_LACCESS_WHITE15', 'LACCESS_BLACK15', 'PCT_LACCESS_BLACK15',\n",
       "       'LACCESS_HISP15', 'PCT_LACCESS_HISP15', 'LACCESS_NHASIAN15',\n",
       "       'PCT_LACCESS_NHASIAN15', 'LACCESS_NHNA15', 'PCT_LACCESS_NHNA15',\n",
       "       'LACCESS_NHPI15', 'PCT_LACCESS_NHPI15', 'LACCESS_MULTIR15',\n",
       "       'PCT_LACCESS_MULTIR15'],\n",
       "      dtype='object')"
      ]
     },
     "execution_count": 51,
     "metadata": {},
     "output_type": "execute_result"
    }
   ],
   "source": [
    "df.columns"
   ]
  },
  {
   "cell_type": "code",
   "execution_count": 52,
   "metadata": {},
   "outputs": [],
   "source": [
    "#predicting the 13 obesity rate, drop year after\n",
    "col_list = [col for col in df.columns if '15' in col]\n",
    "df.drop(col_list, axis=1, inplace=True)"
   ]
  },
  {
   "cell_type": "code",
   "execution_count": 53,
   "metadata": {},
   "outputs": [],
   "source": [
    "col_list_2 = [col for col in df.columns if '14' in col]\n",
    "df.drop(col_list_2, axis=1, inplace=True)"
   ]
  },
  {
   "cell_type": "code",
   "execution_count": 54,
   "metadata": {},
   "outputs": [],
   "source": [
    "col_list_3 = [col for col in df.columns if '16' in col]\n",
    "df.drop(col_list_3, axis=1, inplace=True)"
   ]
  },
  {
   "cell_type": "code",
   "execution_count": 56,
   "metadata": {},
   "outputs": [
    {
     "data": {
      "text/plain": [
       "Index(['FIPS', 'State_x', 'County_x', 'PCT_DIABETES_ADULTS08',\n",
       "       'PCT_DIABETES_ADULTS13', 'PCT_OBESE_ADULTS08', 'PCT_OBESE_ADULTS13',\n",
       "       'RECFAC09', 'GROC09', 'GROCPTH09', 'SUPERC09', 'SUPERCPTH09', 'CONVS09',\n",
       "       'CONVSPTH09', 'SPECS09', 'SPECSPTH09', 'SNAPS12', 'SNAPSPTH12',\n",
       "       'WICS08', 'WICS12', 'PCH_WICS_08_12', 'WICSPTH08', 'WICSPTH12',\n",
       "       'PCH_WICSPTH_08_12', 'State', 'County', 'LACCESS_POP10',\n",
       "       'PCT_LACCESS_POP10', 'LACCESS_LOWI10', 'PCT_LACCESS_LOWI10',\n",
       "       'LACCESS_HHNV10', 'PCT_LACCESS_HHNV10', 'LACCESS_CHILD10',\n",
       "       'PCT_LACCESS_CHILD10', 'LACCESS_SENIORS10', 'PCT_LACCESS_SENIORS10'],\n",
       "      dtype='object')"
      ]
     },
     "execution_count": 56,
     "metadata": {},
     "output_type": "execute_result"
    }
   ],
   "source": [
    "df.columns"
   ]
  },
  {
   "cell_type": "markdown",
   "metadata": {},
   "source": [
    "'PCT_LACCESS_POP10' is the percent access to stores "
   ]
  },
  {
   "cell_type": "markdown",
   "metadata": {},
   "source": [
    "#### Rename Columns"
   ]
  },
  {
   "cell_type": "code",
   "execution_count": 71,
   "metadata": {},
   "outputs": [
    {
     "data": {
      "text/plain": [
       "Index(['FIPS', 'State_x', 'County_x', 'PCT_DIABETES_ADULTS08',\n",
       "       'PCT_DIABETES_ADULTS13', 'PCT_OBESE_ADULTS08', 'PCT_OBESE_ADULTS13',\n",
       "       'RECFAC09', 'GROC09', 'GROCPTH09', 'SUPERC09', 'SUPERCPTH09', 'CONVS09',\n",
       "       'CONVSPTH09', 'SPECS09', 'SPECSPTH09', 'SNAPS12', 'SNAPSPTH12',\n",
       "       'WICS08', 'WICS12', 'PCH_WICS_08_12', 'WICSPTH08', 'WICSPTH12',\n",
       "       'PCH_WICSPTH_08_12', 'State', 'County', 'LACCESS_POP10',\n",
       "       'PCT_LACCESS_POP10', 'LACCESS_LOWI10', 'PCT_LACCESS_LOWI10',\n",
       "       'LACCESS_HHNV10', 'PCT_LACCESS_HHNV10', 'LACCESS_CHILD10',\n",
       "       'PCT_LACCESS_CHILD10', 'LACCESS_SENIORS10', 'PCT_LACCESS_SENIORS10'],\n",
       "      dtype='object')"
      ]
     },
     "execution_count": 71,
     "metadata": {},
     "output_type": "execute_result"
    }
   ],
   "source": [
    "df.columns"
   ]
  },
  {
   "cell_type": "code",
   "execution_count": 74,
   "metadata": {},
   "outputs": [
    {
     "data": {
      "text/html": [
       "<div>\n",
       "<style scoped>\n",
       "    .dataframe tbody tr th:only-of-type {\n",
       "        vertical-align: middle;\n",
       "    }\n",
       "\n",
       "    .dataframe tbody tr th {\n",
       "        vertical-align: top;\n",
       "    }\n",
       "\n",
       "    .dataframe thead th {\n",
       "        text-align: right;\n",
       "    }\n",
       "</style>\n",
       "<table border=\"1\" class=\"dataframe\">\n",
       "  <thead>\n",
       "    <tr style=\"text-align: right;\">\n",
       "      <th></th>\n",
       "      <th>FIPS</th>\n",
       "      <th>State_x</th>\n",
       "      <th>County_x</th>\n",
       "      <th>PCT_DIABETES_ADULTS08</th>\n",
       "      <th>PCT_DIABETES_ADULTS13</th>\n",
       "      <th>PCT_OBESE_ADULTS08</th>\n",
       "      <th>PCT_OBESE_ADULTS13</th>\n",
       "      <th>number of fitness facilities</th>\n",
       "      <th>Count of grocery stores</th>\n",
       "      <th>GROCPTH09</th>\n",
       "      <th>...</th>\n",
       "      <th>Count of population- low access to store</th>\n",
       "      <th>PCT_LACCESS_POP10</th>\n",
       "      <th>LACCESS_LOWI10</th>\n",
       "      <th>PCT_LACCESS_LOWI10</th>\n",
       "      <th>LACCESS_HHNV10</th>\n",
       "      <th>PCT_LACCESS_HHNV10</th>\n",
       "      <th>LACCESS_CHILD10</th>\n",
       "      <th>PCT_LACCESS_CHILD10</th>\n",
       "      <th>LACCESS_SENIORS10</th>\n",
       "      <th>PCT_LACCESS_SENIORS10</th>\n",
       "    </tr>\n",
       "  </thead>\n",
       "  <tbody>\n",
       "    <tr>\n",
       "      <td>0</td>\n",
       "      <td>1001</td>\n",
       "      <td>AL</td>\n",
       "      <td>Autauga</td>\n",
       "      <td>11.4</td>\n",
       "      <td>13.0</td>\n",
       "      <td>31.5</td>\n",
       "      <td>34.1</td>\n",
       "      <td>4</td>\n",
       "      <td>6</td>\n",
       "      <td>0.110834</td>\n",
       "      <td>...</td>\n",
       "      <td>18428.439685</td>\n",
       "      <td>33.769657</td>\n",
       "      <td>5344.427472</td>\n",
       "      <td>9.793530</td>\n",
       "      <td>664.216487</td>\n",
       "      <td>3.284786</td>\n",
       "      <td>4822.500269</td>\n",
       "      <td>8.837112</td>\n",
       "      <td>2388.233228</td>\n",
       "      <td>4.376378</td>\n",
       "    </tr>\n",
       "    <tr>\n",
       "      <td>1</td>\n",
       "      <td>1003</td>\n",
       "      <td>AL</td>\n",
       "      <td>Baldwin</td>\n",
       "      <td>9.8</td>\n",
       "      <td>10.4</td>\n",
       "      <td>26.2</td>\n",
       "      <td>27.4</td>\n",
       "      <td>18</td>\n",
       "      <td>24</td>\n",
       "      <td>0.133775</td>\n",
       "      <td>...</td>\n",
       "      <td>35210.814078</td>\n",
       "      <td>19.318473</td>\n",
       "      <td>9952.144027</td>\n",
       "      <td>5.460261</td>\n",
       "      <td>1571.779915</td>\n",
       "      <td>2.147827</td>\n",
       "      <td>7916.131932</td>\n",
       "      <td>4.343199</td>\n",
       "      <td>6404.008603</td>\n",
       "      <td>3.513570</td>\n",
       "    </tr>\n",
       "    <tr>\n",
       "      <td>2</td>\n",
       "      <td>1005</td>\n",
       "      <td>AL</td>\n",
       "      <td>Barbour</td>\n",
       "      <td>13.6</td>\n",
       "      <td>18.4</td>\n",
       "      <td>37.6</td>\n",
       "      <td>44.4</td>\n",
       "      <td>1</td>\n",
       "      <td>5</td>\n",
       "      <td>0.180786</td>\n",
       "      <td>...</td>\n",
       "      <td>5722.305602</td>\n",
       "      <td>20.840972</td>\n",
       "      <td>3135.676086</td>\n",
       "      <td>11.420316</td>\n",
       "      <td>406.142372</td>\n",
       "      <td>4.135869</td>\n",
       "      <td>940.419327</td>\n",
       "      <td>3.425062</td>\n",
       "      <td>770.214550</td>\n",
       "      <td>2.805166</td>\n",
       "    </tr>\n",
       "    <tr>\n",
       "      <td>3</td>\n",
       "      <td>1007</td>\n",
       "      <td>AL</td>\n",
       "      <td>Bibb</td>\n",
       "      <td>11.1</td>\n",
       "      <td>14.8</td>\n",
       "      <td>32.3</td>\n",
       "      <td>40.3</td>\n",
       "      <td>1</td>\n",
       "      <td>6</td>\n",
       "      <td>0.261540</td>\n",
       "      <td>...</td>\n",
       "      <td>1044.867327</td>\n",
       "      <td>4.559753</td>\n",
       "      <td>491.449066</td>\n",
       "      <td>2.144661</td>\n",
       "      <td>275.060875</td>\n",
       "      <td>3.458580</td>\n",
       "      <td>249.204753</td>\n",
       "      <td>1.087518</td>\n",
       "      <td>150.553323</td>\n",
       "      <td>0.657008</td>\n",
       "    </tr>\n",
       "    <tr>\n",
       "      <td>4</td>\n",
       "      <td>1009</td>\n",
       "      <td>AL</td>\n",
       "      <td>Blount</td>\n",
       "      <td>11.4</td>\n",
       "      <td>14.1</td>\n",
       "      <td>31.9</td>\n",
       "      <td>34.6</td>\n",
       "      <td>3</td>\n",
       "      <td>6</td>\n",
       "      <td>0.104637</td>\n",
       "      <td>...</td>\n",
       "      <td>1548.175559</td>\n",
       "      <td>2.700840</td>\n",
       "      <td>609.027708</td>\n",
       "      <td>1.062468</td>\n",
       "      <td>705.466783</td>\n",
       "      <td>3.269380</td>\n",
       "      <td>384.911607</td>\n",
       "      <td>0.671490</td>\n",
       "      <td>195.049051</td>\n",
       "      <td>0.340269</td>\n",
       "    </tr>\n",
       "    <tr>\n",
       "      <td>...</td>\n",
       "      <td>...</td>\n",
       "      <td>...</td>\n",
       "      <td>...</td>\n",
       "      <td>...</td>\n",
       "      <td>...</td>\n",
       "      <td>...</td>\n",
       "      <td>...</td>\n",
       "      <td>...</td>\n",
       "      <td>...</td>\n",
       "      <td>...</td>\n",
       "      <td>...</td>\n",
       "      <td>...</td>\n",
       "      <td>...</td>\n",
       "      <td>...</td>\n",
       "      <td>...</td>\n",
       "      <td>...</td>\n",
       "      <td>...</td>\n",
       "      <td>...</td>\n",
       "      <td>...</td>\n",
       "      <td>...</td>\n",
       "      <td>...</td>\n",
       "    </tr>\n",
       "    <tr>\n",
       "      <td>3021</td>\n",
       "      <td>56037</td>\n",
       "      <td>WY</td>\n",
       "      <td>Sweetwater</td>\n",
       "      <td>6.8</td>\n",
       "      <td>8.1</td>\n",
       "      <td>29.6</td>\n",
       "      <td>31.7</td>\n",
       "      <td>4</td>\n",
       "      <td>5</td>\n",
       "      <td>0.113294</td>\n",
       "      <td>...</td>\n",
       "      <td>13391.715505</td>\n",
       "      <td>30.570505</td>\n",
       "      <td>2414.618816</td>\n",
       "      <td>5.512073</td>\n",
       "      <td>144.507890</td>\n",
       "      <td>0.877134</td>\n",
       "      <td>3583.869531</td>\n",
       "      <td>8.181230</td>\n",
       "      <td>1240.913685</td>\n",
       "      <td>2.832748</td>\n",
       "    </tr>\n",
       "    <tr>\n",
       "      <td>3022</td>\n",
       "      <td>56039</td>\n",
       "      <td>WY</td>\n",
       "      <td>Teton</td>\n",
       "      <td>4.1</td>\n",
       "      <td>4.8</td>\n",
       "      <td>13.2</td>\n",
       "      <td>12.7</td>\n",
       "      <td>10</td>\n",
       "      <td>6</td>\n",
       "      <td>0.282592</td>\n",
       "      <td>...</td>\n",
       "      <td>6212.423697</td>\n",
       "      <td>29.174527</td>\n",
       "      <td>1059.463554</td>\n",
       "      <td>4.975409</td>\n",
       "      <td>123.365110</td>\n",
       "      <td>1.374848</td>\n",
       "      <td>1096.195276</td>\n",
       "      <td>5.147907</td>\n",
       "      <td>657.168558</td>\n",
       "      <td>3.086168</td>\n",
       "    </tr>\n",
       "    <tr>\n",
       "      <td>3023</td>\n",
       "      <td>56041</td>\n",
       "      <td>WY</td>\n",
       "      <td>Uinta</td>\n",
       "      <td>6.3</td>\n",
       "      <td>9.0</td>\n",
       "      <td>30.3</td>\n",
       "      <td>27.9</td>\n",
       "      <td>2</td>\n",
       "      <td>3</td>\n",
       "      <td>0.142491</td>\n",
       "      <td>...</td>\n",
       "      <td>4270.147119</td>\n",
       "      <td>20.220414</td>\n",
       "      <td>1518.415783</td>\n",
       "      <td>7.190150</td>\n",
       "      <td>74.089696</td>\n",
       "      <td>0.966219</td>\n",
       "      <td>1336.553029</td>\n",
       "      <td>6.328975</td>\n",
       "      <td>360.545416</td>\n",
       "      <td>1.707290</td>\n",
       "    </tr>\n",
       "    <tr>\n",
       "      <td>3024</td>\n",
       "      <td>56043</td>\n",
       "      <td>WY</td>\n",
       "      <td>Washakie</td>\n",
       "      <td>10.5</td>\n",
       "      <td>12.0</td>\n",
       "      <td>24.0</td>\n",
       "      <td>27.7</td>\n",
       "      <td>3</td>\n",
       "      <td>3</td>\n",
       "      <td>0.356168</td>\n",
       "      <td>...</td>\n",
       "      <td>931.411647</td>\n",
       "      <td>10.915407</td>\n",
       "      <td>233.628356</td>\n",
       "      <td>2.737939</td>\n",
       "      <td>13.838946</td>\n",
       "      <td>0.396304</td>\n",
       "      <td>184.506884</td>\n",
       "      <td>2.162275</td>\n",
       "      <td>219.490015</td>\n",
       "      <td>2.572249</td>\n",
       "    </tr>\n",
       "    <tr>\n",
       "      <td>3025</td>\n",
       "      <td>56045</td>\n",
       "      <td>WY</td>\n",
       "      <td>Weston</td>\n",
       "      <td>7.1</td>\n",
       "      <td>10.0</td>\n",
       "      <td>28.6</td>\n",
       "      <td>29.2</td>\n",
       "      <td>1</td>\n",
       "      <td>4</td>\n",
       "      <td>0.550509</td>\n",
       "      <td>...</td>\n",
       "      <td>1240.493102</td>\n",
       "      <td>17.209949</td>\n",
       "      <td>287.543111</td>\n",
       "      <td>3.989222</td>\n",
       "      <td>44.802547</td>\n",
       "      <td>1.483037</td>\n",
       "      <td>252.789889</td>\n",
       "      <td>3.507074</td>\n",
       "      <td>214.410320</td>\n",
       "      <td>2.974616</td>\n",
       "    </tr>\n",
       "  </tbody>\n",
       "</table>\n",
       "<p>3026 rows × 36 columns</p>\n",
       "</div>"
      ],
      "text/plain": [
       "       FIPS State_x    County_x  PCT_DIABETES_ADULTS08  PCT_DIABETES_ADULTS13  \\\n",
       "0      1001      AL     Autauga                   11.4                   13.0   \n",
       "1      1003      AL     Baldwin                    9.8                   10.4   \n",
       "2      1005      AL     Barbour                   13.6                   18.4   \n",
       "3      1007      AL        Bibb                   11.1                   14.8   \n",
       "4      1009      AL      Blount                   11.4                   14.1   \n",
       "...     ...     ...         ...                    ...                    ...   \n",
       "3021  56037      WY  Sweetwater                    6.8                    8.1   \n",
       "3022  56039      WY       Teton                    4.1                    4.8   \n",
       "3023  56041      WY       Uinta                    6.3                    9.0   \n",
       "3024  56043      WY    Washakie                   10.5                   12.0   \n",
       "3025  56045      WY      Weston                    7.1                   10.0   \n",
       "\n",
       "      PCT_OBESE_ADULTS08  PCT_OBESE_ADULTS13  number of fitness facilities  \\\n",
       "0                   31.5                34.1                             4   \n",
       "1                   26.2                27.4                            18   \n",
       "2                   37.6                44.4                             1   \n",
       "3                   32.3                40.3                             1   \n",
       "4                   31.9                34.6                             3   \n",
       "...                  ...                 ...                           ...   \n",
       "3021                29.6                31.7                             4   \n",
       "3022                13.2                12.7                            10   \n",
       "3023                30.3                27.9                             2   \n",
       "3024                24.0                27.7                             3   \n",
       "3025                28.6                29.2                             1   \n",
       "\n",
       "      Count of grocery stores  GROCPTH09  ...  \\\n",
       "0                           6   0.110834  ...   \n",
       "1                          24   0.133775  ...   \n",
       "2                           5   0.180786  ...   \n",
       "3                           6   0.261540  ...   \n",
       "4                           6   0.104637  ...   \n",
       "...                       ...        ...  ...   \n",
       "3021                        5   0.113294  ...   \n",
       "3022                        6   0.282592  ...   \n",
       "3023                        3   0.142491  ...   \n",
       "3024                        3   0.356168  ...   \n",
       "3025                        4   0.550509  ...   \n",
       "\n",
       "      Count of population- low access to store  PCT_LACCESS_POP10  \\\n",
       "0                                 18428.439685          33.769657   \n",
       "1                                 35210.814078          19.318473   \n",
       "2                                  5722.305602          20.840972   \n",
       "3                                  1044.867327           4.559753   \n",
       "4                                  1548.175559           2.700840   \n",
       "...                                        ...                ...   \n",
       "3021                              13391.715505          30.570505   \n",
       "3022                               6212.423697          29.174527   \n",
       "3023                               4270.147119          20.220414   \n",
       "3024                                931.411647          10.915407   \n",
       "3025                               1240.493102          17.209949   \n",
       "\n",
       "      LACCESS_LOWI10  PCT_LACCESS_LOWI10  LACCESS_HHNV10  PCT_LACCESS_HHNV10  \\\n",
       "0        5344.427472            9.793530      664.216487            3.284786   \n",
       "1        9952.144027            5.460261     1571.779915            2.147827   \n",
       "2        3135.676086           11.420316      406.142372            4.135869   \n",
       "3         491.449066            2.144661      275.060875            3.458580   \n",
       "4         609.027708            1.062468      705.466783            3.269380   \n",
       "...              ...                 ...             ...                 ...   \n",
       "3021     2414.618816            5.512073      144.507890            0.877134   \n",
       "3022     1059.463554            4.975409      123.365110            1.374848   \n",
       "3023     1518.415783            7.190150       74.089696            0.966219   \n",
       "3024      233.628356            2.737939       13.838946            0.396304   \n",
       "3025      287.543111            3.989222       44.802547            1.483037   \n",
       "\n",
       "      LACCESS_CHILD10  PCT_LACCESS_CHILD10  LACCESS_SENIORS10  \\\n",
       "0         4822.500269             8.837112        2388.233228   \n",
       "1         7916.131932             4.343199        6404.008603   \n",
       "2          940.419327             3.425062         770.214550   \n",
       "3          249.204753             1.087518         150.553323   \n",
       "4          384.911607             0.671490         195.049051   \n",
       "...               ...                  ...                ...   \n",
       "3021      3583.869531             8.181230        1240.913685   \n",
       "3022      1096.195276             5.147907         657.168558   \n",
       "3023      1336.553029             6.328975         360.545416   \n",
       "3024       184.506884             2.162275         219.490015   \n",
       "3025       252.789889             3.507074         214.410320   \n",
       "\n",
       "      PCT_LACCESS_SENIORS10  \n",
       "0                  4.376378  \n",
       "1                  3.513570  \n",
       "2                  2.805166  \n",
       "3                  0.657008  \n",
       "4                  0.340269  \n",
       "...                     ...  \n",
       "3021               2.832748  \n",
       "3022               3.086168  \n",
       "3023               1.707290  \n",
       "3024               2.572249  \n",
       "3025               2.974616  \n",
       "\n",
       "[3026 rows x 36 columns]"
      ]
     },
     "execution_count": 74,
     "metadata": {},
     "output_type": "execute_result"
    }
   ],
   "source": [
    "df.rename(columns={'RECFAC09': 'number of fitness facilities', 'GROC09': 'Count of grocery stores', 'SUPERC':'Number of supercenters'\n",
    "                  , 'SNAPS12':'SNAP-Authorized stores', 'WICS12': 'WIC-authorized stores', 'LACCESS_POP10': 'Count of population- low access to store'})\n",
    "\n"
   ]
  },
  {
   "cell_type": "markdown",
   "metadata": {},
   "source": [
    "### Correlation "
   ]
  },
  {
   "cell_type": "code",
   "execution_count": 60,
   "metadata": {},
   "outputs": [
    {
     "data": {
      "image/png": "[encoded data removed]",
      "text/plain": [
       "<Figure size 576x432 with 1 Axes>"
      ]
     },
     "metadata": {
      "needs_background": "light"
     },
     "output_type": "display_data"
    }
   ],
   "source": [
    "ax = plt.figure(figsize=(8,6))\n",
    "ax = sns.scatterplot(x=df['PCT_OBESE_ADULTS13'], y=df['RECFAC09'], hue=df['PCT_LACCESS_POP10'],\n",
    "                 cmap='viridis', alpha=.4, legend='brief', palette='viridis');\n",
    "plt.title(\"Feature Multicollinearity\");\n",
    "plt.xlabel(\"Obesisty Rate\");\n",
    "plt.ylabel(\"The Number of Recreational and Fitness Physilities\");"
   ]
  },
  {
   "cell_type": "code",
   "execution_count": 68,
   "metadata": {},
   "outputs": [
    {
     "data": {
      "image/png": "[encoded data removed]",
      "text/plain": [
       "<Figure size 720x720 with 1 Axes>"
      ]
     },
     "metadata": {
      "needs_background": "light"
     },
     "output_type": "display_data"
    }
   ],
   "source": [
    "ax = plt.figure(figsize=(10,10))\n",
    "ax = sns.scatterplot(x=df['PCT_OBESE_ADULTS13'], y=df['PCT_DIABETES_ADULTS13'], hue=df['PCT_LACCESS_POP10'],\n",
    "                 cmap='viridis', alpha=.4, legend='brief', palette='viridis');\n",
    "plt.title(\"Feature Multicollinearity\");\n",
    "plt.xlabel(\"Obesisty Rate\");\n",
    "plt.ylabel(\"Percent Of Adulst with Diabetes\");"
   ]
  },
  {
   "cell_type": "code",
   "execution_count": 70,
   "metadata": {},
   "outputs": [
    {
     "data": {
      "image/png": "[encoded data removed]",
      "text/plain": [
       "<Figure size 720x720 with 1 Axes>"
      ]
     },
     "metadata": {
      "needs_background": "light"
     },
     "output_type": "display_data"
    }
   ],
   "source": [
    "ax = plt.figure(figsize=(10,10))\n",
    "ax = sns.scatterplot(x=df['GROC09'], y=df['SUPERC09'], hue=df['PCT_OBESE_ADULTS13'],\n",
    "                 cmap='viridis', alpha=.4, legend='brief', palette='viridis');\n",
    "plt.title(\"Feature Multicollinearity\");\n",
    "plt.xlabel(\"Grocery stores\");\n",
    "plt.ylabel(\"Supercenters\");"
   ]
  },
  {
   "cell_type": "code",
   "execution_count": null,
   "metadata": {},
   "outputs": [],
   "source": [
    "ax = plt.figure(figsize=(8,6))\n",
    "ax = sns.scatterplot(x=df['PCT_OBESE_ADULTS13'], y=df['GROC09'], hue=df['PCT_LACCESS_POP10'],\n",
    "                 cmap='viridis', alpha=.4, legend='brief', palette='viridis');\n",
    "plt.title(\"Feature Multicollinearity\");\n",
    "plt.xlabel(\"Obesisty Rate\");\n",
    "plt.ylabel(\"The Number of Recreational and Fitness Physilities\");"
   ]
  },
  {
   "cell_type": "code",
   "execution_count": 62,
   "metadata": {},
   "outputs": [],
   "source": [
    "correlation = df.corr()[['PCT_OBESE_ADULTS13']].head(10)\n",
    "sorted_coefs = abs(correlation).sort_values('PCT_OBESE_ADULTS13', ascending = False)\n",
    "    \n",
    "strong_corr = sorted_coefs[(sorted_coefs['PCT_OBESE_ADULTS13'] > .1)]"
   ]
  },
  {
   "cell_type": "code",
   "execution_count": 63,
   "metadata": {},
   "outputs": [
    {
     "data": {
      "image/png": "[encoded data removed]",
      "text/plain": [
       "<Figure size 864x864 with 2 Axes>"
      ]
     },
     "metadata": {
      "needs_background": "light"
     },
     "output_type": "display_data"
    }
   ],
   "source": [
    "fig, ax = plt.subplots(figsize=(12,12)) \n",
    "ax = sns.heatmap(strong_corr,cmap= 'viridis',\n",
    "           vmin=-1,\n",
    "           vmax=1,\n",
    "           annot=True)\n",
    "plt.title('Correlation Heatmap', fontsize = 25);"
   ]
  },
  {
   "cell_type": "markdown",
   "metadata": {},
   "source": [
    "RECFAC- is the number of Recreation & fitness facilities, 2009"
   ]
  },
  {
   "cell_type": "code",
   "execution_count": 53,
   "metadata": {},
   "outputs": [
    {
     "data": {
      "image/png": "[encoded data removed]",
      "text/plain": [
       "<Figure size 864x720 with 1 Axes>"
      ]
     },
     "metadata": {
      "needs_background": "light"
     },
     "output_type": "display_data"
    }
   ],
   "source": [
    "ax = strong_corr.head(15).plot(kind='barh', figsize = (12,10))\n",
    "ax.set(ylabel='Features', xlabel='Correlation to obesity') \n",
    "ax.invert_yaxis()\n",
    "plt.title('Correlation to Obesity', fontsize = 25);"
   ]
  },
  {
   "cell_type": "code",
   "execution_count": null,
   "metadata": {},
   "outputs": [],
   "source": [
    "plt.figure(figsize=(4,2))\n",
    "sns.heatmap(df[[\n",
    "    'medianHHIncome_15', 'povRate_15', 'pct_bachelorsHigher', 'obesityRate_13']]\\\n",
    ".corr(),\n",
    "            annot=True, cmap='viridis');"
   ]
  },
  {
   "cell_type": "markdown",
   "metadata": {},
   "source": [
    "### Pairplot of  merged dataset"
   ]
  },
  {
   "cell_type": "code",
   "execution_count": null,
   "metadata": {},
   "outputs": [],
   "source": [
    "sns.pairplot(df[['foodSwamp_14', 'pct_lowAccessInc_15','recreationFacilities_14',\n",
    "                 'natAmenityIndex','obesityRate_13']]);"
   ]
  },
  {
   "cell_type": "code",
   "execution_count": null,
   "metadata": {},
   "outputs": [],
   "source": []
  },
  {
   "cell_type": "code",
   "execution_count": null,
   "metadata": {},
   "outputs": [],
   "source": []
  },
  {
   "cell_type": "code",
   "execution_count": null,
   "metadata": {},
   "outputs": [],
   "source": []
  },
  {
   "cell_type": "code",
   "execution_count": null,
   "metadata": {},
   "outputs": [],
   "source": []
  },
  {
   "cell_type": "markdown",
   "metadata": {},
   "source": [
    "## Preprocessing"
   ]
  },
  {
   "cell_type": "code",
   "execution_count": 55,
   "metadata": {},
   "outputs": [
    {
     "data": {
      "text/plain": [
       "Index(['FIPS', 'State_x', 'County_x', 'PCT_DIABETES_ADULTS08',\n",
       "       'PCT_DIABETES_ADULTS13', 'PCT_OBESE_ADULTS08', 'PCT_OBESE_ADULTS13',\n",
       "       'RECFAC09', 'GROC09', 'GROCPTH09', 'SUPERC09', 'SUPERCPTH09', 'CONVS09',\n",
       "       'CONVSPTH09', 'SPECS09', 'SPECSPTH09', 'SNAPS12', 'SNAPSPTH12',\n",
       "       'WICS08', 'WICS12', 'PCH_WICS_08_12', 'WICSPTH08', 'WICSPTH12',\n",
       "       'PCH_WICSPTH_08_12', 'State', 'County', 'LACCESS_POP10',\n",
       "       'PCT_LACCESS_POP10', 'LACCESS_LOWI10', 'PCT_LACCESS_LOWI10',\n",
       "       'LACCESS_HHNV10', 'PCT_LACCESS_HHNV10', 'LACCESS_CHILD10',\n",
       "       'PCT_LACCESS_CHILD10', 'LACCESS_SENIORS10', 'PCT_LACCESS_SENIORS10'],\n",
       "      dtype='object')"
      ]
     },
     "execution_count": 55,
     "metadata": {},
     "output_type": "execute_result"
    }
   ],
   "source": [
    "df.columns"
   ]
  },
  {
   "cell_type": "code",
   "execution_count": 56,
   "metadata": {},
   "outputs": [
    {
     "data": {
      "text/plain": [
       "FIPS                     0\n",
       "State_x                  0\n",
       "County_x                 0\n",
       "PCT_DIABETES_ADULTS08    0\n",
       "PCT_DIABETES_ADULTS13    0\n",
       "PCT_OBESE_ADULTS08       0\n",
       "PCT_OBESE_ADULTS13       0\n",
       "RECFAC09                 0\n",
       "GROC09                   0\n",
       "GROCPTH09                0\n",
       "SUPERC09                 0\n",
       "SUPERCPTH09              0\n",
       "CONVS09                  0\n",
       "CONVSPTH09               0\n",
       "SPECS09                  0\n",
       "SPECSPTH09               0\n",
       "SNAPS12                  0\n",
       "SNAPSPTH12               0\n",
       "WICS08                   0\n",
       "WICS12                   0\n",
       "PCH_WICS_08_12           0\n",
       "WICSPTH08                0\n",
       "WICSPTH12                0\n",
       "PCH_WICSPTH_08_12        0\n",
       "State                    0\n",
       "County                   0\n",
       "LACCESS_POP10            0\n",
       "PCT_LACCESS_POP10        0\n",
       "LACCESS_LOWI10           0\n",
       "PCT_LACCESS_LOWI10       0\n",
       "LACCESS_HHNV10           0\n",
       "PCT_LACCESS_HHNV10       0\n",
       "LACCESS_CHILD10          0\n",
       "PCT_LACCESS_CHILD10      0\n",
       "LACCESS_SENIORS10        0\n",
       "PCT_LACCESS_SENIORS10    0\n",
       "dtype: int64"
      ]
     },
     "execution_count": 56,
     "metadata": {},
     "output_type": "execute_result"
    }
   ],
   "source": [
    "# I need to drop rows with over 200 null values!\n",
    "pd.set_option('display.max_rows', 200)\n",
    "df.isnull().sum()"
   ]
  },
  {
   "cell_type": "markdown",
   "metadata": {},
   "source": [
    "the access to stores - number of stores within 10 miles\n",
    "conv - convenience stores\n",
    "supermarkets \n",
    "spec - specialized stores \n",
    "Wics - Farmers markets "
   ]
  },
  {
   "cell_type": "markdown",
   "metadata": {},
   "source": [
    "## Multicollinearity"
   ]
  },
  {
   "cell_type": "code",
   "execution_count": 57,
   "metadata": {},
   "outputs": [],
   "source": [
    "corr=df.iloc[:,:-1].corr()"
   ]
  },
  {
   "cell_type": "code",
   "execution_count": 58,
   "metadata": {},
   "outputs": [
    {
     "data": {
      "text/plain": [
       "PCT_OBESE_ADULTS13       1.000000\n",
       "PCT_OBESE_ADULTS08       0.821190\n",
       "PCT_DIABETES_ADULTS13    0.691162\n",
       "PCT_DIABETES_ADULTS08    0.648299\n",
       "SNAPSPTH12               0.308744\n",
       "PCT_LACCESS_HHNV10       0.298537\n",
       "CONVSPTH09               0.168556\n",
       "SUPERCPTH09              0.078380\n",
       "WICSPTH08                0.065577\n",
       "WICSPTH12                0.047263\n",
       "Name: PCT_OBESE_ADULTS13, dtype: float64"
      ]
     },
     "execution_count": 58,
     "metadata": {},
     "output_type": "execute_result"
    }
   ],
   "source": [
    "# check for correlation \n",
    "corr = df.corr()\n",
    "corr['PCT_OBESE_ADULTS13'].sort_values(ascending=False).head(10)"
   ]
  },
  {
   "cell_type": "code",
   "execution_count": 59,
   "metadata": {},
   "outputs": [],
   "source": [
    "corr = pd.DataFrame(corr)"
   ]
  },
  {
   "cell_type": "code",
   "execution_count": 60,
   "metadata": {},
   "outputs": [
    {
     "data": {
      "text/html": [
       "<div>\n",
       "<style scoped>\n",
       "    .dataframe tbody tr th:only-of-type {\n",
       "        vertical-align: middle;\n",
       "    }\n",
       "\n",
       "    .dataframe tbody tr th {\n",
       "        vertical-align: top;\n",
       "    }\n",
       "\n",
       "    .dataframe thead th {\n",
       "        text-align: right;\n",
       "    }\n",
       "</style>\n",
       "<table border=\"1\" class=\"dataframe\">\n",
       "  <thead>\n",
       "    <tr style=\"text-align: right;\">\n",
       "      <th></th>\n",
       "      <th>FIPS</th>\n",
       "      <th>PCT_DIABETES_ADULTS08</th>\n",
       "      <th>PCT_DIABETES_ADULTS13</th>\n",
       "      <th>PCT_OBESE_ADULTS08</th>\n",
       "      <th>PCT_OBESE_ADULTS13</th>\n",
       "      <th>RECFAC09</th>\n",
       "      <th>GROC09</th>\n",
       "      <th>GROCPTH09</th>\n",
       "      <th>SUPERC09</th>\n",
       "      <th>SUPERCPTH09</th>\n",
       "      <th>...</th>\n",
       "      <th>LACCESS_POP10</th>\n",
       "      <th>PCT_LACCESS_POP10</th>\n",
       "      <th>LACCESS_LOWI10</th>\n",
       "      <th>PCT_LACCESS_LOWI10</th>\n",
       "      <th>LACCESS_HHNV10</th>\n",
       "      <th>PCT_LACCESS_HHNV10</th>\n",
       "      <th>LACCESS_CHILD10</th>\n",
       "      <th>PCT_LACCESS_CHILD10</th>\n",
       "      <th>LACCESS_SENIORS10</th>\n",
       "      <th>PCT_LACCESS_SENIORS10</th>\n",
       "    </tr>\n",
       "  </thead>\n",
       "  <tbody>\n",
       "    <tr>\n",
       "      <td>FIPS</td>\n",
       "      <td>1.000000</td>\n",
       "      <td>0.017404</td>\n",
       "      <td>-0.038185</td>\n",
       "      <td>0.005310</td>\n",
       "      <td>-0.040508</td>\n",
       "      <td>-0.051804</td>\n",
       "      <td>-0.043635</td>\n",
       "      <td>-0.012840</td>\n",
       "      <td>-0.034268</td>\n",
       "      <td>0.006282</td>\n",
       "      <td>...</td>\n",
       "      <td>-0.042382</td>\n",
       "      <td>0.044901</td>\n",
       "      <td>-0.036495</td>\n",
       "      <td>0.016687</td>\n",
       "      <td>-0.024463</td>\n",
       "      <td>-0.079863</td>\n",
       "      <td>-0.032644</td>\n",
       "      <td>0.040314</td>\n",
       "      <td>-0.063701</td>\n",
       "      <td>0.064777</td>\n",
       "    </tr>\n",
       "    <tr>\n",
       "      <td>PCT_DIABETES_ADULTS08</td>\n",
       "      <td>0.017404</td>\n",
       "      <td>1.000000</td>\n",
       "      <td>0.857698</td>\n",
       "      <td>0.723933</td>\n",
       "      <td>0.648299</td>\n",
       "      <td>-0.191461</td>\n",
       "      <td>-0.109922</td>\n",
       "      <td>-0.032712</td>\n",
       "      <td>-0.150640</td>\n",
       "      <td>0.015725</td>\n",
       "      <td>...</td>\n",
       "      <td>-0.172797</td>\n",
       "      <td>-0.151558</td>\n",
       "      <td>-0.114634</td>\n",
       "      <td>0.004709</td>\n",
       "      <td>-0.051321</td>\n",
       "      <td>0.321583</td>\n",
       "      <td>-0.172561</td>\n",
       "      <td>-0.156798</td>\n",
       "      <td>-0.153813</td>\n",
       "      <td>-0.078629</td>\n",
       "    </tr>\n",
       "    <tr>\n",
       "      <td>PCT_DIABETES_ADULTS13</td>\n",
       "      <td>-0.038185</td>\n",
       "      <td>0.857698</td>\n",
       "      <td>1.000000</td>\n",
       "      <td>0.688402</td>\n",
       "      <td>0.691162</td>\n",
       "      <td>-0.220418</td>\n",
       "      <td>-0.132464</td>\n",
       "      <td>-0.059878</td>\n",
       "      <td>-0.177922</td>\n",
       "      <td>0.019708</td>\n",
       "      <td>...</td>\n",
       "      <td>-0.207251</td>\n",
       "      <td>-0.181043</td>\n",
       "      <td>-0.151601</td>\n",
       "      <td>-0.024050</td>\n",
       "      <td>-0.082413</td>\n",
       "      <td>0.315142</td>\n",
       "      <td>-0.208262</td>\n",
       "      <td>-0.194315</td>\n",
       "      <td>-0.178219</td>\n",
       "      <td>-0.086076</td>\n",
       "    </tr>\n",
       "    <tr>\n",
       "      <td>PCT_OBESE_ADULTS08</td>\n",
       "      <td>0.005310</td>\n",
       "      <td>0.723933</td>\n",
       "      <td>0.688402</td>\n",
       "      <td>1.000000</td>\n",
       "      <td>0.821190</td>\n",
       "      <td>-0.277665</td>\n",
       "      <td>-0.188724</td>\n",
       "      <td>-0.072025</td>\n",
       "      <td>-0.167591</td>\n",
       "      <td>0.063605</td>\n",
       "      <td>...</td>\n",
       "      <td>-0.220511</td>\n",
       "      <td>-0.113933</td>\n",
       "      <td>-0.143941</td>\n",
       "      <td>0.031179</td>\n",
       "      <td>-0.104281</td>\n",
       "      <td>0.349003</td>\n",
       "      <td>-0.206182</td>\n",
       "      <td>-0.076171</td>\n",
       "      <td>-0.243685</td>\n",
       "      <td>-0.131699</td>\n",
       "    </tr>\n",
       "    <tr>\n",
       "      <td>PCT_OBESE_ADULTS13</td>\n",
       "      <td>-0.040508</td>\n",
       "      <td>0.648299</td>\n",
       "      <td>0.691162</td>\n",
       "      <td>0.821190</td>\n",
       "      <td>1.000000</td>\n",
       "      <td>-0.297827</td>\n",
       "      <td>-0.212822</td>\n",
       "      <td>-0.077832</td>\n",
       "      <td>-0.186353</td>\n",
       "      <td>0.078380</td>\n",
       "      <td>...</td>\n",
       "      <td>-0.248412</td>\n",
       "      <td>-0.128940</td>\n",
       "      <td>-0.168734</td>\n",
       "      <td>0.010433</td>\n",
       "      <td>-0.135437</td>\n",
       "      <td>0.298537</td>\n",
       "      <td>-0.234485</td>\n",
       "      <td>-0.097689</td>\n",
       "      <td>-0.260289</td>\n",
       "      <td>-0.121553</td>\n",
       "    </tr>\n",
       "  </tbody>\n",
       "</table>\n",
       "<p>5 rows × 32 columns</p>\n",
       "</div>"
      ],
      "text/plain": [
       "                           FIPS  PCT_DIABETES_ADULTS08  PCT_DIABETES_ADULTS13  \\\n",
       "FIPS                   1.000000               0.017404              -0.038185   \n",
       "PCT_DIABETES_ADULTS08  0.017404               1.000000               0.857698   \n",
       "PCT_DIABETES_ADULTS13 -0.038185               0.857698               1.000000   \n",
       "PCT_OBESE_ADULTS08     0.005310               0.723933               0.688402   \n",
       "PCT_OBESE_ADULTS13    -0.040508               0.648299               0.691162   \n",
       "\n",
       "                       PCT_OBESE_ADULTS08  PCT_OBESE_ADULTS13  RECFAC09  \\\n",
       "FIPS                             0.005310           -0.040508 -0.051804   \n",
       "PCT_DIABETES_ADULTS08            0.723933            0.648299 -0.191461   \n",
       "PCT_DIABETES_ADULTS13            0.688402            0.691162 -0.220418   \n",
       "PCT_OBESE_ADULTS08               1.000000            0.821190 -0.277665   \n",
       "PCT_OBESE_ADULTS13               0.821190            1.000000 -0.297827   \n",
       "\n",
       "                         GROC09  GROCPTH09  SUPERC09  SUPERCPTH09  ...  \\\n",
       "FIPS                  -0.043635  -0.012840 -0.034268     0.006282  ...   \n",
       "PCT_DIABETES_ADULTS08 -0.109922  -0.032712 -0.150640     0.015725  ...   \n",
       "PCT_DIABETES_ADULTS13 -0.132464  -0.059878 -0.177922     0.019708  ...   \n",
       "PCT_OBESE_ADULTS08    -0.188724  -0.072025 -0.167591     0.063605  ...   \n",
       "PCT_OBESE_ADULTS13    -0.212822  -0.077832 -0.186353     0.078380  ...   \n",
       "\n",
       "                       LACCESS_POP10  PCT_LACCESS_POP10  LACCESS_LOWI10  \\\n",
       "FIPS                       -0.042382           0.044901       -0.036495   \n",
       "PCT_DIABETES_ADULTS08      -0.172797          -0.151558       -0.114634   \n",
       "PCT_DIABETES_ADULTS13      -0.207251          -0.181043       -0.151601   \n",
       "PCT_OBESE_ADULTS08         -0.220511          -0.113933       -0.143941   \n",
       "PCT_OBESE_ADULTS13         -0.248412          -0.128940       -0.168734   \n",
       "\n",
       "                       PCT_LACCESS_LOWI10  LACCESS_HHNV10  PCT_LACCESS_HHNV10  \\\n",
       "FIPS                             0.016687       -0.024463           -0.079863   \n",
       "PCT_DIABETES_ADULTS08            0.004709       -0.051321            0.321583   \n",
       "PCT_DIABETES_ADULTS13           -0.024050       -0.082413            0.315142   \n",
       "PCT_OBESE_ADULTS08               0.031179       -0.104281            0.349003   \n",
       "PCT_OBESE_ADULTS13               0.010433       -0.135437            0.298537   \n",
       "\n",
       "                       LACCESS_CHILD10  PCT_LACCESS_CHILD10  \\\n",
       "FIPS                         -0.032644             0.040314   \n",
       "PCT_DIABETES_ADULTS08        -0.172561            -0.156798   \n",
       "PCT_DIABETES_ADULTS13        -0.208262            -0.194315   \n",
       "PCT_OBESE_ADULTS08           -0.206182            -0.076171   \n",
       "PCT_OBESE_ADULTS13           -0.234485            -0.097689   \n",
       "\n",
       "                       LACCESS_SENIORS10  PCT_LACCESS_SENIORS10  \n",
       "FIPS                           -0.063701               0.064777  \n",
       "PCT_DIABETES_ADULTS08          -0.153813              -0.078629  \n",
       "PCT_DIABETES_ADULTS13          -0.178219              -0.086076  \n",
       "PCT_OBESE_ADULTS08             -0.243685              -0.131699  \n",
       "PCT_OBESE_ADULTS13             -0.260289              -0.121553  \n",
       "\n",
       "[5 rows x 32 columns]"
      ]
     },
     "execution_count": 60,
     "metadata": {},
     "output_type": "execute_result"
    }
   ],
   "source": [
    "corr.head()"
   ]
  },
  {
   "cell_type": "code",
   "execution_count": null,
   "metadata": {},
   "outputs": [],
   "source": []
  },
  {
   "cell_type": "code",
   "execution_count": null,
   "metadata": {},
   "outputs": [],
   "source": []
  },
  {
   "cell_type": "code",
   "execution_count": null,
   "metadata": {},
   "outputs": [],
   "source": []
  },
  {
   "cell_type": "code",
   "execution_count": null,
   "metadata": {},
   "outputs": [],
   "source": []
  },
  {
   "cell_type": "code",
   "execution_count": null,
   "metadata": {},
   "outputs": [],
   "source": []
  },
  {
   "cell_type": "markdown",
   "metadata": {},
   "source": [
    "## Feature Selection"
   ]
  },
  {
   "cell_type": "markdown",
   "metadata": {},
   "source": [
    "- which features should be included\n",
    "- which features should be dropped \n",
    "- eigenvalue"
   ]
  },
  {
   "cell_type": "code",
   "execution_count": 61,
   "metadata": {},
   "outputs": [],
   "source": [
    "# dummy variables "
   ]
  },
  {
   "cell_type": "code",
   "execution_count": 62,
   "metadata": {},
   "outputs": [
    {
     "data": {
      "text/plain": [
       "FIPS                       int64\n",
       "State_x                   object\n",
       "County_x                  object\n",
       "PCT_DIABETES_ADULTS08    float64\n",
       "PCT_DIABETES_ADULTS13    float64\n",
       "PCT_OBESE_ADULTS08       float64\n",
       "PCT_OBESE_ADULTS13       float64\n",
       "RECFAC09                   int64\n",
       "GROC09                     int64\n",
       "GROCPTH09                float64\n",
       "SUPERC09                   int64\n",
       "SUPERCPTH09              float64\n",
       "CONVS09                    int64\n",
       "CONVSPTH09               float64\n",
       "SPECS09                    int64\n",
       "SPECSPTH09               float64\n",
       "SNAPS12                  float64\n",
       "SNAPSPTH12               float64\n",
       "WICS08                     int64\n",
       "WICS12                     int64\n",
       "PCH_WICS_08_12           float64\n",
       "WICSPTH08                float64\n",
       "WICSPTH12                float64\n",
       "PCH_WICSPTH_08_12        float64\n",
       "State                     object\n",
       "County                    object\n",
       "LACCESS_POP10            float64\n",
       "PCT_LACCESS_POP10        float64\n",
       "LACCESS_LOWI10           float64\n",
       "PCT_LACCESS_LOWI10       float64\n",
       "LACCESS_HHNV10           float64\n",
       "PCT_LACCESS_HHNV10       float64\n",
       "LACCESS_CHILD10          float64\n",
       "PCT_LACCESS_CHILD10      float64\n",
       "LACCESS_SENIORS10        float64\n",
       "PCT_LACCESS_SENIORS10    float64\n",
       "dtype: object"
      ]
     },
     "execution_count": 62,
     "metadata": {},
     "output_type": "execute_result"
    }
   ],
   "source": [
    "df.dtypes"
   ]
  },
  {
   "cell_type": "code",
   "execution_count": 63,
   "metadata": {},
   "outputs": [],
   "source": [
    "list_of_cols_to_dummy = ['State', 'County', 'State_x', 'County_x']"
   ]
  },
  {
   "cell_type": "code",
   "execution_count": 64,
   "metadata": {},
   "outputs": [],
   "source": [
    "df = pd.get_dummies(df, columns = list_of_cols_to_dummy, drop_first = True)"
   ]
  },
  {
   "cell_type": "markdown",
   "metadata": {},
   "source": [
    "### Random Forest to choose best features"
   ]
  },
  {
   "cell_type": "code",
   "execution_count": 196,
   "metadata": {},
   "outputs": [
    {
     "data": {
      "text/plain": [
       "RandomForestRegressor(bootstrap=True, criterion='mse', max_depth=None,\n",
       "                      max_features='auto', max_leaf_nodes=None,\n",
       "                      min_impurity_decrease=0.0, min_impurity_split=None,\n",
       "                      min_samples_leaf=1, min_samples_split=2,\n",
       "                      min_weight_fraction_leaf=0.0, n_estimators=100,\n",
       "                      n_jobs=None, oob_score=False, random_state=None,\n",
       "                      verbose=0, warm_start=False)"
      ]
     },
     "execution_count": 196,
     "metadata": {},
     "output_type": "execute_result"
    }
   ],
   "source": [
    "from sklearn.ensemble import RandomForestRegressor\n",
    "from sklearn.metrics import r2_score\n",
    "\n",
    "model = RandomForestRegressor(n_estimators = 100)\n",
    "    \n",
    "model.fit(X_train, y_train)\n"
   ]
  },
  {
   "cell_type": "code",
   "execution_count": 212,
   "metadata": {},
   "outputs": [
    {
     "data": {
      "text/html": [
       "<div>\n",
       "<style scoped>\n",
       "    .dataframe tbody tr th:only-of-type {\n",
       "        vertical-align: middle;\n",
       "    }\n",
       "\n",
       "    .dataframe tbody tr th {\n",
       "        vertical-align: top;\n",
       "    }\n",
       "\n",
       "    .dataframe thead th {\n",
       "        text-align: right;\n",
       "    }\n",
       "</style>\n",
       "<table border=\"1\" class=\"dataframe\">\n",
       "  <thead>\n",
       "    <tr style=\"text-align: right;\">\n",
       "      <th></th>\n",
       "      <th>Features</th>\n",
       "      <th>Score</th>\n",
       "    </tr>\n",
       "  </thead>\n",
       "  <tbody>\n",
       "    <tr>\n",
       "      <td>2</td>\n",
       "      <td>PCT_LACCESS_HHNV10</td>\n",
       "      <td>0.2070</td>\n",
       "    </tr>\n",
       "    <tr>\n",
       "      <td>0</td>\n",
       "      <td>State_CO</td>\n",
       "      <td>0.0889</td>\n",
       "    </tr>\n",
       "    <tr>\n",
       "      <td>1</td>\n",
       "      <td>SNAPSPTH12</td>\n",
       "      <td>0.0795</td>\n",
       "    </tr>\n",
       "    <tr>\n",
       "      <td>3</td>\n",
       "      <td>RECFAC09</td>\n",
       "      <td>0.0602</td>\n",
       "    </tr>\n",
       "    <tr>\n",
       "      <td>18</td>\n",
       "      <td>CONVSPTH09</td>\n",
       "      <td>0.0527</td>\n",
       "    </tr>\n",
       "    <tr>\n",
       "      <td>29</td>\n",
       "      <td>PCT_LACCESS_SENIORS10</td>\n",
       "      <td>0.0526</td>\n",
       "    </tr>\n",
       "    <tr>\n",
       "      <td>13</td>\n",
       "      <td>SPECSPTH09</td>\n",
       "      <td>0.0393</td>\n",
       "    </tr>\n",
       "    <tr>\n",
       "      <td>26</td>\n",
       "      <td>PCT_LACCESS_POP10</td>\n",
       "      <td>0.0338</td>\n",
       "    </tr>\n",
       "    <tr>\n",
       "      <td>25</td>\n",
       "      <td>LACCESS_HHNV10</td>\n",
       "      <td>0.0291</td>\n",
       "    </tr>\n",
       "    <tr>\n",
       "      <td>22</td>\n",
       "      <td>State_TX</td>\n",
       "      <td>0.0258</td>\n",
       "    </tr>\n",
       "  </tbody>\n",
       "</table>\n",
       "</div>"
      ],
      "text/plain": [
       "                 Features   Score\n",
       "2      PCT_LACCESS_HHNV10  0.2070\n",
       "0                State_CO  0.0889\n",
       "1              SNAPSPTH12  0.0795\n",
       "3                RECFAC09  0.0602\n",
       "18             CONVSPTH09  0.0527\n",
       "29  PCT_LACCESS_SENIORS10  0.0526\n",
       "13             SPECSPTH09  0.0393\n",
       "26      PCT_LACCESS_POP10  0.0338\n",
       "25         LACCESS_HHNV10  0.0291\n",
       "22               State_TX  0.0258"
      ]
     },
     "execution_count": 212,
     "metadata": {},
     "output_type": "execute_result"
    }
   ],
   "source": [
    "features = X_train.columns\n",
    "\n",
    "features_df = pd.DataFrame({'Features': features, 'Score': model.feature_importances_.round(4)})\n",
    "features_df.sort_values('Score', inplace=True, ascending=False)\n",
    "\n",
    "\n",
    "top_20_rf = features_df['Features'].head(20)\n",
    "\n",
    "features_df.head(10)"
   ]
  },
  {
   "cell_type": "code",
   "execution_count": 205,
   "metadata": {},
   "outputs": [],
   "source": [
    "#turning them into a list\n",
    "features = list(features_df['Features'])"
   ]
  },
  {
   "cell_type": "markdown",
   "metadata": {},
   "source": [
    "## Modelling"
   ]
  },
  {
   "cell_type": "markdown",
   "metadata": {},
   "source": [
    "### Regression Metrics Function"
   ]
  },
  {
   "cell_type": "code",
   "execution_count": 65,
   "metadata": {},
   "outputs": [],
   "source": [
    "def regression_metrics(y,preds):\n",
    "    sq_diff = (y-preds)**2 \n",
    "    MSE = metrics.mean_squared_error(y,preds)\n",
    "    RMSE = np.sqrt(MSE)\n",
    "    MAE = metrics.mean_absolute_error(y,preds)\n",
    "    print(f'This is MSE: {MSE}')\n",
    "    print(f'This is RMSE: {RMSE}')\n",
    "    #print(f'This is MAE: {MAE}')\n"
   ]
  },
  {
   "cell_type": "markdown",
   "metadata": {},
   "source": [
    "# Train/Test Split"
   ]
  },
  {
   "cell_type": "code",
   "execution_count": 66,
   "metadata": {},
   "outputs": [
    {
     "data": {
      "text/plain": [
       "Index(['FIPS', 'PCT_DIABETES_ADULTS08', 'PCT_DIABETES_ADULTS13',\n",
       "       'PCT_OBESE_ADULTS08', 'PCT_OBESE_ADULTS13', 'RECFAC09', 'GROC09',\n",
       "       'GROCPTH09', 'SUPERC09', 'SUPERCPTH09',\n",
       "       ...\n",
       "       'County_x_Yellowstone', 'County_x_Yoakum', 'County_x_Yolo',\n",
       "       'County_x_York', 'County_x_Young', 'County_x_Yuba',\n",
       "       'County_x_Yukon-Koyukuk', 'County_x_Yuma', 'County_x_Zapata',\n",
       "       'County_x_Zavala'],\n",
       "      dtype='object', length=3664)"
      ]
     },
     "execution_count": 66,
     "metadata": {},
     "output_type": "execute_result"
    }
   ],
   "source": [
    "df.columns"
   ]
  },
  {
   "cell_type": "code",
   "execution_count": 137,
   "metadata": {},
   "outputs": [],
   "source": [
    "X = df.drop(columns = ['PCT_OBESE_ADULTS13'])"
   ]
  },
  {
   "cell_type": "code",
   "execution_count": 138,
   "metadata": {},
   "outputs": [],
   "source": [
    "y = df['PCT_OBESE_ADULTS13']"
   ]
  },
  {
   "cell_type": "code",
   "execution_count": 69,
   "metadata": {},
   "outputs": [
    {
     "data": {
      "text/plain": [
       "(3026,)"
      ]
     },
     "execution_count": 69,
     "metadata": {},
     "output_type": "execute_result"
    }
   ],
   "source": [
    "y.shape"
   ]
  },
  {
   "cell_type": "code",
   "execution_count": 186,
   "metadata": {},
   "outputs": [],
   "source": [
    "X_train, X_test, y_train, y_test = train_test_split(X, y,\n",
    "                                                    test_size = .33,\n",
    "                                                    random_state=22)"
   ]
  },
  {
   "cell_type": "markdown",
   "metadata": {},
   "source": [
    "## Baseline Model"
   ]
  },
  {
   "cell_type": "code",
   "execution_count": 222,
   "metadata": {},
   "outputs": [],
   "source": [
    "# baseline for a linear regression model\n",
    "\n",
    "base_mean = DummyRegressor(strategy = 'mean')\n",
    "\n",
    "base_mean.fit(X_train, y_train)\n",
    "\n",
    "y_hat_base_train = base_mean.predict(X_train)\n",
    "y_hat_base_test = base_mean.predict(X_test)\n"
   ]
  },
  {
   "cell_type": "code",
   "execution_count": 223,
   "metadata": {},
   "outputs": [
    {
     "data": {
      "text/plain": [
       "4.453446838711558"
      ]
     },
     "execution_count": 223,
     "metadata": {},
     "output_type": "execute_result"
    }
   ],
   "source": [
    "np.sqrt(mean_squared_error(y_train, y_hat_base_train))"
   ]
  },
  {
   "cell_type": "code",
   "execution_count": 224,
   "metadata": {},
   "outputs": [
    {
     "data": {
      "text/plain": [
       "4.622503430576777"
      ]
     },
     "execution_count": 224,
     "metadata": {},
     "output_type": "execute_result"
    }
   ],
   "source": [
    "np.sqrt(mean_squared_error(y_test, y_hat_base_test))"
   ]
  },
  {
   "cell_type": "markdown",
   "metadata": {},
   "source": [
    "## Linear Regression Model with all features"
   ]
  },
  {
   "cell_type": "code",
   "execution_count": null,
   "metadata": {},
   "outputs": [],
   "source": [
    "X= df[features]\n",
    "y = df['PCT_OBESE_ADULTS13']"
   ]
  },
  {
   "cell_type": "code",
   "execution_count": null,
   "metadata": {},
   "outputs": [],
   "source": [
    "lr = LinearRegression()\n",
    "lr.fit(X_train, y_train)"
   ]
  },
  {
   "cell_type": "code",
   "execution_count": null,
   "metadata": {},
   "outputs": [],
   "source": [
    "lr.score(X_train, y_train)"
   ]
  },
  {
   "cell_type": "code",
   "execution_count": null,
   "metadata": {},
   "outputs": [],
   "source": [
    "lr.score(X_test, y_test)"
   ]
  },
  {
   "cell_type": "markdown",
   "metadata": {},
   "source": [
    "## Linear Regression Model with Correlataed features "
   ]
  },
  {
   "cell_type": "markdown",
   "metadata": {},
   "source": [
    "df['PCT_OBESE_ADULTS13'] varies from 11 to 47 so I would use linear regression instead of logistic regression since \n",
    "it's not bounded between zero and one"
   ]
  },
  {
   "cell_type": "code",
   "execution_count": 112,
   "metadata": {},
   "outputs": [],
   "source": [
    "# features will be what is correlated to sales price after the feature engineering\n",
    "correlation = df.corr()[['PCT_OBESE_ADULTS13']]\n",
    "    \n",
    "sorted_coefs = abs(correlation).sort_values('PCT_OBESE_ADULTS13', ascending = False)\n",
    "    \n",
    "strong_corr = sorted_coefs[(sorted_coefs['PCT_OBESE_ADULTS13'] > .1)]"
   ]
  },
  {
   "cell_type": "code",
   "execution_count": 113,
   "metadata": {},
   "outputs": [
    {
     "data": {
      "text/html": [
       "<div>\n",
       "<style scoped>\n",
       "    .dataframe tbody tr th:only-of-type {\n",
       "        vertical-align: middle;\n",
       "    }\n",
       "\n",
       "    .dataframe tbody tr th {\n",
       "        vertical-align: top;\n",
       "    }\n",
       "\n",
       "    .dataframe thead th {\n",
       "        text-align: right;\n",
       "    }\n",
       "</style>\n",
       "<table border=\"1\" class=\"dataframe\">\n",
       "  <thead>\n",
       "    <tr style=\"text-align: right;\">\n",
       "      <th></th>\n",
       "    </tr>\n",
       "  </thead>\n",
       "  <tbody>\n",
       "    <tr>\n",
       "      <td>PCT_OBESE_ADULTS13</td>\n",
       "    </tr>\n",
       "    <tr>\n",
       "      <td>PCT_OBESE_ADULTS08</td>\n",
       "    </tr>\n",
       "    <tr>\n",
       "      <td>PCT_DIABETES_ADULTS13</td>\n",
       "    </tr>\n",
       "    <tr>\n",
       "      <td>PCT_DIABETES_ADULTS08</td>\n",
       "    </tr>\n",
       "    <tr>\n",
       "      <td>State_CO</td>\n",
       "    </tr>\n",
       "    <tr>\n",
       "      <td>State_x_CO</td>\n",
       "    </tr>\n",
       "    <tr>\n",
       "      <td>SNAPSPTH12</td>\n",
       "    </tr>\n",
       "    <tr>\n",
       "      <td>PCT_LACCESS_HHNV10</td>\n",
       "    </tr>\n",
       "    <tr>\n",
       "      <td>RECFAC09</td>\n",
       "    </tr>\n",
       "    <tr>\n",
       "      <td>LACCESS_SENIORS10</td>\n",
       "    </tr>\n",
       "    <tr>\n",
       "      <td>LACCESS_POP10</td>\n",
       "    </tr>\n",
       "    <tr>\n",
       "      <td>SPECS09</td>\n",
       "    </tr>\n",
       "    <tr>\n",
       "      <td>LACCESS_CHILD10</td>\n",
       "    </tr>\n",
       "    <tr>\n",
       "      <td>State_x_CA</td>\n",
       "    </tr>\n",
       "    <tr>\n",
       "      <td>State_CA</td>\n",
       "    </tr>\n",
       "    <tr>\n",
       "      <td>GROC09</td>\n",
       "    </tr>\n",
       "    <tr>\n",
       "      <td>State_x_MS</td>\n",
       "    </tr>\n",
       "    <tr>\n",
       "      <td>State_MS</td>\n",
       "    </tr>\n",
       "    <tr>\n",
       "      <td>CONVS09</td>\n",
       "    </tr>\n",
       "    <tr>\n",
       "      <td>SUPERC09</td>\n",
       "    </tr>\n",
       "    <tr>\n",
       "      <td>SPECSPTH09</td>\n",
       "    </tr>\n",
       "    <tr>\n",
       "      <td>SNAPS12</td>\n",
       "    </tr>\n",
       "    <tr>\n",
       "      <td>State_x_AR</td>\n",
       "    </tr>\n",
       "    <tr>\n",
       "      <td>State_AR</td>\n",
       "    </tr>\n",
       "    <tr>\n",
       "      <td>WICS12</td>\n",
       "    </tr>\n",
       "    <tr>\n",
       "      <td>LACCESS_LOWI10</td>\n",
       "    </tr>\n",
       "    <tr>\n",
       "      <td>CONVSPTH09</td>\n",
       "    </tr>\n",
       "    <tr>\n",
       "      <td>State_x_LA</td>\n",
       "    </tr>\n",
       "    <tr>\n",
       "      <td>State_LA</td>\n",
       "    </tr>\n",
       "    <tr>\n",
       "      <td>State_x_AL</td>\n",
       "    </tr>\n",
       "    <tr>\n",
       "      <td>State_AL</td>\n",
       "    </tr>\n",
       "    <tr>\n",
       "      <td>WICS08</td>\n",
       "    </tr>\n",
       "    <tr>\n",
       "      <td>State_TX</td>\n",
       "    </tr>\n",
       "    <tr>\n",
       "      <td>State_x_TX</td>\n",
       "    </tr>\n",
       "    <tr>\n",
       "      <td>State_NM</td>\n",
       "    </tr>\n",
       "    <tr>\n",
       "      <td>State_x_NM</td>\n",
       "    </tr>\n",
       "    <tr>\n",
       "      <td>State_x_KY</td>\n",
       "    </tr>\n",
       "    <tr>\n",
       "      <td>State_KY</td>\n",
       "    </tr>\n",
       "    <tr>\n",
       "      <td>LACCESS_HHNV10</td>\n",
       "    </tr>\n",
       "    <tr>\n",
       "      <td>PCT_LACCESS_POP10</td>\n",
       "    </tr>\n",
       "    <tr>\n",
       "      <td>PCH_WICS_08_12</td>\n",
       "    </tr>\n",
       "    <tr>\n",
       "      <td>State_x_WV</td>\n",
       "    </tr>\n",
       "    <tr>\n",
       "      <td>State_WV</td>\n",
       "    </tr>\n",
       "    <tr>\n",
       "      <td>PCT_LACCESS_SENIORS10</td>\n",
       "    </tr>\n",
       "    <tr>\n",
       "      <td>State_OK</td>\n",
       "    </tr>\n",
       "    <tr>\n",
       "      <td>State_x_OK</td>\n",
       "    </tr>\n",
       "    <tr>\n",
       "      <td>State_x_MA</td>\n",
       "    </tr>\n",
       "    <tr>\n",
       "      <td>State_MA</td>\n",
       "    </tr>\n",
       "    <tr>\n",
       "      <td>State_x_NY</td>\n",
       "    </tr>\n",
       "    <tr>\n",
       "      <td>State_NY</td>\n",
       "    </tr>\n",
       "    <tr>\n",
       "      <td>State_x_SC</td>\n",
       "    </tr>\n",
       "    <tr>\n",
       "      <td>State_SC</td>\n",
       "    </tr>\n",
       "    <tr>\n",
       "      <td>State_x_MT</td>\n",
       "    </tr>\n",
       "    <tr>\n",
       "      <td>State_MT</td>\n",
       "    </tr>\n",
       "    <tr>\n",
       "      <td>State_x_UT</td>\n",
       "    </tr>\n",
       "    <tr>\n",
       "      <td>State_UT</td>\n",
       "    </tr>\n",
       "  </tbody>\n",
       "</table>\n",
       "</div>"
      ],
      "text/plain": [
       "Empty DataFrame\n",
       "Columns: []\n",
       "Index: [PCT_OBESE_ADULTS13, PCT_OBESE_ADULTS08, PCT_DIABETES_ADULTS13, PCT_DIABETES_ADULTS08, State_CO, State_x_CO, SNAPSPTH12, PCT_LACCESS_HHNV10, RECFAC09, LACCESS_SENIORS10, LACCESS_POP10, SPECS09, LACCESS_CHILD10, State_x_CA, State_CA, GROC09, State_x_MS, State_MS, CONVS09, SUPERC09, SPECSPTH09, SNAPS12, State_x_AR, State_AR, WICS12, LACCESS_LOWI10, CONVSPTH09, State_x_LA, State_LA, State_x_AL, State_AL, WICS08, State_TX, State_x_TX, State_NM, State_x_NM, State_x_KY, State_KY, LACCESS_HHNV10, PCT_LACCESS_POP10, PCH_WICS_08_12, State_x_WV, State_WV, PCT_LACCESS_SENIORS10, State_OK, State_x_OK, State_x_MA, State_MA, State_x_NY, State_NY, State_x_SC, State_SC, State_x_MT, State_MT, State_x_UT, State_UT]"
      ]
     },
     "execution_count": 113,
     "metadata": {},
     "output_type": "execute_result"
    }
   ],
   "source": [
    "strong_corr.drop(['PCT_OBESE_ADULTS13'], axis=1)"
   ]
  },
  {
   "cell_type": "code",
   "execution_count": 114,
   "metadata": {},
   "outputs": [
    {
     "data": {
      "text/plain": [
       "Index(['PCT_OBESE_ADULTS13', 'PCT_OBESE_ADULTS08', 'PCT_DIABETES_ADULTS13',\n",
       "       'PCT_DIABETES_ADULTS08', 'State_CO', 'State_x_CO', 'SNAPSPTH12',\n",
       "       'PCT_LACCESS_HHNV10', 'RECFAC09', 'LACCESS_SENIORS10', 'LACCESS_POP10',\n",
       "       'SPECS09', 'LACCESS_CHILD10', 'State_x_CA', 'State_CA', 'GROC09',\n",
       "       'State_x_MS', 'State_MS', 'CONVS09', 'SUPERC09', 'SPECSPTH09',\n",
       "       'SNAPS12', 'State_x_AR', 'State_AR', 'WICS12', 'LACCESS_LOWI10',\n",
       "       'CONVSPTH09', 'State_x_LA', 'State_LA', 'State_x_AL', 'State_AL',\n",
       "       'WICS08', 'State_TX', 'State_x_TX', 'State_NM', 'State_x_NM',\n",
       "       'State_x_KY', 'State_KY', 'LACCESS_HHNV10', 'PCT_LACCESS_POP10',\n",
       "       'PCH_WICS_08_12', 'State_x_WV', 'State_WV', 'PCT_LACCESS_SENIORS10',\n",
       "       'State_OK', 'State_x_OK', 'State_x_MA', 'State_MA', 'State_x_NY',\n",
       "       'State_NY', 'State_x_SC', 'State_SC', 'State_x_MT', 'State_MT',\n",
       "       'State_x_UT', 'State_UT'],\n",
       "      dtype='object')"
      ]
     },
     "execution_count": 114,
     "metadata": {},
     "output_type": "execute_result"
    }
   ],
   "source": [
    "strong_corr.index"
   ]
  },
  {
   "cell_type": "code",
   "execution_count": 177,
   "metadata": {},
   "outputs": [],
   "source": [
    "strong_corr_2 = strong_corr.drop(['PCT_OBESE_ADULTS13','PCT_OBESE_ADULTS08', 'State_x_CA','State_x_MS','State_x_AR','State_x_LA',\n",
    "                                 'State_x_AL', 'State_x_TX','State_x_NM','State_x_KY','State_x_OK','State_x_MA','State_x_NY',\n",
    "                                'State_x_UT', 'State_x_SC','State_x_MT','State_x_WV','State_x_CO','PCT_DIABETES_ADULTS13',\n",
    "                                  'PCT_DIABETES_ADULTS08']\n",
    "                                )"
   ]
  },
  {
   "cell_type": "code",
   "execution_count": 178,
   "metadata": {},
   "outputs": [],
   "source": [
    "features = list(strong_corr_2.index)"
   ]
  },
  {
   "cell_type": "code",
   "execution_count": 179,
   "metadata": {},
   "outputs": [],
   "source": [
    "from sklearn.linear_model import LogisticRegression, LinearRegression"
   ]
  },
  {
   "cell_type": "code",
   "execution_count": 206,
   "metadata": {},
   "outputs": [],
   "source": [
    "\n",
    "X= df[features]\n",
    "y = df['PCT_OBESE_ADULTS13']"
   ]
  },
  {
   "cell_type": "code",
   "execution_count": 207,
   "metadata": {},
   "outputs": [
    {
     "data": {
      "text/plain": [
       "Index(['PCT_LACCESS_HHNV10', 'State_CO', 'SNAPSPTH12', 'RECFAC09',\n",
       "       'CONVSPTH09', 'PCT_LACCESS_SENIORS10', 'SPECSPTH09',\n",
       "       'PCT_LACCESS_POP10', 'LACCESS_HHNV10', 'State_TX', 'GROC09',\n",
       "       'PCH_WICS_08_12', 'SNAPS12', 'LACCESS_LOWI10', 'LACCESS_SENIORS10',\n",
       "       'SPECS09', 'LACCESS_CHILD10', 'CONVS09', 'WICS08', 'WICS12',\n",
       "       'LACCESS_POP10', 'State_AL', 'State_MT', 'State_AR', 'State_MS',\n",
       "       'SUPERC09', 'State_CA', 'State_OK', 'State_NM', 'State_NY', 'State_MA',\n",
       "       'State_LA', 'State_SC', 'State_UT', 'State_WV', 'State_KY'],\n",
       "      dtype='object')"
      ]
     },
     "execution_count": 207,
     "metadata": {},
     "output_type": "execute_result"
    }
   ],
   "source": [
    "X.columns"
   ]
  },
  {
   "cell_type": "code",
   "execution_count": 208,
   "metadata": {},
   "outputs": [
    {
     "data": {
      "text/plain": [
       "LinearRegression(copy_X=True, fit_intercept=True, n_jobs=None, normalize=False)"
      ]
     },
     "execution_count": 208,
     "metadata": {},
     "output_type": "execute_result"
    }
   ],
   "source": [
    "lr = LinearRegression()\n",
    "lr.fit(X_train, y_train)"
   ]
  },
  {
   "cell_type": "code",
   "execution_count": 209,
   "metadata": {},
   "outputs": [
    {
     "data": {
      "text/plain": [
       "0.5214951199475385"
      ]
     },
     "execution_count": 209,
     "metadata": {},
     "output_type": "execute_result"
    }
   ],
   "source": [
    "lr.score(X_train, y_train)"
   ]
  },
  {
   "cell_type": "code",
   "execution_count": 210,
   "metadata": {},
   "outputs": [
    {
     "data": {
      "text/plain": [
       "array([-9.82025289e+00,  7.83917155e-01,  1.21485699e-01, -3.44348678e-02,\n",
       "       -3.71950801e-06, -8.58271840e-05, -1.23659902e-03,  2.94212513e-04,\n",
       "       -5.27890172e+00, -1.08764474e-02,  4.98923142e+00, -1.44552901e-04,\n",
       "       -3.62640138e-02, -4.34352731e+00,  7.78919499e-03,  4.28550874e+00,\n",
       "        1.21913636e-02, -2.20159371e-05,  1.32479861e-01,  4.20830099e+00,\n",
       "        4.68943984e+00, -1.65703352e-02, -2.50700136e+00, -5.35872423e+00,\n",
       "        1.95800519e+00,  4.88965711e-04, -1.72762860e-02, -5.06657957e-03,\n",
       "        2.68021869e+00,  1.35724934e-02,  3.28285609e+00, -3.97765749e+00,\n",
       "       -2.31683586e+00,  2.49589002e+00, -4.07841561e+00, -4.26370038e+00])"
      ]
     },
     "execution_count": 210,
     "metadata": {},
     "output_type": "execute_result"
    }
   ],
   "source": [
    "lr.coef_"
   ]
  },
  {
   "cell_type": "code",
   "execution_count": 211,
   "metadata": {},
   "outputs": [
    {
     "data": {
      "text/plain": [
       "0.5250150921929922"
      ]
     },
     "execution_count": 211,
     "metadata": {},
     "output_type": "execute_result"
    }
   ],
   "source": [
    "lr.score(X_test, y_test)"
   ]
  },
  {
   "cell_type": "code",
   "execution_count": 191,
   "metadata": {},
   "outputs": [],
   "source": [
    "model_1 = lr.predict(X_train)"
   ]
  },
  {
   "cell_type": "code",
   "execution_count": 192,
   "metadata": {},
   "outputs": [],
   "source": [
    "model_2 = lr.predict(X_test)"
   ]
  },
  {
   "cell_type": "code",
   "execution_count": 193,
   "metadata": {},
   "outputs": [
    {
     "name": "stdout",
     "output_type": "stream",
     "text": [
      "This is MSE: 9.490277601594098\n",
      "This is RMSE: 3.0806294164657486\n"
     ]
    }
   ],
   "source": [
    "regression_metrics(y_train,model_1)"
   ]
  },
  {
   "cell_type": "code",
   "execution_count": 194,
   "metadata": {},
   "outputs": [
    {
     "name": "stdout",
     "output_type": "stream",
     "text": [
      "This is MSE: 10.149113548201889\n",
      "This is RMSE: 3.185767340563634\n"
     ]
    }
   ],
   "source": [
    "regression_metrics(y_test,model_2)"
   ]
  },
  {
   "cell_type": "markdown",
   "metadata": {},
   "source": [
    "It is slightly better than the baseline."
   ]
  },
  {
   "cell_type": "code",
   "execution_count": 93,
   "metadata": {},
   "outputs": [],
   "source": [
    "#lr_df_coeff = pd.DataFrame({\n",
    "    #'column':df.drop(columns = ['PCT_OBESE_ADULTS13','PCT_OBESE_ADULTS08', 'FIPS']),\n",
    "    #'coef': lasso.coef_,\n",
    "    #'abs_coef': np.abs(lr.coef_)"
   ]
  },
  {
   "cell_type": "code",
   "execution_count": 94,
   "metadata": {},
   "outputs": [],
   "source": [
    "#ax = lr_df_coeff.set_index('column').head(15).sort_values(by = 'abs_coef', ascending = False).plot(kind = 'barh', figsize = (12,10))\n",
    "#ax.set(xlabel='Value Added', ylabel='Features') \n",
    "#ax.invert_yaxis()\n",
    "#plt.title('Value added by Feature', fontsize = 25);"
   ]
  },
  {
   "cell_type": "markdown",
   "metadata": {},
   "source": [
    "## Regularized Linear Regression"
   ]
  },
  {
   "cell_type": "code",
   "execution_count": 95,
   "metadata": {},
   "outputs": [],
   "source": [
    "from sklearn.preprocessing import StandardScaler"
   ]
  },
  {
   "cell_type": "code",
   "execution_count": 96,
   "metadata": {},
   "outputs": [],
   "source": [
    "#scaling to conduct ridge and lasso\n",
    "sc = StandardScaler()\n",
    "Z_train = sc.fit_transform(X_train)\n",
    "Z_test = sc.transform(X_test)"
   ]
  },
  {
   "cell_type": "code",
   "execution_count": 97,
   "metadata": {},
   "outputs": [],
   "source": [
    "from sklearn.linear_model import Lasso"
   ]
  },
  {
   "cell_type": "code",
   "execution_count": 98,
   "metadata": {},
   "outputs": [],
   "source": [
    "from sklearn.linear_model import LassoCV"
   ]
  },
  {
   "cell_type": "markdown",
   "metadata": {},
   "source": [
    "#### Scale"
   ]
  },
  {
   "cell_type": "code",
   "execution_count": 213,
   "metadata": {},
   "outputs": [],
   "source": [
    "#scaling to conduct ridge and lasso\n",
    "sc = StandardScaler()\n",
    "Z_train = sc.fit_transform(X_train)\n",
    "Z_test = sc.transform(X_test)"
   ]
  },
  {
   "cell_type": "markdown",
   "metadata": {},
   "source": [
    "#### Lasso"
   ]
  },
  {
   "cell_type": "code",
   "execution_count": 218,
   "metadata": {},
   "outputs": [],
   "source": [
    "from sklearn.linear_model import Lasso, Ridge\n",
    "from sklearn.model_selection import GridSearchCV\n",
    "from sklearn.linear_model import RidgeCV"
   ]
  },
  {
   "cell_type": "code",
   "execution_count": 226,
   "metadata": {},
   "outputs": [
    {
     "data": {
      "text/plain": [
       "LassoCV(alphas=array([0.001     , 0.00107227, 0.00114976, 0.00123285, 0.00132194,\n",
       "       0.00141747, 0.00151991, 0.00162975, 0.00174753, 0.00187382,\n",
       "       0.00200923, 0.00215443, 0.00231013, 0.00247708, 0.00265609,\n",
       "       0.00284804, 0.00305386, 0.00327455, 0.00351119, 0.00376494,\n",
       "       0.00403702, 0.00432876, 0.00464159, 0.00497702, 0.0053367 ,\n",
       "       0.00572237, 0.00613591, 0.00657933, 0.0070548 , 0.00756463,\n",
       "       0.008...\n",
       "       0.37649358, 0.40370173, 0.43287613, 0.46415888, 0.49770236,\n",
       "       0.53366992, 0.57223677, 0.61359073, 0.65793322, 0.70548023,\n",
       "       0.75646333, 0.81113083, 0.869749  , 0.93260335, 1.        ]),\n",
       "        copy_X=True, cv=5, eps=0.001, fit_intercept=True, max_iter=5000,\n",
       "        n_alphas=100, n_jobs=None, normalize=False, positive=False,\n",
       "        precompute='auto', random_state=None, selection='cyclic', tol=0.0001,\n",
       "        verbose=False)"
      ]
     },
     "execution_count": 226,
     "metadata": {},
     "output_type": "execute_result"
    }
   ],
   "source": [
    "lasso_alphas = np.logspace(-3,0,100)\n",
    "\n",
    "lasso = LassoCV(alphas=lasso_alphas,\n",
    "               cv=5, max_iter=5000)\n",
    "\n",
    "# Cross-validate over our list of Lasso alphas.\n",
    "lasso.fit(Z_train, y_train)"
   ]
  },
  {
   "cell_type": "code",
   "execution_count": 227,
   "metadata": {},
   "outputs": [
    {
     "data": {
      "text/plain": [
       "0.517396782443531"
      ]
     },
     "execution_count": 227,
     "metadata": {},
     "output_type": "execute_result"
    }
   ],
   "source": [
    "lasso.score(Z_train, y_train)"
   ]
  },
  {
   "cell_type": "code",
   "execution_count": 228,
   "metadata": {},
   "outputs": [
    {
     "data": {
      "text/plain": [
       "0.5258324652060221"
      ]
     },
     "execution_count": 228,
     "metadata": {},
     "output_type": "execute_result"
    }
   ],
   "source": [
    "lasso.score(Z_test, y_test)"
   ]
  },
  {
   "cell_type": "markdown",
   "metadata": {},
   "source": [
    "#### Ridge"
   ]
  },
  {
   "cell_type": "code",
   "execution_count": 216,
   "metadata": {},
   "outputs": [
    {
     "name": "stdout",
     "output_type": "stream",
     "text": [
      "0.5213252584991113\n",
      "0.5260474718030888\n"
     ]
    }
   ],
   "source": [
    "ridge = Ridge()\n",
    "ridge.fit(Z_train, y_train)\n",
    "print(ridge.score(Z_train, y_train))\n",
    "print(ridge.score(Z_test, y_test))"
   ]
  },
  {
   "cell_type": "code",
   "execution_count": 219,
   "metadata": {},
   "outputs": [
    {
     "data": {
      "text/plain": [
       "RidgeCV(alphas=array([1.00000000e+00, 1.12332403e+00, 1.26185688e+00, 1.41747416e+00,\n",
       "       1.59228279e+00, 1.78864953e+00, 2.00923300e+00, 2.25701972e+00,\n",
       "       2.53536449e+00, 2.84803587e+00, 3.19926714e+00, 3.59381366e+00,\n",
       "       4.03701726e+00, 4.53487851e+00, 5.09413801e+00, 5.72236766e+00,\n",
       "       6.42807312e+00, 7.22080902e+00, 8.11130831e+00, 9.11162756e+00,\n",
       "       1.02353102e+01, 1.14975700e+0...\n",
       "       1.09749877e+04, 1.23284674e+04, 1.38488637e+04, 1.55567614e+04,\n",
       "       1.74752840e+04, 1.96304065e+04, 2.20513074e+04, 2.47707636e+04,\n",
       "       2.78255940e+04, 3.12571585e+04, 3.51119173e+04, 3.94420606e+04,\n",
       "       4.43062146e+04, 4.97702356e+04, 5.59081018e+04, 6.28029144e+04,\n",
       "       7.05480231e+04, 7.92482898e+04, 8.90215085e+04, 1.00000000e+05]),\n",
       "        cv=5, fit_intercept=True, gcv_mode=None, normalize=False, scoring='r2',\n",
       "        store_cv_values=False)"
      ]
     },
     "execution_count": 219,
     "metadata": {},
     "output_type": "execute_result"
    }
   ],
   "source": [
    "ridge_alphas = np.logspace(0,5,100)\n",
    "# then converts them to alphas between 10^0 and 10^5.\n",
    "ridge_cv = RidgeCV(alphas = ridge_alphas, scoring = 'r2', cv=5)\n",
    "# Cross-validate over our list of ridge alphas.\n",
    "\n",
    "# Fit model using best ridge alpha!\n",
    "ridge_cv.fit(Z_train, y_train)"
   ]
  },
  {
   "cell_type": "code",
   "execution_count": 220,
   "metadata": {},
   "outputs": [
    {
     "data": {
      "text/plain": [
       "0.5133631524151004"
      ]
     },
     "execution_count": 220,
     "metadata": {},
     "output_type": "execute_result"
    }
   ],
   "source": [
    "ridge_cv.score(Z_train, y_train)"
   ]
  },
  {
   "cell_type": "code",
   "execution_count": 221,
   "metadata": {},
   "outputs": [
    {
     "data": {
      "text/plain": [
       "0.5298378946520677"
      ]
     },
     "execution_count": 221,
     "metadata": {},
     "output_type": "execute_result"
    }
   ],
   "source": [
    "ridge_cv.score(Z_test, y_test)"
   ]
  },
  {
   "cell_type": "markdown",
   "metadata": {},
   "source": [
    "#### PCA"
   ]
  },
  {
   "cell_type": "code",
   "execution_count": null,
   "metadata": {},
   "outputs": [],
   "source": []
  },
  {
   "cell_type": "code",
   "execution_count": null,
   "metadata": {},
   "outputs": [],
   "source": []
  },
  {
   "cell_type": "code",
   "execution_count": null,
   "metadata": {},
   "outputs": [],
   "source": []
  },
  {
   "cell_type": "code",
   "execution_count": null,
   "metadata": {},
   "outputs": [],
   "source": []
  },
  {
   "cell_type": "code",
   "execution_count": null,
   "metadata": {},
   "outputs": [],
   "source": []
  },
  {
   "cell_type": "markdown",
   "metadata": {},
   "source": [
    "## Predictions"
   ]
  },
  {
   "cell_type": "code",
   "execution_count": null,
   "metadata": {},
   "outputs": [],
   "source": [
    "plt.figure(figsize=(14,8))\n",
    "ax = sns.scatterplot(predictions, y, hue=Xs['natAmenityIndex'], palette='viridis', legend=\"brief\");\n",
    "ax.set(xlabel=\"Predicted Obesity Rate\", ylabel=\"Actual Obesity Rate\", title=\"Predictions vs Actual\");"
   ]
  },
  {
   "cell_type": "code",
   "execution_count": null,
   "metadata": {},
   "outputs": [],
   "source": []
  },
  {
   "cell_type": "markdown",
   "metadata": {},
   "source": [
    "### Table of results"
   ]
  },
  {
   "cell_type": "code",
   "execution_count": null,
   "metadata": {},
   "outputs": [],
   "source": []
  },
  {
   "cell_type": "markdown",
   "metadata": {},
   "source": [
    "# Limitations"
   ]
  },
  {
   "cell_type": "code",
   "execution_count": null,
   "metadata": {},
   "outputs": [],
   "source": []
  },
  {
   "cell_type": "code",
   "execution_count": null,
   "metadata": {},
   "outputs": [],
   "source": []
  },
  {
   "cell_type": "markdown",
   "metadata": {},
   "source": [
    "# Conclusions"
   ]
  },
  {
   "cell_type": "code",
   "execution_count": null,
   "metadata": {},
   "outputs": [],
   "source": [
    "#table of the best scores "
   ]
  },
  {
   "cell_type": "code",
   "execution_count": null,
   "metadata": {},
   "outputs": [],
   "source": [
    "#best features "
   ]
  },
  {
   "cell_type": "code",
   "execution_count": null,
   "metadata": {},
   "outputs": [],
   "source": []
  },
  {
   "cell_type": "code",
   "execution_count": null,
   "metadata": {},
   "outputs": [],
   "source": []
  }
 ],
 "metadata": {
  "kernelspec": {
   "display_name": "Python 3",
   "language": "python",
   "name": "python3"
  },
  "language_info": {
   "codemirror_mode": {
    "name": "ipython",
    "version": 3
   },
   "file_extension": ".py",
   "mimetype": "text/x-python",
   "name": "python",
   "nbconvert_exporter": "python",
   "pygments_lexer": "ipython3",
   "version": "3.7.4"
  }
 },
 "nbformat": 4,
 "nbformat_minor": 2
}
